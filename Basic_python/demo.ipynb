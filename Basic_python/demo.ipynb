{
 "cells": [
  {
   "cell_type": "code",
   "execution_count": 1,
   "metadata": {},
   "outputs": [
    {
     "name": "stdout",
     "output_type": "stream",
     "text": [
      "Hello World\n"
     ]
    }
   ],
   "source": [
    "#1.WAS to print \"Hello world\" \n",
    "print(\"Hello World\")"
   ]
  },
  {
   "cell_type": "code",
   "execution_count": 8,
   "metadata": {},
   "outputs": [
    {
     "name": "stdout",
     "output_type": "stream",
     "text": [
      "50\n"
     ]
    }
   ],
   "source": [
    "#2.WAS to initialize variable and value.\n",
    "a=50\n",
    "print(a)"
   ]
  },
  {
   "cell_type": "code",
   "execution_count": 9,
   "metadata": {},
   "outputs": [
    {
     "name": "stdout",
     "output_type": "stream",
     "text": [
      "150 120 250\n"
     ]
    }
   ],
   "source": [
    "#3.WAS to initialize multivariable values are 150,120,250.\n",
    "a,b,c=150,120,250\n",
    "print(a,b,c)\n"
   ]
  },
  {
   "cell_type": "code",
   "execution_count": 14,
   "metadata": {},
   "outputs": [
    {
     "data": {
      "text/plain": [
       "list"
      ]
     },
     "execution_count": 14,
     "metadata": {},
     "output_type": "execute_result"
    }
   ],
   "source": [
    "#4.WAS to print type of the data in given  value.\n",
    "a=[1,2,3]\n",
    "type(a)\n"
   ]
  },
  {
   "cell_type": "code",
   "execution_count": 15,
   "metadata": {},
   "outputs": [
    {
     "data": {
      "text/plain": [
       "2567554494224"
      ]
     },
     "execution_count": 15,
     "metadata": {},
     "output_type": "execute_result"
    }
   ],
   "source": [
    "#5.WAS to print the address of the memory block in given value.\n",
    "a=15.06\n",
    "id(a)"
   ]
  },
  {
   "cell_type": "code",
   "execution_count": 19,
   "metadata": {},
   "outputs": [
    {
     "name": "stdout",
     "output_type": "stream",
     "text": [
      "bhagya\n",
      "21\n",
      "9390899287 bhagyavangapandu@gmail.com\n"
     ]
    }
   ],
   "source": [
    "#6.WAS to print  your details,first store your details,extract the values and display it.\n",
    "name=\"bhagya\"\n",
    "age=21\n",
    "phone=9390899287\n",
    "email=\"bhagyavangapandu@gmail.com\"\n",
    "print(name)\n",
    "print(age)\n",
    "print(phone,email)"
   ]
  },
  {
   "cell_type": "code",
   "execution_count": 20,
   "metadata": {},
   "outputs": [
    {
     "name": "stdout",
     "output_type": "stream",
     "text": [
      "byee\n",
      "haii\n"
     ]
    }
   ],
   "source": [
    " #7.WAS to swap the two values with a temp variable.\n",
    "x=\"haii\"\n",
    "y=\"byee\"\n",
    "temp=x\n",
    "x=y\n",
    "y=temp\n",
    "print(x)\n",
    "print(y)\n"
   ]
  },
  {
   "cell_type": "code",
   "execution_count": 21,
   "metadata": {},
   "outputs": [
    {
     "name": "stdout",
     "output_type": "stream",
     "text": [
      "{10, 20, 30} (1, 2, 3)\n"
     ]
    }
   ],
   "source": [
    "#8.without temp variable.\n",
    "m=(1,2,3)\n",
    "n={10,20,30}\n",
    "m,n=n,m\n",
    "print(m,n)"
   ]
  },
  {
   "cell_type": "code",
   "execution_count": 24,
   "metadata": {},
   "outputs": [
    {
     "name": "stdout",
     "output_type": "stream",
     "text": [
      "{'a': 'pyspiders'}\n",
      "pyspiders\n",
      "{'a': 'qspiders'}\n",
      "qspiders\n",
      "[10, 20, 30]\n",
      "[10, 20, 30, 40, 50]\n"
     ]
    }
   ],
   "source": [
    "#9.WAS to initialize a value and print the value,after print the value,then reinitialize the new value to the existing variable and display the value.\n",
    "a={'a':\"pyspiders\"}\n",
    "print(a)\n",
    "print(a['a'])\n",
    "a['a']=\"qspiders\"\n",
    "print(a)\n",
    "print(a['a'])\n",
    "a=[10,20,30]\n",
    "print(a)\n",
    "a+=[40,50]\n",
    "print(a)\n",
    "del(a)\n"
   ]
  },
  {
   "cell_type": "code",
   "execution_count": 25,
   "metadata": {},
   "outputs": [
    {
     "name": "stdout",
     "output_type": "stream",
     "text": [
      "['1', '0']\n"
     ]
    }
   ],
   "source": [
    "#10.WAS to covert single to multi value data types.\n",
    "a=10\n",
    "print(list(str(a)))"
   ]
  },
  {
   "cell_type": "code",
   "execution_count": 26,
   "metadata": {},
   "outputs": [
    {
     "name": "stdout",
     "output_type": "stream",
     "text": [
      "helloworld\n",
      "[10, 20, 30, 50, 60]\n",
      "(1, 2, 3, 7, 8)\n",
      "{80, 10.06, 6, 70, 10, 'haii'}\n",
      "{10: 20, 40: 50, 'a': 'ok', 'b': 'its ok'}\n",
      "['10,20,30', 'h', 'a', 'i', 'i']\n",
      "[4, 5, 6, 10, 20]\n",
      "[8, 9, 80, 10, 30]\n"
     ]
    }
   ],
   "source": [
    "#11.WAS to concat the two multi value data types (str,list,tuple,set,dict)\n",
    "x=\"hello\"\n",
    "x+=\"world\"\n",
    "print(x)\n",
    "y=[10,20,30]\n",
    "y+=[50,60]\n",
    "print(y)\n",
    "z=(1,2,3)\n",
    "z+=(7,8)\n",
    "print(z)\n",
    "m={\"haii\",10,10.06,6}\n",
    "m|={70,80}\n",
    "print(m)\n",
    "n={10:20,40:50}\n",
    "n|={'a':\"ok\",'b':\"its ok\"}\n",
    "print(n)\n",
    "a=[\"10,20,30\"]\n",
    "a+=\"haii\"\n",
    "print(a)\n",
    "b=[1,2,3]\n",
    "b+=(4,5)\n",
    "c=[4,5,6]\n",
    "c+={10,20}\n",
    "print(c)\n",
    "d=[8,9,80]\n",
    "d+={10:20,30:40}\n",
    "print(d)"
   ]
  },
  {
   "cell_type": "code",
   "execution_count": 27,
   "metadata": {},
   "outputs": [
    {
     "name": "stdout",
     "output_type": "stream",
     "text": [
      "3\n",
      "5\n"
     ]
    }
   ],
   "source": [
    "#12.WAE to check the length of the collection.\n",
    "t=[4,5,6]\n",
    "print(len(t))\n",
    "u=\"hello\"\n",
    "print(len(u))"
   ]
  },
  {
   "cell_type": "code",
   "execution_count": 32,
   "metadata": {},
   "outputs": [
    {
     "name": "stdout",
     "output_type": "stream",
     "text": [
      "3\n",
      "4\n"
     ]
    }
   ],
   "source": [
    "#13.WAE to check find out the middle value of the given collection.\n",
    "a=[10,20,3,4]\n",
    "print (a[len(d)//2])\n",
    "c=[2,3,4,5,6]\n",
    "print(c[len(d)//2])"
   ]
  },
  {
   "cell_type": "code",
   "execution_count": 2,
   "metadata": {},
   "outputs": [
    {
     "name": "stdout",
     "output_type": "stream",
     "text": [
      " HaiiHow r you\n"
     ]
    }
   ],
   "source": [
    "#14 WAS to concat the new string into the starting of the given string.\n",
    "a=\"How r you\"\n",
    "b= \" Haii\"\n",
    "print(b+a)"
   ]
  },
  {
   "cell_type": "code",
   "execution_count": 3,
   "metadata": {},
   "outputs": [
    {
     "name": "stdout",
     "output_type": "stream",
     "text": [
      "worldhaii\n"
     ]
    }
   ],
   "source": [
    "#15 WAS to concat the new string into the ending of the given string.\n",
    "a=\"world\"\n",
    "b=\"haii\"\n",
    "print(a+b)"
   ]
  },
  {
   "cell_type": "code",
   "execution_count": 14,
   "metadata": {},
   "outputs": [
    {
     "data": {
      "text/plain": [
       "'apble'"
      ]
     },
     "execution_count": 14,
     "metadata": {},
     "output_type": "execute_result"
    }
   ],
   "source": [
    "#16 WAS to concat the new string into the middle of the given string.\n",
    "s=\"apple\"\n",
    "s[0:2]+\"b\"+s[3:]\n"
   ]
  },
  {
   "cell_type": "code",
   "execution_count": 7,
   "metadata": {},
   "outputs": [
    {
     "data": {
      "text/plain": [
       "'pyspIders'"
      ]
     },
     "execution_count": 7,
     "metadata": {},
     "output_type": "execute_result"
    }
   ],
   "source": [
    "#17 WAS to modify the new character into a middle of the given string.\n",
    "s=\"pyspiders\"\n",
    "s[len(s)//2]\n",
    "s[0:len(s)//2]+'I'+s[len(s)//2+1:]"
   ]
  },
  {
   "cell_type": "code",
   "execution_count": 8,
   "metadata": {},
   "outputs": [
    {
     "data": {
      "text/plain": [
       "'pyspiDers'"
      ]
     },
     "execution_count": 8,
     "metadata": {},
     "output_type": "execute_result"
    }
   ],
   "source": [
    "#18 WAS to replace the old character into a new character of the given string.\n",
    "s=\"pyspiders\"\n",
    "s[0:5]+\"D\"+s[6:]"
   ]
  },
  {
   "cell_type": "code",
   "execution_count": 12,
   "metadata": {},
   "outputs": [
    {
     "data": {
      "text/plain": [
       "'pypiders'"
      ]
     },
     "execution_count": 12,
     "metadata": {},
     "output_type": "execute_result"
    }
   ],
   "source": [
    "#19 WAS to delete the specific character in the given string.\n",
    "s=\"pyspiders\"\n",
    "s[0:2]+s[3:]"
   ]
  },
  {
   "cell_type": "code",
   "execution_count": 18,
   "metadata": {},
   "outputs": [
    {
     "data": {
      "text/plain": [
       "'pysPIDers'"
      ]
     },
     "execution_count": 18,
     "metadata": {},
     "output_type": "execute_result"
    }
   ],
   "source": [
    "#20 WAS to modify the sequence of character in given string.\n",
    "s=\"pyspiders\"\n",
    "s[0:3]+\"PID\"+s[6:]"
   ]
  },
  {
   "cell_type": "code",
   "execution_count": 21,
   "metadata": {},
   "outputs": [
    {
     "data": {
      "text/plain": [
       "'haii how are you'"
      ]
     },
     "execution_count": 21,
     "metadata": {},
     "output_type": "execute_result"
    }
   ],
   "source": [
    "#21 WAS to concat the newstring into the specific position of given string\n",
    "r=\"haii are you\"\n",
    "r[0:4+1]+\"how\"+r[4:]\n"
   ]
  },
  {
   "cell_type": "code",
   "execution_count": 22,
   "metadata": {},
   "outputs": [
    {
     "data": {
      "text/plain": [
       "'pysers'"
      ]
     },
     "execution_count": 22,
     "metadata": {},
     "output_type": "execute_result"
    }
   ],
   "source": [
    "#22 WAS to delete the sequence of character in given string\n",
    "s=\"pyspiders\"\n",
    "s[:3]+s[6:]"
   ]
  },
  {
   "cell_type": "code",
   "execution_count": 23,
   "metadata": {},
   "outputs": [
    {
     "name": "stdout",
     "output_type": "stream",
     "text": [
      "[4, 5, 1, 2, 3]\n",
      "['a', 'b', 10, 20, 30]\n"
     ]
    }
   ],
   "source": [
    "#23 WAS to concat the new value into the starting of the given list.\n",
    "l=[1,2,3]\n",
    "id(l)\n",
    "l=[4,5]+l\n",
    "id(l)\n",
    "print(l)\n",
    "\n",
    "l=[10,20,30]\n",
    "id(l)\n",
    "l[0:0]=['a','b']\n",
    "id(l)\n",
    "print(l)\n"
   ]
  },
  {
   "cell_type": "code",
   "execution_count": 25,
   "metadata": {},
   "outputs": [
    {
     "name": "stdout",
     "output_type": "stream",
     "text": [
      "[1, 2, 3, 10, 20]\n",
      "['a', 'b', 20, 30, 4, 5]\n"
     ]
    }
   ],
   "source": [
    "#24 WAS to concat the new value into the ending of the given list.\n",
    "a=[1,2,3]\n",
    "a=a+[10,20]\n",
    "print(a)\n",
    "\n",
    "l=['a','b',20,30]\n",
    "l+=[4,5]\n",
    "print(l)\n"
   ]
  },
  {
   "cell_type": "code",
   "execution_count": 26,
   "metadata": {},
   "outputs": [
    {
     "name": "stdout",
     "output_type": "stream",
     "text": [
      "[1, 2, 'a', 'b', 3, 4]\n"
     ]
    }
   ],
   "source": [
    "#25 WAS to concat the new value into the middle of the given list.\n",
    "l=[1,2,3,4]\n",
    "l[(len(l)//2):(len(l)//2)]=['a','b']\n",
    "print(l)"
   ]
  },
  {
   "cell_type": "code",
   "execution_count": 2,
   "metadata": {},
   "outputs": [
    {
     "name": "stdout",
     "output_type": "stream",
     "text": [
      "[100, 200, 20, 30, True, 10.02]\n"
     ]
    }
   ],
   "source": [
    "#26. WAS to concat the new values into the specific position of the given list.\n",
    "l=[100,200,True,10.02]\n",
    "l[2:2]=[20,30]\n",
    "print(l)\n"
   ]
  },
  {
   "cell_type": "code",
   "execution_count": 3,
   "metadata": {},
   "outputs": [
    {
     "name": "stdout",
     "output_type": "stream",
     "text": [
      "[1, 2, 3, 4, 100, 6]\n"
     ]
    }
   ],
   "source": [
    "#27. WAS to modify the new value into the specific position of list.\n",
    "l=[1,2,3,4,5,6]\n",
    "l[4]=100\n",
    "print(l)"
   ]
  },
  {
   "cell_type": "code",
   "execution_count": 5,
   "metadata": {},
   "outputs": [
    {
     "name": "stdout",
     "output_type": "stream",
     "text": [
      "[b'10101', 30, 60, 80, 100]\n",
      "[True, 200, 300, 400]\n"
     ]
    }
   ],
   "source": [
    "#28.WAS to modify the new value into the starting of the list.\n",
    "l=[10,30,60,80,100]\n",
    "l[0]=b'10101'\n",
    "print(l)\n",
    "l=[100,200,300,400]\n",
    "l[0]=True\n",
    "print(l)\n"
   ]
  },
  {
   "cell_type": "code",
   "execution_count": 6,
   "metadata": {},
   "outputs": [
    {
     "name": "stdout",
     "output_type": "stream",
     "text": [
      "[100, 300, 15.06, b'10101', {1, 2, 3}]\n"
     ]
    }
   ],
   "source": [
    "#29.WAS to modify the new value into the ending of list.\n",
    "a=[100,300,15.06,b'10101',15+5j]\n",
    "a[4]={1,2,3}\n",
    "print(a)"
   ]
  },
  {
   "cell_type": "code",
   "execution_count": 9,
   "metadata": {},
   "outputs": [
    {
     "name": "stdout",
     "output_type": "stream",
     "text": [
      "[10, 20, 30, 'Helloworld', 50, 100]\n"
     ]
    }
   ],
   "source": [
    "#30. WAS to modify the new value into the middle of the list.\n",
    "b=[10,20,30,40,50,100]\n",
    "b[len(b)//2]='Helloworld'\n",
    "print(b)\n"
   ]
  },
  {
   "cell_type": "code",
   "execution_count": 10,
   "metadata": {},
   "outputs": [
    {
     "name": "stdout",
     "output_type": "stream",
     "text": [
      "[True, False, None, b'10101', 10, 20, 30]\n"
     ]
    }
   ],
   "source": [
    "#31. WAS to modify the first 4 position values into a list.\n",
    "M=['a','b','c','d',10,20,30]\n",
    "M[0:3+1]=[True, False,None,b'10101']\n",
    "print(M)"
   ]
  },
  {
   "cell_type": "code",
   "execution_count": 1,
   "metadata": {},
   "outputs": [
    {
     "name": "stdout",
     "output_type": "stream",
     "text": [
      "[5, 3, 7, 4, 9, 5]\n"
     ]
    }
   ],
   "source": [
    "#32 WAS to modify the sequence of values into a given list.\n",
    "l=[5,6,7,8,9,10]\n",
    "l[1::2]=[3,4,5]\n",
    "print(l)\n"
   ]
  },
  {
   "cell_type": "code",
   "execution_count": 1,
   "metadata": {},
   "outputs": [
    {
     "name": "stdout",
     "output_type": "stream",
     "text": [
      "[1, 2, 3, 5, 6]\n"
     ]
    }
   ],
   "source": [
    "#33 WAS to delete the value in the specific position of list.\n",
    "l=[1,2,3,4,5,6]\n",
    "del l[3]\n",
    "print(l)"
   ]
  },
  {
   "cell_type": "code",
   "execution_count": 2,
   "metadata": {},
   "outputs": [
    {
     "name": "stdout",
     "output_type": "stream",
     "text": [
      "[4, 5, 6, 7]\n"
     ]
    }
   ],
   "source": [
    "#34 WAS to delete the new value into the ending of the list.\n",
    "l=[4,5,6,7,8]\n",
    "del l[-1]\n",
    "print(l)"
   ]
  },
  {
   "cell_type": "code",
   "execution_count": 3,
   "metadata": {},
   "outputs": [
    {
     "name": "stdout",
     "output_type": "stream",
     "text": [
      "[20, 30, True]\n"
     ]
    }
   ],
   "source": [
    "#35 WAS to delete the new value into the starting of the list.\n",
    "l=[10,20,30,True]\n",
    "del l[0]\n",
    "print(l)"
   ]
  },
  {
   "cell_type": "code",
   "execution_count": 4,
   "metadata": {},
   "outputs": [
    {
     "name": "stdout",
     "output_type": "stream",
     "text": [
      "[1, 3, 4, 67, 56, 8, 99]\n"
     ]
    }
   ],
   "source": [
    "#36 WAS to delete the value into middle of the list\n",
    "s=[1,3,4,67,47,56,8,99]\n",
    "del s[len(s)//2]\n",
    "print(s)"
   ]
  },
  {
   "cell_type": "code",
   "execution_count": 17,
   "metadata": {},
   "outputs": [
    {
     "name": "stdout",
     "output_type": "stream",
     "text": [
      "(1, 2, 3, [10, 20], 4, 5, 6)\n"
     ]
    }
   ],
   "source": [
    "# 37.WAS to concat the value into the middle of the tuple.\n",
    "a=(1,2,3,4,5,6)\n",
    "a=a[:len(a)//2]+ ([10,20],)+a[len(s)//2:]\n",
    "print(a)"
   ]
  },
  {
   "cell_type": "code",
   "execution_count": 1,
   "metadata": {},
   "outputs": [
    {
     "name": "stdout",
     "output_type": "stream",
     "text": [
      "('haii', 'hello', 'good', 'morning', 'good night')\n"
     ]
    }
   ],
   "source": [
    "#38 WAS to concat the value into starting of the tuple.\n",
    "t=(\"hello\",'good','morning',\"good night\")\n",
    "t=('haii',)+t\n",
    "print(t)"
   ]
  },
  {
   "cell_type": "code",
   "execution_count": 4,
   "metadata": {},
   "outputs": [
    {
     "name": "stdout",
     "output_type": "stream",
     "text": [
      "(1, 4, 5, 6, 7, 2)\n"
     ]
    }
   ],
   "source": [
    "#39 WAS to concat the value into the ending of the tuple.\n",
    "t=(1,4,5,6,7)\n",
    "t=t+(2,)\n",
    "print(t)"
   ]
  },
  {
   "cell_type": "code",
   "execution_count": 7,
   "metadata": {},
   "outputs": [
    {
     "name": "stdout",
     "output_type": "stream",
     "text": [
      "(1, 2, 10, 20, 5, 6)\n"
     ]
    }
   ],
   "source": [
    "#40 WAS to modify the sequence of values in given tuple.\n",
    "a=(1,2,3,4,5,6)\n",
    "a=a[0:2]+(10,20)+a[4:]\n",
    "print(a)"
   ]
  },
  {
   "cell_type": "code",
   "execution_count": 8,
   "metadata": {},
   "outputs": [
    {
     "name": "stdout",
     "output_type": "stream",
     "text": [
      "(1, 2, 5)\n"
     ]
    }
   ],
   "source": [
    "#41 WAS to delete sequence of values in given tuple.\n",
    "x=(1,2,3,4,5)\n",
    "x=x[0:2]+x[4:]\n",
    "print(x)"
   ]
  },
  {
   "cell_type": "code",
   "execution_count": 9,
   "metadata": {},
   "outputs": [
    {
     "name": "stdout",
     "output_type": "stream",
     "text": [
      "{1, 2, 3, 4, 5, 6, 20, 10}\n",
      "{50, 4, 20, 100, 7, 200, 10, 30}\n"
     ]
    }
   ],
   "source": [
    "#42 WAS to concat the new value into the set.\n",
    "s={1,2,3,4,5,6}\n",
    "s|={10,20}\n",
    "print(s)\n",
    "s={4,7,10,20,30,50}\n",
    "s=s|{100,200}\n",
    "print(s)"
   ]
  },
  {
   "cell_type": "code",
   "execution_count": 10,
   "metadata": {},
   "outputs": [
    {
     "name": "stdout",
     "output_type": "stream",
     "text": [
      "{4, 6, 10}\n"
     ]
    }
   ],
   "source": [
    "#43 WAS to delete the specific value into the set.\n",
    "s={1,3,4,6,9,10}\n",
    "s-={1,3,9}\n",
    "print(s)"
   ]
  },
  {
   "cell_type": "code",
   "execution_count": 13,
   "metadata": {},
   "outputs": [
    {
     "name": "stdout",
     "output_type": "stream",
     "text": [
      "{'a': 150, 'b': 750}\n",
      "{1: 2, 5: 8, 7: 8, 9: 80}\n"
     ]
    }
   ],
   "source": [
    "#44 WAS to concat the new key and value into the dict.\n",
    "d={'a':150}\n",
    "d['b']=750\n",
    "print(d)\n",
    "\n",
    "a={1:2,5:8}\n",
    "b={7:8,9:80}\n",
    "a|=b\n",
    "print(a)"
   ]
  },
  {
   "cell_type": "code",
   "execution_count": 15,
   "metadata": {},
   "outputs": [
    {
     "name": "stdout",
     "output_type": "stream",
     "text": [
      "{2: 10, 5: 30}\n"
     ]
    }
   ],
   "source": [
    "#45 WAS to delete the specific key and value in the given dict.\n",
    "d={2:10,5:30,6:50}\n",
    "del d[6]\n",
    "print(d)\n"
   ]
  },
  {
   "cell_type": "code",
   "execution_count": 17,
   "metadata": {},
   "outputs": [
    {
     "name": "stdout",
     "output_type": "stream",
     "text": [
      "{10: 'good', 20: 'haii'}\n"
     ]
    }
   ],
   "source": [
    " #46 WAS to modify the specific value in the given dict.\n",
    "x={10:150,20:\"haii\"}\n",
    "x[10]=\"good\"\n",
    "print(x)"
   ]
  },
  {
   "cell_type": "code",
   "execution_count": 19,
   "metadata": {},
   "outputs": [
    {
     "name": "stdout",
     "output_type": "stream",
     "text": [
      "['a', 'b', 'c', 10, 20, 30]\n"
     ]
    }
   ],
   "source": [
    "#47 WAS to concat the list and tuple values by using type casting.\n",
    "l=['a','b','c']\n",
    "t=(10,20,30)\n",
    "print(l+list(t))"
   ]
  },
  {
   "cell_type": "code",
   "execution_count": 20,
   "metadata": {},
   "outputs": [
    {
     "data": {
      "text/plain": [
       "[4, 5, 6, 10, 20, 30]"
      ]
     },
     "execution_count": 20,
     "metadata": {},
     "output_type": "execute_result"
    }
   ],
   "source": [
    "#48 WAS to concat the list value and tuple value without using type casting.\n",
    "l=[4,5,6]\n",
    "t=(10,20,30)\n",
    "l+list(t)"
   ]
  },
  {
   "cell_type": "code",
   "execution_count": 25,
   "metadata": {},
   "outputs": [
    {
     "name": "stdout",
     "output_type": "stream",
     "text": [
      "True\n"
     ]
    }
   ],
   "source": [
    "#49 WAS to check the given number is divisible by 3.\n",
    "n=9\n",
    "print(n%3==0)"
   ]
  },
  {
   "cell_type": "code",
   "execution_count": 27,
   "metadata": {},
   "outputs": [
    {
     "name": "stdout",
     "output_type": "stream",
     "text": [
      "True\n"
     ]
    }
   ],
   "source": [
    "#50 WAS to check the given number is divisible by 2 and 6.\n",
    "n=12\n",
    "print(n%2==0 and n%6==0)"
   ]
  },
  {
   "cell_type": "code",
   "execution_count": 28,
   "metadata": {},
   "outputs": [
    {
     "name": "stdout",
     "output_type": "stream",
     "text": [
      "True\n"
     ]
    }
   ],
   "source": [
    "#51 WAS to check the last digit is divisible by 3 from given integer number(with out typecasting)\n",
    "n=1996\n",
    "print((n%10)%3==0)"
   ]
  },
  {
   "cell_type": "code",
   "execution_count": 29,
   "metadata": {},
   "outputs": [
    {
     "name": "stdout",
     "output_type": "stream",
     "text": [
      "6\n"
     ]
    }
   ],
   "source": [
    "#52 WAS to extract the last digit in given integer number (without typecasting)\n",
    "n=1996\n",
    "print(n%10)\n"
   ]
  },
  {
   "cell_type": "code",
   "execution_count": 30,
   "metadata": {},
   "outputs": [
    {
     "name": "stdout",
     "output_type": "stream",
     "text": [
      "True\n"
     ]
    }
   ],
   "source": [
    "#53 WAS to check the last digit by 3 from given integer number(with typecasting)\n",
    "n=2026\n",
    "print(int(str(n)[-1])%3==0)"
   ]
  },
  {
   "cell_type": "code",
   "execution_count": 31,
   "metadata": {},
   "outputs": [
    {
     "name": "stdout",
     "output_type": "stream",
     "text": [
      "True\n"
     ]
    }
   ],
   "source": [
    "#54 WAE to check the given number is greater than 150.\n",
    "n=250\n",
    "print(n>150)"
   ]
  },
  {
   "cell_type": "code",
   "execution_count": 32,
   "metadata": {},
   "outputs": [
    {
     "name": "stdout",
     "output_type": "stream",
     "text": [
      "True\n"
     ]
    }
   ],
   "source": [
    "#55 WAS to check thr given num is >=100.\n",
    "n=101\n",
    "print(n>=100)"
   ]
  },
  {
   "cell_type": "code",
   "execution_count": 33,
   "metadata": {},
   "outputs": [
    {
     "name": "stdout",
     "output_type": "stream",
     "text": [
      "True\n"
     ]
    }
   ],
   "source": [
    "#56 WAS to check the given num is <150.\n",
    "n=99\n",
    "print(n<150)"
   ]
  },
  {
   "cell_type": "code",
   "execution_count": 34,
   "metadata": {},
   "outputs": [
    {
     "name": "stdout",
     "output_type": "stream",
     "text": [
      "True\n"
     ]
    }
   ],
   "source": [
    "#57 WAS to check the given num is<=100.\n",
    "n=45\n",
    "print(n<=100)"
   ]
  },
  {
   "cell_type": "code",
   "execution_count": 35,
   "metadata": {},
   "outputs": [
    {
     "name": "stdout",
     "output_type": "stream",
     "text": [
      "True\n"
     ]
    }
   ],
   "source": [
    "#58 WAS to check the given num is > 15 & < 24.\n",
    "n=20\n",
    "print(n>15 and n<24)"
   ]
  },
  {
   "cell_type": "code",
   "execution_count": 36,
   "metadata": {},
   "outputs": [
    {
     "name": "stdout",
     "output_type": "stream",
     "text": [
      "True\n"
     ]
    }
   ],
   "source": [
    "#59 WAS to check the given num is even.\n",
    "n=44\n",
    "print(n%2==0)"
   ]
  },
  {
   "cell_type": "code",
   "execution_count": 38,
   "metadata": {},
   "outputs": [
    {
     "name": "stdout",
     "output_type": "stream",
     "text": [
      "False\n",
      "True\n"
     ]
    }
   ],
   "source": [
    "#60 WAS to check the given num is odd.\n",
    "n=16\n",
    "print(n%2!=0)\n",
    "\n",
    "n=15\n",
    "print(n%2!=0)"
   ]
  },
  {
   "cell_type": "code",
   "execution_count": 39,
   "metadata": {},
   "outputs": [
    {
     "name": "stdout",
     "output_type": "stream",
     "text": [
      "abcabcabcabc\n"
     ]
    }
   ],
   "source": [
    "#61 WAE to perform the replication of a given string.\n",
    "s=\"abc\"\n",
    "print(s*4)\n"
   ]
  },
  {
   "cell_type": "code",
   "execution_count": 40,
   "metadata": {},
   "outputs": [
    {
     "name": "stdout",
     "output_type": "stream",
     "text": [
      "True\n"
     ]
    }
   ],
   "source": [
    "#62 WAE to check the given num is divisible by 3 and also the num should be > 22.\n",
    "n=27\n",
    "print(n%3==0 and n>22)"
   ]
  },
  {
   "cell_type": "code",
   "execution_count": 41,
   "metadata": {},
   "outputs": [
    {
     "name": "stdout",
     "output_type": "stream",
     "text": [
      "False\n",
      "True\n"
     ]
    }
   ],
   "source": [
    "#63 WAs to check the perform the length of the collection is even or not.\n",
    "l='pyspiders'\n",
    "print(len(l)%2==0)\n",
    "\n",
    "l=\"pyspider\"\n",
    "print(len(l)%2==0)"
   ]
  },
  {
   "cell_type": "code",
   "execution_count": 22,
   "metadata": {},
   "outputs": [
    {
     "name": "stdout",
     "output_type": "stream",
     "text": [
      "True\n"
     ]
    }
   ],
   "source": [
    "#64 WAE to check perfor, the length of the collection is less than 55 and greater than 16.\n",
    "r=\"abcdefghijklmnopqrstuvwxyz\"\n",
    "print(len(r)>16 and len(r)<55)"
   ]
  },
  {
   "cell_type": "code",
   "execution_count": 45,
   "metadata": {},
   "outputs": [
    {
     "name": "stdout",
     "output_type": "stream",
     "text": [
      "True\n"
     ]
    }
   ],
   "source": [
    "#65 WAE to check perform the length of collection is divisible by 5 and odd\n",
    "g=\"abcdefghijklnmo\"\n",
    "print(len(g)%5==0 and len(g)%2!=0)"
   ]
  },
  {
   "cell_type": "code",
   "execution_count": 2,
   "metadata": {},
   "outputs": [
    {
     "name": "stdout",
     "output_type": "stream",
     "text": [
      "True\n"
     ]
    }
   ],
   "source": [
    "#66 WAS to check extract  middle position of a given collection is either (str,list,tuple)\n",
    "s=\"haii\"\n",
    "res=type(s[len(s)//2])\n",
    "print(res in[str,list,tuple])"
   ]
  },
  {
   "cell_type": "code",
   "execution_count": 4,
   "metadata": {},
   "outputs": [
    {
     "name": "stdout",
     "output_type": "stream",
     "text": [
      "True\n"
     ]
    }
   ],
   "source": [
    "#67 WAS to check the given number is greater than 20 and less tahn 30 and it should be even.\n",
    "n=24\n",
    "print(n>20 and n<30 and n%2==0)"
   ]
  },
  {
   "cell_type": "code",
   "execution_count": 1,
   "metadata": {},
   "outputs": [
    {
     "name": "stdout",
     "output_type": "stream",
     "text": [
      "True\n"
     ]
    }
   ],
   "source": [
    "#68 WAS  check the given number is even and it should be less than  120.\n",
    "n=96\n",
    "print(n%2==0 and n<120 )"
   ]
  },
  {
   "cell_type": "code",
   "execution_count": 2,
   "metadata": {},
   "outputs": [
    {
     "name": "stdout",
     "output_type": "stream",
     "text": [
      "True\n"
     ]
    }
   ],
   "source": [
    "#69 WAS to check the given number is even and present from 40 to 70.\n",
    "n=66\n",
    "print(n%2==0 and n<70 and n>40)"
   ]
  },
  {
   "cell_type": "code",
   "execution_count": 3,
   "metadata": {},
   "outputs": [
    {
     "name": "stdout",
     "output_type": "stream",
     "text": [
      "True\n"
     ]
    }
   ],
   "source": [
    "#70 WAS to check the given number is odd and it should be >97.\n",
    "n=105\n",
    "print(n%2!=0 and n>97)"
   ]
  },
  {
   "cell_type": "code",
   "execution_count": 4,
   "metadata": {},
   "outputs": [
    {
     "name": "stdout",
     "output_type": "stream",
     "text": [
      "True\n"
     ]
    }
   ],
   "source": [
    "#71 WAS to check the given num is< 122 and > 48 and the num divisible by 4.\n",
    "n=96\n",
    "print(n%4==0 and n<122 and n>48)"
   ]
  },
  {
   "cell_type": "code",
   "execution_count": 5,
   "metadata": {},
   "outputs": [
    {
     "name": "stdout",
     "output_type": "stream",
     "text": [
      "True\n"
     ]
    }
   ],
   "source": [
    "#72 WAS to check the given num is divisible by 3 0r 5 .\n",
    "n=18\n",
    "print(n%3==0 or n%5==0)"
   ]
  },
  {
   "cell_type": "code",
   "execution_count": 7,
   "metadata": {},
   "outputs": [
    {
     "name": "stdout",
     "output_type": "stream",
     "text": [
      "True\n",
      "True\n"
     ]
    }
   ],
   "source": [
    "#73 WAS to check the given num is between 100 to 200 including the limit.\n",
    "n=150\n",
    "print(100<n<200)\n",
    "print(n>=100 and n<=200)"
   ]
  },
  {
   "cell_type": "code",
   "execution_count": 8,
   "metadata": {},
   "outputs": [
    {
     "name": "stdout",
     "output_type": "stream",
     "text": [
      "True\n"
     ]
    }
   ],
   "source": [
    "#74 WAE to check the given num is between 100 to 200.\n",
    "n=180\n",
    "print(n>100 and n<200)"
   ]
  },
  {
   "cell_type": "code",
   "execution_count": 9,
   "metadata": {},
   "outputs": [
    {
     "name": "stdout",
     "output_type": "stream",
     "text": [
      "True\n"
     ]
    }
   ],
   "source": [
    "#75 WAE to check the given string last digit ascii value should be divisible by 5 or not.\n",
    "s=\"appld\"\n",
    "print(ord(s[-1])%5==0)"
   ]
  },
  {
   "cell_type": "code",
   "execution_count": 10,
   "metadata": {},
   "outputs": [
    {
     "name": "stdout",
     "output_type": "stream",
     "text": [
      "True\n"
     ]
    }
   ],
   "source": [
    "#76 WAE to check the given num is present between  60 to 130 and the num shold be divisible by 3 and 4 and the last digit should be < 9.\n",
    "n=120\n",
    "print(60<=n<=130 and n%3==0 and n%4==0 and n%10<9)\n"
   ]
  },
  {
   "cell_type": "code",
   "execution_count": 11,
   "metadata": {},
   "outputs": [
    {
     "name": "stdout",
     "output_type": "stream",
     "text": [
      "True\n"
     ]
    }
   ],
   "source": [
    "#77 WAE to check the given num is even or less than 25.\n",
    "n=23\n",
    "print(n%2==0 or n<25)"
   ]
  },
  {
   "cell_type": "code",
   "execution_count": 12,
   "metadata": {},
   "outputs": [
    {
     "name": "stdout",
     "output_type": "stream",
     "text": [
      "True\n"
     ]
    }
   ],
   "source": [
    "#78 WAE to check the given num is even or greater than 25.\n",
    "n=26\n",
    "print(n%2==0 or n>25)"
   ]
  },
  {
   "cell_type": "code",
   "execution_count": 13,
   "metadata": {},
   "outputs": [
    {
     "name": "stdout",
     "output_type": "stream",
     "text": [
      "True\n"
     ]
    }
   ],
   "source": [
    "#79 WAE to check the given number is divisible by either 3 or 5.\n",
    "n=27\n",
    "print(n%3==0 or n%5==0) "
   ]
  },
  {
   "cell_type": "code",
   "execution_count": 14,
   "metadata": {},
   "outputs": [
    {
     "name": "stdout",
     "output_type": "stream",
     "text": [
      "True\n"
     ]
    }
   ],
   "source": [
    "#80 WAE to check the given number is not an even number.\n",
    "n=45\n",
    "print(n%2!=0)"
   ]
  },
  {
   "cell_type": "code",
   "execution_count": 15,
   "metadata": {},
   "outputs": [
    {
     "name": "stdout",
     "output_type": "stream",
     "text": [
      "True\n"
     ]
    }
   ],
   "source": [
    "#81 WAE to check the given num is not an odd num.\n",
    "n=96\n",
    "print(n%2==0)"
   ]
  },
  {
   "cell_type": "code",
   "execution_count": 18,
   "metadata": {},
   "outputs": [
    {
     "name": "stdout",
     "output_type": "stream",
     "text": [
      "True\n"
     ]
    }
   ],
   "source": [
    "#82  WAE to check the given num is not divisible by 3\n",
    "n=28\n",
    "print(n%3!=0)"
   ]
  },
  {
   "cell_type": "code",
   "execution_count": 19,
   "metadata": {},
   "outputs": [
    {
     "name": "stdout",
     "output_type": "stream",
     "text": [
      "True\n"
     ]
    }
   ],
   "source": [
    "#83  WAE to check the given num is not divisible by 3 and 5.\n",
    "n=28\n",
    "print(n%3!=0 and n%5!=0)"
   ]
  },
  {
   "cell_type": "code",
   "execution_count": 20,
   "metadata": {},
   "outputs": [
    {
     "name": "stdout",
     "output_type": "stream",
     "text": [
      "True\n"
     ]
    }
   ],
   "source": [
    "#84  WAE to check the given num is not divisible by 3 or 5.\n",
    "n=27\n",
    "print(n%3!=0 or n%5!=0)"
   ]
  },
  {
   "cell_type": "code",
   "execution_count": 29,
   "metadata": {},
   "outputs": [
    {
     "name": "stdout",
     "output_type": "stream",
     "text": [
      "True\n"
     ]
    }
   ],
   "source": [
    "#85.WAE to check the given character ascii value is not divisible by 5.\n",
    "ch=\"B\"\n",
    "print(ord(ch)%5!=0)"
   ]
  },
  {
   "cell_type": "code",
   "execution_count": 30,
   "metadata": {},
   "outputs": [
    {
     "data": {
      "text/plain": [
       "'A'"
      ]
     },
     "execution_count": 30,
     "metadata": {},
     "output_type": "execute_result"
    }
   ],
   "source": [
    "#86. WAE to check to find out the ascii character is given num.\n",
    "n=65\n",
    "chr(n)"
   ]
  },
  {
   "cell_type": "code",
   "execution_count": 31,
   "metadata": {},
   "outputs": [
    {
     "data": {
      "text/plain": [
       "65"
      ]
     },
     "execution_count": 31,
     "metadata": {},
     "output_type": "execute_result"
    }
   ],
   "source": [
    "#87. WAE to check to find out the ascii value in a given character.\n",
    "ch=\"A\"\n",
    "ord(ch)"
   ]
  },
  {
   "cell_type": "code",
   "execution_count": 32,
   "metadata": {},
   "outputs": [
    {
     "data": {
      "text/plain": [
       "True"
      ]
     },
     "execution_count": 32,
     "metadata": {},
     "output_type": "execute_result"
    }
   ],
   "source": [
    "#88. WAE to check the given char is uppercase or not.\n",
    "ch=\"G\"\n",
    "'A'<=ch and ch<='Z'"
   ]
  },
  {
   "cell_type": "code",
   "execution_count": 2,
   "metadata": {},
   "outputs": [
    {
     "name": "stdout",
     "output_type": "stream",
     "text": [
      "True\n"
     ]
    }
   ],
   "source": [
    "#89 WAE to check the given char is lowercase or not.\n",
    "ch=\"a\"\n",
    "print('a'<=ch and ch<='z')"
   ]
  },
  {
   "cell_type": "code",
   "execution_count": 1,
   "metadata": {},
   "outputs": [
    {
     "name": "stdout",
     "output_type": "stream",
     "text": [
      "True\n"
     ]
    }
   ],
   "source": [
    "#90 WAE to check the given char is the alphabet.\n",
    "ch=\"G\"\n",
    "print('A'<=ch and ch<='Z' or 'a'<=ch and ch<='z')"
   ]
  },
  {
   "cell_type": "code",
   "execution_count": 3,
   "metadata": {},
   "outputs": [
    {
     "name": "stdout",
     "output_type": "stream",
     "text": [
      "True\n"
     ]
    }
   ],
   "source": [
    "# 91 WAE to check the given character is the ascii number.\n",
    "ch='5'\n",
    "print('0'<=ch<='9')\n"
   ]
  },
  {
   "cell_type": "code",
   "execution_count": 4,
   "metadata": {},
   "outputs": [
    {
     "name": "stdout",
     "output_type": "stream",
     "text": [
      "True\n"
     ]
    }
   ],
   "source": [
    "#92 WAE  to check the given character is the special character.\n",
    "ch='$'\n",
    "print (not('A'<=ch and ch<='Z' or 'a'<=ch and ch<='z' or'0'<=ch<='9' ))\n"
   ]
  },
  {
   "cell_type": "code",
   "execution_count": 5,
   "metadata": {},
   "outputs": [
    {
     "name": "stdout",
     "output_type": "stream",
     "text": [
      "False\n"
     ]
    }
   ],
   "source": [
    "# 93 WAE to check the given character should not be uppercase.\n",
    "ch=\"G\"\n",
    "print(not('A'<=ch and ch<='Z'))"
   ]
  },
  {
   "cell_type": "code",
   "execution_count": 6,
   "metadata": {},
   "outputs": [
    {
     "name": "stdout",
     "output_type": "stream",
     "text": [
      "False\n"
     ]
    }
   ],
   "source": [
    "#94 WAE to check the given character should not be lowercase.\n",
    "ch=\"a\"\n",
    "print(not('a'<=ch and ch<='z'))"
   ]
  },
  {
   "cell_type": "code",
   "execution_count": 1,
   "metadata": {},
   "outputs": [
    {
     "name": "stdout",
     "output_type": "stream",
     "text": [
      "False\n"
     ]
    }
   ],
   "source": [
    "# 95 WAE to check the given character should not be the alphabet.\n",
    "ch='M'\n",
    "print (not('A'<=ch and ch<='Z' or 'a'<=ch and ch<='z'))"
   ]
  },
  {
   "cell_type": "code",
   "execution_count": 2,
   "metadata": {},
   "outputs": [
    {
     "name": "stdout",
     "output_type": "stream",
     "text": [
      "False\n"
     ]
    }
   ],
   "source": [
    "#96 WAE to check the given character should not be an ascii num.\n",
    "ch='5'\n",
    "print(not('0'<=ch<='9'))"
   ]
  },
  {
   "cell_type": "code",
   "execution_count": 3,
   "metadata": {},
   "outputs": [
    {
     "name": "stdout",
     "output_type": "stream",
     "text": [
      "True\n"
     ]
    }
   ],
   "source": [
    "#97 WAE to check the given character should not be the spc char.\n",
    "ch=\"e\"\n",
    "print('A'<=ch and ch<='Z' or 'a'<=ch and ch<='z' or'0'<=ch<='9' )"
   ]
  },
  {
   "cell_type": "code",
   "execution_count": 4,
   "metadata": {},
   "outputs": [
    {
     "data": {
      "text/plain": [
       "True"
      ]
     },
     "execution_count": 4,
     "metadata": {},
     "output_type": "execute_result"
    }
   ],
   "source": [
    "#98 WAE to check the given character is a vowel.\n",
    "ch=\"A\"\n",
    "ch in \"AEIOUaeiou\""
   ]
  },
  {
   "cell_type": "code",
   "execution_count": 5,
   "metadata": {},
   "outputs": [
    {
     "data": {
      "text/plain": [
       "True"
      ]
     },
     "execution_count": 5,
     "metadata": {},
     "output_type": "execute_result"
    }
   ],
   "source": [
    "#99 WAS to check the given character is consonant.\n",
    "ch='b'\n",
    "ch not in \"AEIOUaeiou\""
   ]
  },
  {
   "cell_type": "code",
   "execution_count": 23,
   "metadata": {},
   "outputs": [
    {
     "data": {
      "text/plain": [
       "'Hello world'"
      ]
     },
     "execution_count": 23,
     "metadata": {},
     "output_type": "execute_result"
    }
   ],
   "source": [
    "#100 WAs to print \"HELLO WORLD\"\n",
    "\"Hello world\""
   ]
  },
  {
   "cell_type": "code",
   "execution_count": 6,
   "metadata": {},
   "outputs": [
    {
     "data": {
      "text/plain": [
       "'a'"
      ]
     },
     "execution_count": 6,
     "metadata": {},
     "output_type": "execute_result"
    }
   ],
   "source": [
    "#101 WAS to convert uppercase to lowercase in a given charcter.\n",
    "ch='A'\n",
    "chr(ord(ch)+32)"
   ]
  },
  {
   "cell_type": "code",
   "execution_count": 7,
   "metadata": {},
   "outputs": [
    {
     "data": {
      "text/plain": [
       "'A'"
      ]
     },
     "execution_count": 7,
     "metadata": {},
     "output_type": "execute_result"
    }
   ],
   "source": [
    "#102 WAS to convert lowercase to uppercase in a given charcter.\n",
    "ch='a'\n",
    "chr(ord(ch)-32)"
   ]
  },
  {
   "cell_type": "code",
   "execution_count": 8,
   "metadata": {},
   "outputs": [
    {
     "data": {
      "text/plain": [
       "'A'"
      ]
     },
     "execution_count": 8,
     "metadata": {},
     "output_type": "execute_result"
    }
   ],
   "source": [
    "# 103 WAS to extract the previous character in the given character.\n",
    "ch=\"B\"\n",
    "chr(ord(ch)-1)"
   ]
  },
  {
   "cell_type": "code",
   "execution_count": 9,
   "metadata": {},
   "outputs": [
    {
     "data": {
      "text/plain": [
       "'C'"
      ]
     },
     "execution_count": 9,
     "metadata": {},
     "output_type": "execute_result"
    }
   ],
   "source": [
    "# 104 WAS to extract the next character in the given character\n",
    "ch=\"B\"\n",
    "chr(ord(ch)+1)"
   ]
  },
  {
   "cell_type": "code",
   "execution_count": 10,
   "metadata": {},
   "outputs": [
    {
     "name": "stdout",
     "output_type": "stream",
     "text": [
      "True\n"
     ]
    }
   ],
   "source": [
    "#105 WAS to check the given character is converted to ascii value and the value is even as weel as the character should be lowercase.\n",
    "ch=\"d\"\n",
    "print(len(ch)==1 and ord(ch)%2==0 and \"a\"<=ch<=\"z\")"
   ]
  },
  {
   "cell_type": "code",
   "execution_count": 12,
   "metadata": {},
   "outputs": [
    {
     "name": "stdout",
     "output_type": "stream",
     "text": [
      "True\n"
     ]
    }
   ],
   "source": [
    "#106 WAE to check the given character is converted to ascii value and the value is odd as weel as the character should be uppercase.\n",
    "ch=\"E\"\n",
    "print(len(ch)==1 and ord(ch)%2!=0 and \"A\"<=ch<=\"z\")"
   ]
  },
  {
   "cell_type": "code",
   "execution_count": 13,
   "metadata": {},
   "outputs": [
    {
     "name": "stdout",
     "output_type": "stream",
     "text": [
      "True\n"
     ]
    }
   ],
   "source": [
    "#107 WAE to check the given num is converted to character is not a symbol or not.\n",
    "n=57\n",
    "print('A'<=chr(n)<='Z' or 'a'<=chr(n)<='z' or '0'<=chr(n)<='9')\n",
    "\n"
   ]
  },
  {
   "cell_type": "code",
   "execution_count": 14,
   "metadata": {},
   "outputs": [
    {
     "data": {
      "text/plain": [
       "True"
      ]
     },
     "execution_count": 14,
     "metadata": {},
     "output_type": "execute_result"
    }
   ],
   "source": [
    "#108 WAE to check the given num of the ascii character is a vowel or not.\n",
    "n=65\n",
    "chr(n) in \"aeiouAEIOU\""
   ]
  },
  {
   "cell_type": "code",
   "execution_count": 16,
   "metadata": {},
   "outputs": [
    {
     "data": {
      "text/plain": [
       "True"
      ]
     },
     "execution_count": 16,
     "metadata": {},
     "output_type": "execute_result"
    }
   ],
   "source": [
    "#109 WAE to check if the first and second character are sequence or not in a given string.\n",
    "s=\"ABCD\"\n",
    "ord(s[0])+1==ord(s[1])"
   ]
  },
  {
   "cell_type": "code",
   "execution_count": 17,
   "metadata": {},
   "outputs": [
    {
     "name": "stdout",
     "output_type": "stream",
     "text": [
      "True\n"
     ]
    }
   ],
   "source": [
    "#110 WAE to check the given char ASCII value should be either greater than 50 or >25 or <112.\n",
    "ch=\"0\"\n",
    "print(ord(ch)>25 or ord(ch)<112)"
   ]
  },
  {
   "cell_type": "code",
   "execution_count": 23,
   "metadata": {},
   "outputs": [
    {
     "name": "stdout",
     "output_type": "stream",
     "text": [
      "11\n"
     ]
    }
   ],
   "source": [
    "#111 WAE to the given number should increased by 1.\n",
    "n=10\n",
    "n=n+1\n",
    "print(n)"
   ]
  },
  {
   "cell_type": "code",
   "execution_count": 24,
   "metadata": {},
   "outputs": [
    {
     "name": "stdout",
     "output_type": "stream",
     "text": [
      "32\n"
     ]
    }
   ],
   "source": [
    "#112 WAE to the given number should increased by 2.\n",
    "n=30\n",
    "n=n+2\n",
    "print(n)"
   ]
  },
  {
   "cell_type": "code",
   "execution_count": 26,
   "metadata": {},
   "outputs": [
    {
     "name": "stdout",
     "output_type": "stream",
     "text": [
      "28\n"
     ]
    }
   ],
   "source": [
    "#113 WAE to the given number should decreased by 2.\n",
    "n=30\n",
    "n=n-2\n",
    "print(n)"
   ]
  },
  {
   "cell_type": "code",
   "execution_count": 27,
   "metadata": {},
   "outputs": [
    {
     "name": "stdout",
     "output_type": "stream",
     "text": [
      "5\n"
     ]
    }
   ],
   "source": [
    "#114 WAE to the given number should decreased by 3.\n",
    "n=8\n",
    "n=n-3\n",
    "print(n)"
   ]
  },
  {
   "cell_type": "code",
   "execution_count": 28,
   "metadata": {},
   "outputs": [
    {
     "name": "stdout",
     "output_type": "stream",
     "text": [
      "True\n"
     ]
    }
   ],
   "source": [
    "#115 WAE to check the given int num is present in the collection.\n",
    "n=10\n",
    "coll=[10,20,30,40]\n",
    "print(n in coll)"
   ]
  },
  {
   "cell_type": "code",
   "execution_count": 32,
   "metadata": {},
   "outputs": [
    {
     "name": "stdout",
     "output_type": "stream",
     "text": [
      "110\n"
     ]
    }
   ],
   "source": [
    "#116 WAE to perform the addition operation on A value and B value and final result should be updated to A.\n",
    "a=50\n",
    "b=60\n",
    "a=a+b\n",
    "print(a)"
   ]
  },
  {
   "cell_type": "code",
   "execution_count": 33,
   "metadata": {},
   "outputs": [
    {
     "name": "stdout",
     "output_type": "stream",
     "text": [
      "True\n"
     ]
    }
   ],
   "source": [
    "#117 WAE to check the given value is present in collection.\n",
    "s=\"p\"\n",
    "coll=\"pyspiders\"\n",
    "print(s in coll)"
   ]
  },
  {
   "cell_type": "code",
   "execution_count": 34,
   "metadata": {},
   "outputs": [
    {
     "name": "stdout",
     "output_type": "stream",
     "text": [
      "True\n"
     ]
    }
   ],
   "source": [
    "#118 WAE to check the list is present in the list.\n",
    "s=[10,30,]\n",
    "coll=[10,30,[10,30],40,50]\n",
    "print(s in coll)"
   ]
  },
  {
   "cell_type": "code",
   "execution_count": 35,
   "metadata": {},
   "outputs": [
    {
     "name": "stdout",
     "output_type": "stream",
     "text": [
      "True\n"
     ]
    }
   ],
   "source": [
    "##119 WAE to check the given dict value preent in tuple.\n",
    "s={10:20}\n",
    "coll=(10,20,{10:20},40)\n",
    "print(s in coll)"
   ]
  },
  {
   "cell_type": "code",
   "execution_count": 36,
   "metadata": {},
   "outputs": [
    {
     "name": "stdout",
     "output_type": "stream",
     "text": [
      "True\n"
     ]
    }
   ],
   "source": [
    "#120 WAE to check given value is integer or not.\n",
    "b=5\n",
    "print(type(b)==int)"
   ]
  },
  {
   "cell_type": "code",
   "execution_count": 37,
   "metadata": {},
   "outputs": [
    {
     "name": "stdout",
     "output_type": "stream",
     "text": [
      "True\n"
     ]
    }
   ],
   "source": [
    "#121 WAE to check given value is string or not.\n",
    "b=\"15\"\n",
    "print(type(b)==str)\n"
   ]
  },
  {
   "cell_type": "code",
   "execution_count": 39,
   "metadata": {},
   "outputs": [
    {
     "name": "stdout",
     "output_type": "stream",
     "text": [
      "True\n"
     ]
    }
   ],
   "source": [
    "#122 WAE to check given value is single value or not.\n",
    "c=b'10101'\n",
    "print(type(c) in [int,float,complex,bool,bytes,type(None)])"
   ]
  },
  {
   "cell_type": "code",
   "execution_count": 42,
   "metadata": {},
   "outputs": [
    {
     "name": "stdout",
     "output_type": "stream",
     "text": [
      "True\n"
     ]
    }
   ],
   "source": [
    "#123 WAE to check given value should not be a single value.\n",
    "c=\"10\"\n",
    "print(type(c) not in [int,float,complex,bool,bytes,type(None)])"
   ]
  },
  {
   "cell_type": "code",
   "execution_count": 43,
   "metadata": {},
   "outputs": [
    {
     "name": "stdout",
     "output_type": "stream",
     "text": [
      "True\n"
     ]
    }
   ],
   "source": [
    "#124 WAE to check given value is multi value or not.\n",
    "c=\"pys\"\n",
    "print(type(c) in[str,tuple,list,set,dict])"
   ]
  },
  {
   "cell_type": "code",
   "execution_count": 1,
   "metadata": {},
   "outputs": [
    {
     "name": "stdout",
     "output_type": "stream",
     "text": [
      "True\n"
     ]
    }
   ],
   "source": [
    "#125 WAE to check given value is a mutable value  or not.\n",
    "c=[10,20]\n",
    "print(type(c) in [dict,set,list])\n"
   ]
  },
  {
   "cell_type": "code",
   "execution_count": 3,
   "metadata": {},
   "outputs": [
    {
     "name": "stdout",
     "output_type": "stream",
     "text": [
      "True\n"
     ]
    }
   ],
   "source": [
    "#126 WAE to check given value is a inmutable value  or not.\n",
    "c=15+6j\n",
    "print(type(c) not in [dict,set,list])\n"
   ]
  },
  {
   "cell_type": "code",
   "execution_count": 4,
   "metadata": {},
   "outputs": [
    {
     "name": "stdout",
     "output_type": "stream",
     "text": [
      "True\n"
     ]
    }
   ],
   "source": [
    "#127 WAE to check if a given value is divisible by 6 as well as that value present in the collection or not.\n",
    "n=36\n",
    "print(n%6==0 and n in [10,26,36,50.40])"
   ]
  },
  {
   "cell_type": "code",
   "execution_count": 5,
   "metadata": {},
   "outputs": [
    {
     "name": "stdout",
     "output_type": "stream",
     "text": [
      "3\n"
     ]
    }
   ],
   "source": [
    "#128 WAE to check perform the bitwise and operation given values are 15 and 19.\n",
    "m=15\n",
    "n=19\n",
    "print(m&n)"
   ]
  },
  {
   "cell_type": "code",
   "execution_count": 6,
   "metadata": {},
   "outputs": [
    {
     "name": "stdout",
     "output_type": "stream",
     "text": [
      "127\n"
     ]
    }
   ],
   "source": [
    "#129 WAE to perform the bitwise or operation in given values are 115 and 79.\n",
    "m=115\n",
    "n=79\n",
    "print(m|n)"
   ]
  },
  {
   "cell_type": "code",
   "execution_count": 7,
   "metadata": {},
   "outputs": [
    {
     "name": "stdout",
     "output_type": "stream",
     "text": [
      "46\n"
     ]
    }
   ],
   "source": [
    "#130 WAE to perform the bitwise xor operation in given values are 56 and 22.\n",
    "m=56\n",
    "n=22\n",
    "print(m^n)"
   ]
  },
  {
   "cell_type": "code",
   "execution_count": null,
   "metadata": {},
   "outputs": [],
   "source": [
    "#131 WAE to perform the bitwise not operation in given value is 15.\n",
    "n=15\n",
    "print()"
   ]
  },
  {
   "cell_type": "code",
   "execution_count": 8,
   "metadata": {},
   "outputs": [
    {
     "name": "stdout",
     "output_type": "stream",
     "text": [
      "256\n"
     ]
    }
   ],
   "source": [
    "#132 WAE to perform the bitwise leftshift with 32 and skipping value is 3.\n",
    "m=32\n",
    "n=3\n",
    "print(m<<n)"
   ]
  },
  {
   "cell_type": "code",
   "execution_count": 9,
   "metadata": {},
   "outputs": [
    {
     "name": "stdout",
     "output_type": "stream",
     "text": [
      "6\n"
     ]
    }
   ],
   "source": [
    "#133 WAE to perform bitwise rightshift with 25 and skipping value is 2.\n",
    "m=25\n",
    "n=2\n",
    "print(m>>n)"
   ]
  },
  {
   "cell_type": "code",
   "execution_count": 1,
   "metadata": {},
   "outputs": [
    {
     "data": {
      "text/plain": [
       "1000"
      ]
     },
     "execution_count": 1,
     "metadata": {},
     "output_type": "execute_result"
    }
   ],
   "source": [
    "#134 To find out the output of a given condition.\n",
    "(10+20 *60 and 10**3) or ({10,20}or not ([15-16]))"
   ]
  },
  {
   "cell_type": "code",
   "execution_count": 17,
   "metadata": {},
   "outputs": [
    {
     "name": "stdout",
     "output_type": "stream",
     "text": [
      "True\n",
      "True\n"
     ]
    }
   ],
   "source": [
    "#135 WAE to check if a given key is present in a dict.\n",
    "d={'a':10,'haii':\"bye\",(100,):(10,20)}\n",
    "k='a'\n",
    "print(k in d)\n",
    "\n",
    "k='a'\n",
    "print(k in d.keys())"
   ]
  },
  {
   "cell_type": "code",
   "execution_count": 4,
   "metadata": {},
   "outputs": [
    {
     "name": "stdout",
     "output_type": "stream",
     "text": [
      "True\n"
     ]
    }
   ],
   "source": [
    "#136 WAE to check if value is present in a dict or not.\n",
    "d={'a':10,'haii':\"bye\",(100,):(10,20)}\n",
    "k=10\n",
    "print( k in d.values())"
   ]
  },
  {
   "cell_type": "code",
   "execution_count": 5,
   "metadata": {},
   "outputs": [
    {
     "name": "stdout",
     "output_type": "stream",
     "text": [
      "False\n",
      "False\n"
     ]
    }
   ],
   "source": [
    "#137  WAE to check if a given key is not present in a dict.\n",
    "d={'a':10,'haii':\"bye\",(100,):(10,20)}\n",
    "k='a'\n",
    "print(k not in d)\n",
    "\n",
    "k='a'\n",
    "print(k not in d.keys())"
   ]
  },
  {
   "cell_type": "code",
   "execution_count": 6,
   "metadata": {},
   "outputs": [
    {
     "name": "stdout",
     "output_type": "stream",
     "text": [
      "True\n"
     ]
    }
   ],
   "source": [
    "#138 WAE to check if the key value pair is present in given dict or not.\n",
    "d={'a':10,'haii':\"bye\",(100,):(10,20)}\n",
    "k=('a',10)\n",
    "print(k in d.items())"
   ]
  },
  {
   "cell_type": "code",
   "execution_count": 12,
   "metadata": {},
   "outputs": [
    {
     "name": "stdout",
     "output_type": "stream",
     "text": [
      "False\n",
      "True\n"
     ]
    }
   ],
   "source": [
    "#139 WAE to check if two values are pointing to the same address or not.\n",
    "a=257\n",
    "b=257\n",
    "print(a is b)\n",
    "\n",
    "a=15\n",
    "b=15\n",
    "print(a is b)"
   ]
  },
  {
   "cell_type": "code",
   "execution_count": 14,
   "metadata": {},
   "outputs": [
    {
     "name": "stdout",
     "output_type": "stream",
     "text": [
      "True\n"
     ]
    }
   ],
   "source": [
    "#140 WAE to check both the values should be integer and both the values are pointing to the same address.\n",
    "a=256\n",
    "b=256\n",
    "print(type(a)==int and type(b)==int and a is b)"
   ]
  }
 ],
 "metadata": {
  "kernelspec": {
   "display_name": "Python 3",
   "language": "python",
   "name": "python3"
  },
  "language_info": {
   "codemirror_mode": {
    "name": "ipython",
    "version": 3
   },
   "file_extension": ".py",
   "mimetype": "text/x-python",
   "name": "python",
   "nbconvert_exporter": "python",
   "pygments_lexer": "ipython3",
   "version": "3.11.4"
  },
  "orig_nbformat": 4
 },
 "nbformat": 4,
 "nbformat_minor": 2
}
