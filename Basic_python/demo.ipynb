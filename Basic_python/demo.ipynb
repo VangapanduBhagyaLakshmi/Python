{
 "cells": [
  {
   "cell_type": "code",
   "execution_count": 1,
   "metadata": {},
   "outputs": [
    {
     "name": "stdout",
     "output_type": "stream",
     "text": [
      "Hello World\n"
     ]
    }
   ],
   "source": [
    "#1.WAS to print \"Hello world\" \n",
    "print(\"Hello World\")"
   ]
  },
  {
   "cell_type": "code",
   "execution_count": 8,
   "metadata": {},
   "outputs": [
    {
     "name": "stdout",
     "output_type": "stream",
     "text": [
      "50\n"
     ]
    }
   ],
   "source": [
    "#2.WAS to initialize variable and value.\n",
    "a=50\n",
    "print(a)"
   ]
  },
  {
   "cell_type": "code",
   "execution_count": 9,
   "metadata": {},
   "outputs": [
    {
     "name": "stdout",
     "output_type": "stream",
     "text": [
      "150 120 250\n"
     ]
    }
   ],
   "source": [
    "#3.WAS to initialize multivariable values are 150,120,250.\n",
    "a,b,c=150,120,250\n",
    "print(a,b,c)\n"
   ]
  },
  {
   "cell_type": "code",
   "execution_count": 14,
   "metadata": {},
   "outputs": [
    {
     "data": {
      "text/plain": [
       "list"
      ]
     },
     "execution_count": 14,
     "metadata": {},
     "output_type": "execute_result"
    }
   ],
   "source": [
    "#4.WAS to print type of the data in given  value.\n",
    "a=[1,2,3]\n",
    "type(a)\n"
   ]
  },
  {
   "cell_type": "code",
   "execution_count": 15,
   "metadata": {},
   "outputs": [
    {
     "data": {
      "text/plain": [
       "2567554494224"
      ]
     },
     "execution_count": 15,
     "metadata": {},
     "output_type": "execute_result"
    }
   ],
   "source": [
    "#5.WAS to print the address of the memory block in given value.\n",
    "a=15.06\n",
    "id(a)"
   ]
  },
  {
   "cell_type": "code",
   "execution_count": 19,
   "metadata": {},
   "outputs": [
    {
     "name": "stdout",
     "output_type": "stream",
     "text": [
      "bhagya\n",
      "21\n",
      "9390899287 bhagyavangapandu@gmail.com\n"
     ]
    }
   ],
   "source": [
    "#6.WAS to print  your details,first store your details,extract the values and display it.\n",
    "name=\"bhagya\"\n",
    "age=21\n",
    "phone=9390899287\n",
    "email=\"bhagyavangapandu@gmail.com\"\n",
    "print(name)\n",
    "print(age)\n",
    "print(phone,email)"
   ]
  },
  {
   "cell_type": "code",
   "execution_count": 20,
   "metadata": {},
   "outputs": [
    {
     "name": "stdout",
     "output_type": "stream",
     "text": [
      "byee\n",
      "haii\n"
     ]
    }
   ],
   "source": [
    " #7.WAS to swap the two values with a temp variable.\n",
    "x=\"haii\"\n",
    "y=\"byee\"\n",
    "temp=x\n",
    "x=y\n",
    "y=temp\n",
    "print(x)\n",
    "print(y)\n"
   ]
  },
  {
   "cell_type": "code",
   "execution_count": 21,
   "metadata": {},
   "outputs": [
    {
     "name": "stdout",
     "output_type": "stream",
     "text": [
      "{10, 20, 30} (1, 2, 3)\n"
     ]
    }
   ],
   "source": [
    "#8.without temp variable.\n",
    "m=(1,2,3)\n",
    "n={10,20,30}\n",
    "m,n=n,m\n",
    "print(m,n)"
   ]
  },
  {
   "cell_type": "code",
   "execution_count": 24,
   "metadata": {},
   "outputs": [
    {
     "name": "stdout",
     "output_type": "stream",
     "text": [
      "{'a': 'pyspiders'}\n",
      "pyspiders\n",
      "{'a': 'qspiders'}\n",
      "qspiders\n",
      "[10, 20, 30]\n",
      "[10, 20, 30, 40, 50]\n"
     ]
    }
   ],
   "source": [
    "#9.WAS to initialize a value and print the value,after print the value,then reinitialize the new value to the existing variable and display the value.\n",
    "a={'a':\"pyspiders\"}\n",
    "print(a)\n",
    "print(a['a'])\n",
    "a['a']=\"qspiders\"\n",
    "print(a)\n",
    "print(a['a'])\n",
    "a=[10,20,30]\n",
    "print(a)\n",
    "a+=[40,50]\n",
    "print(a)\n",
    "del(a)\n",
    "\n",
    "\n",
    "\n"
   ]
  },
  {
   "cell_type": "code",
   "execution_count": 25,
   "metadata": {},
   "outputs": [
    {
     "name": "stdout",
     "output_type": "stream",
     "text": [
      "['1', '0']\n"
     ]
    }
   ],
   "source": [
    "#10.WAS to covert single to multi value data types.\n",
    "a=10\n",
    "print(list(str(a)))"
   ]
  },
  {
   "cell_type": "code",
   "execution_count": 26,
   "metadata": {},
   "outputs": [
    {
     "name": "stdout",
     "output_type": "stream",
     "text": [
      "helloworld\n",
      "[10, 20, 30, 50, 60]\n",
      "(1, 2, 3, 7, 8)\n",
      "{80, 10.06, 6, 70, 10, 'haii'}\n",
      "{10: 20, 40: 50, 'a': 'ok', 'b': 'its ok'}\n",
      "['10,20,30', 'h', 'a', 'i', 'i']\n",
      "[4, 5, 6, 10, 20]\n",
      "[8, 9, 80, 10, 30]\n"
     ]
    }
   ],
   "source": [
    "#11.WAS to concat the two multi value data types (str,list,tuple,set,dict)\n",
    "x=\"hello\"\n",
    "x+=\"world\"\n",
    "print(x)\n",
    "y=[10,20,30]\n",
    "y+=[50,60]\n",
    "print(y)\n",
    "z=(1,2,3)\n",
    "z+=(7,8)\n",
    "print(z)\n",
    "m={\"haii\",10,10.06,6}\n",
    "m|={70,80}\n",
    "print(m)\n",
    "n={10:20,40:50}\n",
    "n|={'a':\"ok\",'b':\"its ok\"}\n",
    "print(n)\n",
    "a=[\"10,20,30\"]\n",
    "a+=\"haii\"\n",
    "print(a)\n",
    "b=[1,2,3]\n",
    "b+=(4,5)\n",
    "c=[4,5,6]\n",
    "c+={10,20}\n",
    "print(c)\n",
    "d=[8,9,80]\n",
    "d+={10:20,30:40}\n",
    "print(d)"
   ]
  },
  {
   "cell_type": "code",
   "execution_count": 27,
   "metadata": {},
   "outputs": [
    {
     "name": "stdout",
     "output_type": "stream",
     "text": [
      "3\n",
      "5\n"
     ]
    }
   ],
   "source": [
    "#12.WAE to check the length of the collection.\n",
    "t=[4,5,6]\n",
    "print(len(t))\n",
    "u=\"hello\"\n",
    "print(len(u))"
   ]
  },
  {
   "cell_type": "code",
   "execution_count": 32,
   "metadata": {},
   "outputs": [
    {
     "name": "stdout",
     "output_type": "stream",
     "text": [
      "3\n",
      "4\n"
     ]
    }
   ],
   "source": [
    "#13.WAE to check find out the middle value of the given collection.\n",
    "a=[10,20,3,4]\n",
    "print (a[len(d)//2])\n",
    "c=[2,3,4,5,6]\n",
    "print(c[len(d)//2])"
   ]
  },
  {
   "cell_type": "code",
   "execution_count": 2,
   "metadata": {},
   "outputs": [
    {
     "name": "stdout",
     "output_type": "stream",
     "text": [
      " HaiiHow r you\n"
     ]
    }
   ],
   "source": [
    "#14 WAS to concat the new string into the starting of the given string.\n",
    "a=\"How r you\"\n",
    "b= \" Haii\"\n",
    "print(b+a)"
   ]
  },
  {
   "cell_type": "code",
   "execution_count": 3,
   "metadata": {},
   "outputs": [
    {
     "name": "stdout",
     "output_type": "stream",
     "text": [
      "worldhaii\n"
     ]
    }
   ],
   "source": [
    "#15 WAS to concat the new string into the ending of the given string.\n",
    "a=\"world\"\n",
    "b=\"haii\"\n",
    "print(a+b)"
   ]
  },
  {
   "cell_type": "code",
   "execution_count": 14,
   "metadata": {},
   "outputs": [
    {
     "data": {
      "text/plain": [
       "'apble'"
      ]
     },
     "execution_count": 14,
     "metadata": {},
     "output_type": "execute_result"
    }
   ],
   "source": [
    "#16 WAS to concat the new string into the middle of the given string.\n",
    "s=\"apple\"\n",
    "s[0:2]+\"b\"+s[3:]\n"
   ]
  },
  {
   "cell_type": "code",
   "execution_count": 7,
   "metadata": {},
   "outputs": [
    {
     "data": {
      "text/plain": [
       "'pyspIders'"
      ]
     },
     "execution_count": 7,
     "metadata": {},
     "output_type": "execute_result"
    }
   ],
   "source": [
    "#17 WAS to modify the new character into a middle of the given string.\n",
    "s=\"pyspiders\"\n",
    "s[len(s)//2]\n",
    "s[0:len(s)//2]+'I'+s[len(s)//2+1:]"
   ]
  },
  {
   "cell_type": "code",
   "execution_count": 8,
   "metadata": {},
   "outputs": [
    {
     "data": {
      "text/plain": [
       "'pyspiDers'"
      ]
     },
     "execution_count": 8,
     "metadata": {},
     "output_type": "execute_result"
    }
   ],
   "source": [
    "#18 WAS to replace the old character into a new character of the given string.\n",
    "s=\"pyspiders\"\n",
    "s[0:5]+\"D\"+s[6:]"
   ]
  },
  {
   "cell_type": "code",
   "execution_count": 12,
   "metadata": {},
   "outputs": [
    {
     "data": {
      "text/plain": [
       "'pypiders'"
      ]
     },
     "execution_count": 12,
     "metadata": {},
     "output_type": "execute_result"
    }
   ],
   "source": [
    "#19 WAS to delete the specific character in the given string.\n",
    "s=\"pyspiders\"\n",
    "s[0:2]+s[3:]"
   ]
  },
  {
   "cell_type": "code",
   "execution_count": 18,
   "metadata": {},
   "outputs": [
    {
     "data": {
      "text/plain": [
       "'pysPIDers'"
      ]
     },
     "execution_count": 18,
     "metadata": {},
     "output_type": "execute_result"
    }
   ],
   "source": [
    "#20 WAS to modify the sequence of character in given string.\n",
    "s=\"pyspiders\"\n",
    "s[0:3]+\"PID\"+s[6:]"
   ]
  },
  {
   "cell_type": "code",
   "execution_count": 21,
   "metadata": {},
   "outputs": [
    {
     "data": {
      "text/plain": [
       "'haii how are you'"
      ]
     },
     "execution_count": 21,
     "metadata": {},
     "output_type": "execute_result"
    }
   ],
   "source": [
    "#21 WAS to concat the newstring into the specific position of given string\n",
    "r=\"haii are you\"\n",
    "r[0:4+1]+\"how\"+r[4:]\n"
   ]
  },
  {
   "cell_type": "code",
   "execution_count": 22,
   "metadata": {},
   "outputs": [
    {
     "data": {
      "text/plain": [
       "'pysers'"
      ]
     },
     "execution_count": 22,
     "metadata": {},
     "output_type": "execute_result"
    }
   ],
   "source": [
    "#22 WAS to delete the sequence of character in given string\n",
    "s=\"pyspiders\"\n",
    "s[:3]+s[6:]"
   ]
  },
  {
   "cell_type": "code",
   "execution_count": 23,
   "metadata": {},
   "outputs": [
    {
     "name": "stdout",
     "output_type": "stream",
     "text": [
      "[4, 5, 1, 2, 3]\n",
      "['a', 'b', 10, 20, 30]\n"
     ]
    }
   ],
   "source": [
    "#23 WAS to concat the new value into the starting of the given list.\n",
    "l=[1,2,3]\n",
    "id(l)\n",
    "l=[4,5]+l\n",
    "id(l)\n",
    "print(l)\n",
    "\n",
    "l=[10,20,30]\n",
    "id(l)\n",
    "l[0:0]=['a','b']\n",
    "id(l)\n",
    "print(l)\n"
   ]
  },
  {
   "cell_type": "code",
   "execution_count": 25,
   "metadata": {},
   "outputs": [
    {
     "name": "stdout",
     "output_type": "stream",
     "text": [
      "[1, 2, 3, 10, 20]\n",
      "['a', 'b', 20, 30, 4, 5]\n"
     ]
    }
   ],
   "source": [
    "#24 WAS to concat the new value into the ending of the given list.\n",
    "a=[1,2,3]\n",
    "a=a+[10,20]\n",
    "print(a)\n",
    "\n",
    "l=['a','b',20,30]\n",
    "l+=[4,5]\n",
    "print(l)\n"
   ]
  },
  {
   "cell_type": "code",
   "execution_count": 26,
   "metadata": {},
   "outputs": [
    {
     "name": "stdout",
     "output_type": "stream",
     "text": [
      "[1, 2, 'a', 'b', 3, 4]\n"
     ]
    }
   ],
   "source": [
    "#25 WAS to concat the new value into the middle of the given list.\n",
    "l=[1,2,3,4]\n",
    "l[(len(l)//2):(len(l)//2)]=['a','b']\n",
    "print(l)"
   ]
  },
  {
   "cell_type": "code",
   "execution_count": 2,
   "metadata": {},
   "outputs": [
    {
     "name": "stdout",
     "output_type": "stream",
     "text": [
      "[100, 200, 20, 30, True, 10.02]\n"
     ]
    }
   ],
   "source": [
    "#26. WAS to concat the new values into the specific position of the given list.\n",
    "l=[100,200,True,10.02]\n",
    "l[2:2]=[20,30]\n",
    "print(l)\n"
   ]
  },
  {
   "cell_type": "code",
   "execution_count": 3,
   "metadata": {},
   "outputs": [
    {
     "name": "stdout",
     "output_type": "stream",
     "text": [
      "[1, 2, 3, 4, 100, 6]\n"
     ]
    }
   ],
   "source": [
    "#27. WAS to modify the new value into the specific position of list.\n",
    "l=[1,2,3,4,5,6]\n",
    "l[4]=100\n",
    "print(l)"
   ]
  },
  {
   "cell_type": "code",
   "execution_count": 5,
   "metadata": {},
   "outputs": [
    {
     "name": "stdout",
     "output_type": "stream",
     "text": [
      "[b'10101', 30, 60, 80, 100]\n",
      "[True, 200, 300, 400]\n"
     ]
    }
   ],
   "source": [
    "#28.WAS to modify the new value into the starting of the list.\n",
    "l=[10,30,60,80,100]\n",
    "l[0]=b'10101'\n",
    "print(l)\n",
    "l=[100,200,300,400]\n",
    "l[0]=True\n",
    "print(l)\n"
   ]
  },
  {
   "cell_type": "code",
   "execution_count": 6,
   "metadata": {},
   "outputs": [
    {
     "name": "stdout",
     "output_type": "stream",
     "text": [
      "[100, 300, 15.06, b'10101', {1, 2, 3}]\n"
     ]
    }
   ],
   "source": [
    "#29.WAS to modify the new value into the ending of list.\n",
    "a=[100,300,15.06,b'10101',15+5j]\n",
    "a[4]={1,2,3}\n",
    "print(a)"
   ]
  },
  {
   "cell_type": "code",
   "execution_count": 9,
   "metadata": {},
   "outputs": [
    {
     "name": "stdout",
     "output_type": "stream",
     "text": [
      "[10, 20, 30, 'Helloworld', 50, 100]\n"
     ]
    }
   ],
   "source": [
    "#30. WAS to modify the new value into the middle of the list.\n",
    "b=[10,20,30,40,50,100]\n",
    "b[len(b)//2]='Helloworld'\n",
    "print(b)\n"
   ]
  },
  {
   "cell_type": "code",
   "execution_count": 10,
   "metadata": {},
   "outputs": [
    {
     "name": "stdout",
     "output_type": "stream",
     "text": [
      "[True, False, None, b'10101', 10, 20, 30]\n"
     ]
    }
   ],
   "source": [
    "#31. WAS to modify the first 4 position values into a list.\n",
    "M=['a','b','c','d',10,20,30]\n",
    "M[0:3+1]=[True, False,None,b'10101']\n",
    "print(M)"
   ]
  },
  {
   "cell_type": "code",
   "execution_count": 1,
   "metadata": {},
   "outputs": [
    {
     "name": "stdout",
     "output_type": "stream",
     "text": [
      "[5, 3, 7, 4, 9, 5]\n"
     ]
    }
   ],
   "source": [
    "#32 WAS to modify the sequence of values into a given list.\n",
    "l=[5,6,7,8,9,10]\n",
    "l[1::2]=[3,4,5]\n",
    "print(l)\n",
    "\n"
   ]
  },
  {
   "cell_type": "code",
   "execution_count": 1,
   "metadata": {},
   "outputs": [
    {
     "name": "stdout",
     "output_type": "stream",
     "text": [
      "[1, 2, 3, 5, 6]\n"
     ]
    }
   ],
   "source": [
    "#33 WAS to delete the value in the specific position of list.\n",
    "l=[1,2,3,4,5,6]\n",
    "del l[3]\n",
    "print(l)"
   ]
  },
  {
   "cell_type": "code",
   "execution_count": 2,
   "metadata": {},
   "outputs": [
    {
     "name": "stdout",
     "output_type": "stream",
     "text": [
      "[4, 5, 6, 7]\n"
     ]
    }
   ],
   "source": [
    "#34 WAS to delete the new value into the ending of the list.\n",
    "l=[4,5,6,7,8]\n",
    "del l[-1]\n",
    "print(l)"
   ]
  },
  {
   "cell_type": "code",
   "execution_count": 3,
   "metadata": {},
   "outputs": [
    {
     "name": "stdout",
     "output_type": "stream",
     "text": [
      "[20, 30, True]\n"
     ]
    }
   ],
   "source": [
    "#35 WAS to delete the new value into the starting of the list.\n",
    "l=[10,20,30,True]\n",
    "del l[0]\n",
    "print(l)"
   ]
  },
  {
   "cell_type": "code",
   "execution_count": 4,
   "metadata": {},
   "outputs": [
    {
     "name": "stdout",
     "output_type": "stream",
     "text": [
      "[1, 3, 4, 67, 56, 8, 99]\n"
     ]
    }
   ],
   "source": [
    "#36 WAS to delete the value into middle of the list\n",
    "s=[1,3,4,67,47,56,8,99]\n",
    "del s[len(s)//2]\n",
    "print(s)"
   ]
  },
  {
   "cell_type": "code",
   "execution_count": 17,
   "metadata": {},
   "outputs": [
    {
     "name": "stdout",
     "output_type": "stream",
     "text": [
      "(1, 2, 3, [10, 20], 4, 5, 6)\n"
     ]
    }
   ],
   "source": [
    "# 37.WAS to concat the value into the middle of the tuple.\n",
    "a=(1,2,3,4,5,6)\n",
    "a=a[:len(a)//2]+ ([10,20],)+a[len(s)//2:]\n",
    "print(a)"
   ]
  },
  {
   "cell_type": "code",
   "execution_count": 1,
   "metadata": {},
   "outputs": [
    {
     "name": "stdout",
     "output_type": "stream",
     "text": [
      "('haii', 'hello', 'good', 'morning', 'good night')\n"
     ]
    }
   ],
   "source": [
    "#38 WAS to concat the value into starting of the tuple.\n",
    "t=(\"hello\",'good','morning',\"good night\")\n",
    "t=('haii',)+t\n",
    "print(t)"
   ]
  },
  {
   "cell_type": "code",
   "execution_count": 4,
   "metadata": {},
   "outputs": [
    {
     "name": "stdout",
     "output_type": "stream",
     "text": [
      "(1, 4, 5, 6, 7, 2)\n"
     ]
    }
   ],
   "source": [
    "#39 WAS to concat the value into the ending of the tuple.\n",
    "t=(1,4,5,6,7)\n",
    "t=t+(2,)\n",
    "print(t)"
   ]
  },
  {
   "cell_type": "code",
   "execution_count": 7,
   "metadata": {},
   "outputs": [
    {
     "name": "stdout",
     "output_type": "stream",
     "text": [
      "(1, 2, 10, 20, 5, 6)\n"
     ]
    }
   ],
   "source": [
    "#40 WAS to modify the sequence of values in given tuple.\n",
    "a=(1,2,3,4,5,6)\n",
    "a=a[0:2]+(10,20)+a[4:]\n",
    "print(a)"
   ]
  },
  {
   "cell_type": "code",
   "execution_count": 8,
   "metadata": {},
   "outputs": [
    {
     "name": "stdout",
     "output_type": "stream",
     "text": [
      "(1, 2, 5)\n"
     ]
    }
   ],
   "source": [
    "#41 WAS to delete sequence of values in given tuple.\n",
    "x=(1,2,3,4,5)\n",
    "x=x[0:2]+x[4:]\n",
    "print(x)"
   ]
  },
  {
   "cell_type": "code",
   "execution_count": 9,
   "metadata": {},
   "outputs": [
    {
     "name": "stdout",
     "output_type": "stream",
     "text": [
      "{1, 2, 3, 4, 5, 6, 20, 10}\n",
      "{50, 4, 20, 100, 7, 200, 10, 30}\n"
     ]
    }
   ],
   "source": [
    "#42 WAS to concat the new value into the set.\n",
    "s={1,2,3,4,5,6}\n",
    "s|={10,20}\n",
    "print(s)\n",
    "s={4,7,10,20,30,50}\n",
    "s=s|{100,200}\n",
    "print(s)"
   ]
  },
  {
   "cell_type": "code",
   "execution_count": 10,
   "metadata": {},
   "outputs": [
    {
     "name": "stdout",
     "output_type": "stream",
     "text": [
      "{4, 6, 10}\n"
     ]
    }
   ],
   "source": [
    "#43 WAS to delete the specific value into the set.\n",
    "s={1,3,4,6,9,10}\n",
    "s-={1,3,9}\n",
    "print(s)"
   ]
  },
  {
   "cell_type": "code",
   "execution_count": 13,
   "metadata": {},
   "outputs": [
    {
     "name": "stdout",
     "output_type": "stream",
     "text": [
      "{'a': 150, 'b': 750}\n",
      "{1: 2, 5: 8, 7: 8, 9: 80}\n"
     ]
    }
   ],
   "source": [
    "#44 WAS to concat the new key and value into the dict.\n",
    "d={'a':150}\n",
    "d['b']=750\n",
    "print(d)\n",
    "\n",
    "a={1:2,5:8}\n",
    "b={7:8,9:80}\n",
    "a|=b\n",
    "print(a)"
   ]
  },
  {
   "cell_type": "code",
   "execution_count": 15,
   "metadata": {},
   "outputs": [
    {
     "name": "stdout",
     "output_type": "stream",
     "text": [
      "{2: 10, 5: 30}\n"
     ]
    }
   ],
   "source": [
    "#45 WAS to delete the specific key and value in the given dict.\n",
    "d={2:10,5:30,6:50}\n",
    "del d[6]\n",
    "print(d)\n"
   ]
  },
  {
   "cell_type": "code",
   "execution_count": 17,
   "metadata": {},
   "outputs": [
    {
     "name": "stdout",
     "output_type": "stream",
     "text": [
      "{10: 'good', 20: 'haii'}\n"
     ]
    }
   ],
   "source": [
    " #46 WAS to modify the specific value in the given dict.\n",
    "x={10:150,20:\"haii\"}\n",
    "x[10]=\"good\"\n",
    "print(x)"
   ]
  },
  {
   "cell_type": "code",
   "execution_count": 19,
   "metadata": {},
   "outputs": [
    {
     "name": "stdout",
     "output_type": "stream",
     "text": [
      "['a', 'b', 'c', 10, 20, 30]\n"
     ]
    }
   ],
   "source": [
    "#47 WAS to concat the list and tuple values by using type casting.\n",
    "l=['a','b','c']\n",
    "t=(10,20,30)\n",
    "print(l+list(t))"
   ]
  },
  {
   "cell_type": "code",
   "execution_count": 23,
   "metadata": {},
   "outputs": [],
   "source": [
    "#48 WAS to concat the list value and tuple value without using type casting.\n",
    "l=[4,5,6]\n",
    "t=(10,20,30)\n",
    "res="
   ]
  },
  {
   "cell_type": "code",
   "execution_count": 25,
   "metadata": {},
   "outputs": [
    {
     "name": "stdout",
     "output_type": "stream",
     "text": [
      "True\n"
     ]
    }
   ],
   "source": [
    "#49 WAS to check the given number is divisible by 3.\n",
    "n=9\n",
    "print(n%3==0)"
   ]
  },
  {
   "cell_type": "code",
   "execution_count": 27,
   "metadata": {},
   "outputs": [
    {
     "name": "stdout",
     "output_type": "stream",
     "text": [
      "True\n"
     ]
    }
   ],
   "source": [
    "#50 WAS to check the given number is divisible by 2 and 6.\n",
    "n=12\n",
    "print(n%2==0 and n%6==0)"
   ]
  },
  {
   "cell_type": "code",
   "execution_count": 28,
   "metadata": {},
   "outputs": [
    {
     "name": "stdout",
     "output_type": "stream",
     "text": [
      "True\n"
     ]
    }
   ],
   "source": [
    "#51 WAS to check the last digit is divisible by 3 from given integer number(with out typecasting)\n",
    "n=1996\n",
    "print((n%10)%3==0)"
   ]
  },
  {
   "cell_type": "code",
   "execution_count": 29,
   "metadata": {},
   "outputs": [
    {
     "name": "stdout",
     "output_type": "stream",
     "text": [
      "6\n"
     ]
    }
   ],
   "source": [
    "#52 WAS to extract the last digit in given integer number (without typecasting)\n",
    "n=1996\n",
    "print(n%10)\n"
   ]
  },
  {
   "cell_type": "code",
   "execution_count": 30,
   "metadata": {},
   "outputs": [
    {
     "name": "stdout",
     "output_type": "stream",
     "text": [
      "True\n"
     ]
    }
   ],
   "source": [
    "#53 WAS to check the last digit by 3 from given integer number(with typecasting)\n",
    "n=2026\n",
    "print(int(str(n)[-1])%3==0)"
   ]
  },
  {
   "cell_type": "code",
   "execution_count": 31,
   "metadata": {},
   "outputs": [
    {
     "name": "stdout",
     "output_type": "stream",
     "text": [
      "True\n"
     ]
    }
   ],
   "source": [
    "#54 WAE to check the given number is greater than 150.\n",
    "n=250\n",
    "print(n>150)"
   ]
  },
  {
   "cell_type": "code",
   "execution_count": 32,
   "metadata": {},
   "outputs": [
    {
     "name": "stdout",
     "output_type": "stream",
     "text": [
      "True\n"
     ]
    }
   ],
   "source": [
    "#55 WAS to check thr given num is >=100.\n",
    "n=101\n",
    "print(n>=100)"
   ]
  },
  {
   "cell_type": "code",
   "execution_count": 33,
   "metadata": {},
   "outputs": [
    {
     "name": "stdout",
     "output_type": "stream",
     "text": [
      "True\n"
     ]
    }
   ],
   "source": [
    "#56 WAS to check the given num is <150.\n",
    "n=99\n",
    "print(n<150)"
   ]
  },
  {
   "cell_type": "code",
   "execution_count": 34,
   "metadata": {},
   "outputs": [
    {
     "name": "stdout",
     "output_type": "stream",
     "text": [
      "True\n"
     ]
    }
   ],
   "source": [
    "#57 WAS to check the given num is<=100.\n",
    "n=45\n",
    "print(n<=100)"
   ]
  },
  {
   "cell_type": "code",
   "execution_count": 35,
   "metadata": {},
   "outputs": [
    {
     "name": "stdout",
     "output_type": "stream",
     "text": [
      "True\n"
     ]
    }
   ],
   "source": [
    "#58 WAS to check the given num is > 15 & < 24.\n",
    "n=20\n",
    "print(n>15 and n<24)"
   ]
  },
  {
   "cell_type": "code",
   "execution_count": 36,
   "metadata": {},
   "outputs": [
    {
     "name": "stdout",
     "output_type": "stream",
     "text": [
      "True\n"
     ]
    }
   ],
   "source": [
    "#59 WAS to check the given num is even.\n",
    "n=44\n",
    "print(n%2==0)"
   ]
  },
  {
   "cell_type": "code",
   "execution_count": 38,
   "metadata": {},
   "outputs": [
    {
     "name": "stdout",
     "output_type": "stream",
     "text": [
      "False\n",
      "True\n"
     ]
    }
   ],
   "source": [
    "#60 WAS to check the given num is odd.\n",
    "n=16\n",
    "print(n%2!=0)\n",
    "\n",
    "n=15\n",
    "print(n%2!=0)"
   ]
  },
  {
   "cell_type": "code",
   "execution_count": 39,
   "metadata": {},
   "outputs": [
    {
     "name": "stdout",
     "output_type": "stream",
     "text": [
      "abcabcabcabc\n"
     ]
    }
   ],
   "source": [
    "#61 WAE to perform the replication of a given string.\n",
    "s=\"abc\"\n",
    "print(s*4)\n"
   ]
  },
  {
   "cell_type": "code",
   "execution_count": 40,
   "metadata": {},
   "outputs": [
    {
     "name": "stdout",
     "output_type": "stream",
     "text": [
      "True\n"
     ]
    }
   ],
   "source": [
    "#62 WAE to check the given num is divisible by 3 and also the num should be > 22.\n",
    "n=27\n",
    "print(n%3==0 and n>22)"
   ]
  },
  {
   "cell_type": "code",
   "execution_count": 41,
   "metadata": {},
   "outputs": [
    {
     "name": "stdout",
     "output_type": "stream",
     "text": [
      "False\n",
      "True\n"
     ]
    }
   ],
   "source": [
    "#63 WAs to check the perform the length of the collection is even or not.\n",
    "l='pyspiders'\n",
    "print(len(l)%2==0)\n",
    "\n",
    "l=\"pyspider\"\n",
    "print(len(l)%2==0)"
   ]
  },
  {
   "cell_type": "code",
   "execution_count": 42,
   "metadata": {},
   "outputs": [
    {
     "name": "stdout",
     "output_type": "stream",
     "text": [
      "True\n"
     ]
    }
   ],
   "source": [
    "#64 WAE to check perform the length of the collection is <55 and >16\n",
    "r=\"abcdefghijklmnopqrstuvwxyz\"\n",
    "print(len(r)>16 and len(r)<55)\n"
   ]
  },
  {
   "cell_type": "code",
   "execution_count": 45,
   "metadata": {},
   "outputs": [
    {
     "name": "stdout",
     "output_type": "stream",
     "text": [
      "True\n"
     ]
    }
   ],
   "source": [
    "#65 WAE to check perform the length of collection is divisible by 5 and odd\n",
    "g=\"abcdefghijklnmo\"\n",
    "print(len(g)%5==0 and len(g)%2!=0)"
   ]
  },
  {
   "cell_type": "code",
   "execution_count": 2,
   "metadata": {},
   "outputs": [
    {
     "name": "stdout",
     "output_type": "stream",
     "text": [
      "True\n"
     ]
    }
   ],
   "source": [
    "#66 WAS to check extract  middle position of a given collection is either (str,list,tuple)\n",
    "s=\"haii\"\n",
    "res=type(s[len(s)//2])\n",
    "print(res in[str,list,tuple])"
   ]
  },
  {
   "cell_type": "code",
   "execution_count": 4,
   "metadata": {},
   "outputs": [
    {
     "name": "stdout",
     "output_type": "stream",
     "text": [
      "True\n"
     ]
    }
   ],
   "source": [
    "#67 WAS to check the given number is greater than 20 and less tahn 30 and it should be even.\n",
    "n=24\n",
    "print(n>20 and n<30 and n%2==0)"
   ]
  },
  {
   "cell_type": "code",
   "execution_count": 1,
   "metadata": {},
   "outputs": [
    {
     "name": "stdout",
     "output_type": "stream",
     "text": [
      "True\n"
     ]
    }
   ],
   "source": [
    "#68 WAS  check the given number is even and it should be less than  120.\n",
    "n=96\n",
    "print(n%2==0 and n<120 )"
   ]
  },
  {
   "cell_type": "code",
   "execution_count": 2,
   "metadata": {},
   "outputs": [
    {
     "name": "stdout",
     "output_type": "stream",
     "text": [
      "True\n"
     ]
    }
   ],
   "source": [
    "#69 WAS to check the given number is even and present from 40 to 70.\n",
    "n=66\n",
    "print(n%2==0 and n<70 and n>40)"
   ]
  },
  {
   "cell_type": "code",
   "execution_count": 3,
   "metadata": {},
   "outputs": [
    {
     "name": "stdout",
     "output_type": "stream",
     "text": [
      "True\n"
     ]
    }
   ],
   "source": [
    "#70 WAS to check the given number is odd and it should be >97.\n",
    "n=105\n",
    "print(n%2!=0 and n>97)"
   ]
  },
  {
   "cell_type": "code",
   "execution_count": 4,
   "metadata": {},
   "outputs": [
    {
     "name": "stdout",
     "output_type": "stream",
     "text": [
      "True\n"
     ]
    }
   ],
   "source": [
    "#71 WAS to check the given num is< 122 and > 48 and the num divisible by 4.\n",
    "n=96\n",
    "print(n%4==0 and n<122 and n>48)"
   ]
  },
  {
   "cell_type": "code",
   "execution_count": 5,
   "metadata": {},
   "outputs": [
    {
     "name": "stdout",
     "output_type": "stream",
     "text": [
      "True\n"
     ]
    }
   ],
   "source": [
    "#72 WAS to check the given num is divisible by 3 0r 5 .\n",
    "n=18\n",
    "print(n%3==0 or n%5==0)"
   ]
  },
  {
   "cell_type": "code",
   "execution_count": 7,
   "metadata": {},
   "outputs": [
    {
     "name": "stdout",
     "output_type": "stream",
     "text": [
      "True\n",
      "True\n"
     ]
    }
   ],
   "source": [
    "#73 WAS to check the given num is between 100 to 200 including the limit.\n",
    "n=150\n",
    "print(100<n<200)\n",
    "print(n>=100 and n<=200)"
   ]
  },
  {
   "cell_type": "code",
   "execution_count": 8,
   "metadata": {},
   "outputs": [
    {
     "name": "stdout",
     "output_type": "stream",
     "text": [
      "True\n"
     ]
    }
   ],
   "source": [
    "#74 WAE to check the given num is between 100 to 200.\n",
    "n=180\n",
    "print(n>100 and n<200)"
   ]
  },
  {
   "cell_type": "code",
   "execution_count": 9,
   "metadata": {},
   "outputs": [
    {
     "name": "stdout",
     "output_type": "stream",
     "text": [
      "True\n"
     ]
    }
   ],
   "source": [
    "#75 WAE to check the given string last digit ascii value should be divisible by 5 or not.\n",
    "s=\"appld\"\n",
    "print(ord(s[-1])%5==0)"
   ]
  },
  {
   "cell_type": "code",
   "execution_count": 10,
   "metadata": {},
   "outputs": [
    {
     "name": "stdout",
     "output_type": "stream",
     "text": [
      "True\n"
     ]
    }
   ],
   "source": [
    "#76 WAE to check the given num is present between  60 to 130 and the num shold be divisible by 3 and 4 and the last digit should be < 9.\n",
    "n=120\n",
    "print(60<=n<=130 and n%3==0 and n%4==0 and n%10<9)\n"
   ]
  },
  {
   "cell_type": "code",
   "execution_count": 11,
   "metadata": {},
   "outputs": [
    {
     "name": "stdout",
     "output_type": "stream",
     "text": [
      "True\n"
     ]
    }
   ],
   "source": [
    "#77 WAE to check the given num is even or less than 25.\n",
    "n=23\n",
    "print(n%2==0 or n<25)"
   ]
  },
  {
   "cell_type": "code",
   "execution_count": 12,
   "metadata": {},
   "outputs": [
    {
     "name": "stdout",
     "output_type": "stream",
     "text": [
      "True\n"
     ]
    }
   ],
   "source": [
    "#78 WAE to check the given num is even or greater than 25.\n",
    "n=26\n",
    "print(n%2==0 or n>25)"
   ]
  },
  {
   "cell_type": "code",
   "execution_count": 13,
   "metadata": {},
   "outputs": [
    {
     "name": "stdout",
     "output_type": "stream",
     "text": [
      "True\n"
     ]
    }
   ],
   "source": [
    "#79 WAE to check the given number is divisible by either 3 or 5.\n",
    "n=27\n",
    "print(n%3==0 or n%5==0) "
   ]
  },
  {
   "cell_type": "code",
   "execution_count": 14,
   "metadata": {},
   "outputs": [
    {
     "name": "stdout",
     "output_type": "stream",
     "text": [
      "True\n"
     ]
    }
   ],
   "source": [
    "#80 WAE to check the given number is not an even number.\n",
    "n=45\n",
    "print(n%2!=0)"
   ]
  },
  {
   "cell_type": "code",
   "execution_count": 15,
   "metadata": {},
   "outputs": [
    {
     "name": "stdout",
     "output_type": "stream",
     "text": [
      "True\n"
     ]
    }
   ],
   "source": [
    "#81 WAE to check the given num is not an odd num.\n",
    "n=96\n",
    "print(n%2==0)"
   ]
  },
  {
   "cell_type": "code",
   "execution_count": 18,
   "metadata": {},
   "outputs": [
    {
     "name": "stdout",
     "output_type": "stream",
     "text": [
      "True\n"
     ]
    }
   ],
   "source": [
    "#82  WAE to check the given num is not divisible by 3\n",
    "n=28\n",
    "print(n%3!=0)"
   ]
  },
  {
   "cell_type": "code",
   "execution_count": 19,
   "metadata": {},
   "outputs": [
    {
     "name": "stdout",
     "output_type": "stream",
     "text": [
      "True\n"
     ]
    }
   ],
   "source": [
    "#83  WAE to check the given num is not divisible by 3 and 5.\n",
    "n=28\n",
    "print(n%3!=0 and n%5!=0)\n"
   ]
  },
  {
   "cell_type": "code",
   "execution_count": 20,
   "metadata": {},
   "outputs": [
    {
     "name": "stdout",
     "output_type": "stream",
     "text": [
      "True\n"
     ]
    }
   ],
   "source": [
    "#84  WAE to check the given num is not divisible by 3 or 5.\n",
    "n=27\n",
    "print(n%3!=0 or n%5!=0)"
   ]
  },
  {
   "cell_type": "code",
   "execution_count": 29,
   "metadata": {},
   "outputs": [
    {
     "name": "stdout",
     "output_type": "stream",
     "text": [
      "True\n"
     ]
    }
   ],
   "source": [
    "#85.WAE to check the given character ascii value is not divisible by 5.\n",
    "ch=\"B\"\n",
    "print(ord(ch)%5!=0)\n",
    "\n"
   ]
  },
  {
   "cell_type": "code",
   "execution_count": 30,
   "metadata": {},
   "outputs": [
    {
     "data": {
      "text/plain": [
       "'A'"
      ]
     },
     "execution_count": 30,
     "metadata": {},
     "output_type": "execute_result"
    }
   ],
   "source": [
    "#86. WAE to check to find out the ascii character is given num.\n",
    "n=65\n",
    "chr(n)"
   ]
  },
  {
   "cell_type": "code",
   "execution_count": 31,
   "metadata": {},
   "outputs": [
    {
     "data": {
      "text/plain": [
       "65"
      ]
     },
     "execution_count": 31,
     "metadata": {},
     "output_type": "execute_result"
    }
   ],
   "source": [
    "#87. WAE to check to find out the ascii value in a given character.\n",
    "ch=\"A\"\n",
    "ord(ch)"
   ]
  },
  {
   "cell_type": "code",
   "execution_count": 32,
   "metadata": {},
   "outputs": [
    {
     "data": {
      "text/plain": [
       "True"
      ]
     },
     "execution_count": 32,
     "metadata": {},
     "output_type": "execute_result"
    }
   ],
   "source": [
    "#88. WAE to check the given char is uppercase or not.\n",
    "ch=\"G\"\n",
    "'A'<=ch and ch<='Z'"
   ]
  },
  {
   "cell_type": "code",
   "execution_count": 2,
   "metadata": {},
   "outputs": [
    {
     "name": "stdout",
     "output_type": "stream",
     "text": [
      "True\n"
     ]
    }
   ],
   "source": [
    "#89 WAE to check the given char is lowercase or not.\n",
    "ch=\"a\"\n",
    "print('a'<=ch and ch<='z')"
   ]
  },
  {
   "cell_type": "code",
   "execution_count": 1,
   "metadata": {},
   "outputs": [
    {
     "name": "stdout",
     "output_type": "stream",
     "text": [
      "True\n"
     ]
    }
   ],
   "source": [
    "#90 WAE to check the given char is the alphabet.\n",
    "ch=\"G\"\n",
    "print('A'<=ch and ch<='Z' or 'a'<=ch and ch<='z')"
   ]
  },
  {
   "cell_type": "code",
   "execution_count": 3,
   "metadata": {},
   "outputs": [
    {
     "name": "stdout",
     "output_type": "stream",
     "text": [
      "True\n"
     ]
    }
   ],
   "source": [
    "# 91 WAE to check the given character is the ascii number.\n",
    "ch='5'\n",
    "print('0'<=ch<='9')\n"
   ]
  },
  {
   "cell_type": "code",
   "execution_count": 4,
   "metadata": {},
   "outputs": [
    {
     "name": "stdout",
     "output_type": "stream",
     "text": [
      "True\n"
     ]
    }
   ],
   "source": [
    "#92 WAE  to check the given character is the special character.\n",
    "ch='$'\n",
    "print (not('A'<=ch and ch<='Z' or 'a'<=ch and ch<='z' or'0'<=ch<='9' ))\n"
   ]
  },
  {
   "cell_type": "code",
   "execution_count": 5,
   "metadata": {},
   "outputs": [
    {
     "name": "stdout",
     "output_type": "stream",
     "text": [
      "False\n"
     ]
    }
   ],
   "source": [
    "# 93 WAE to check the given character should not be uppercase.\n",
    "ch=\"G\"\n",
    "print(not('A'<=ch and ch<='Z'))"
   ]
  },
  {
   "cell_type": "code",
   "execution_count": 6,
   "metadata": {},
   "outputs": [
    {
     "name": "stdout",
     "output_type": "stream",
     "text": [
      "False\n"
     ]
    }
   ],
   "source": [
    "#94 WAE to check the given character should not be lowercase.\n",
    "ch=\"a\"\n",
    "print(not('a'<=ch and ch<='z'))"
   ]
  }
 ],
 "metadata": {
  "kernelspec": {
   "display_name": "Python 3",
   "language": "python",
   "name": "python3"
  },
  "language_info": {
   "codemirror_mode": {
    "name": "ipython",
    "version": 3
   },
   "file_extension": ".py",
   "mimetype": "text/x-python",
   "name": "python",
   "nbconvert_exporter": "python",
   "pygments_lexer": "ipython3",
   "version": "3.11.4"
  },
  "orig_nbformat": 4
 },
 "nbformat": 4,
 "nbformat_minor": 2
}
