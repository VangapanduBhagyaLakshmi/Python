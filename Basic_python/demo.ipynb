{
 "cells": [
  {
   "cell_type": "code",
   "execution_count": 1,
   "metadata": {},
   "outputs": [
    {
     "name": "stdout",
     "output_type": "stream",
     "text": [
      "Hello World\n"
     ]
    }
   ],
   "source": [
    "#1.WAS to print \"Hello world\" \n",
    "print(\"Hello World\")"
   ]
  },
  {
   "cell_type": "code",
   "execution_count": 8,
   "metadata": {},
   "outputs": [
    {
     "name": "stdout",
     "output_type": "stream",
     "text": [
      "50\n"
     ]
    }
   ],
   "source": [
    "#2.WAS to initialize variable and value.\n",
    "a=50\n",
    "print(a)"
   ]
  },
  {
   "cell_type": "code",
   "execution_count": 9,
   "metadata": {},
   "outputs": [
    {
     "name": "stdout",
     "output_type": "stream",
     "text": [
      "150 120 250\n"
     ]
    }
   ],
   "source": [
    "#3.WAS to initialize multivariable values are 150,120,250.\n",
    "a,b,c=150,120,250\n",
    "print(a,b,c)\n"
   ]
  },
  {
   "cell_type": "code",
   "execution_count": 14,
   "metadata": {},
   "outputs": [
    {
     "data": {
      "text/plain": [
       "list"
      ]
     },
     "execution_count": 14,
     "metadata": {},
     "output_type": "execute_result"
    }
   ],
   "source": [
    "#4.WAS to print type of the data in given  value.\n",
    "a=[1,2,3]\n",
    "type(a)\n"
   ]
  },
  {
   "cell_type": "code",
   "execution_count": 15,
   "metadata": {},
   "outputs": [
    {
     "data": {
      "text/plain": [
       "2567554494224"
      ]
     },
     "execution_count": 15,
     "metadata": {},
     "output_type": "execute_result"
    }
   ],
   "source": [
    "#5.WAS to print the address of the memory block in given value.\n",
    "a=15.06\n",
    "id(a)"
   ]
  },
  {
   "cell_type": "code",
   "execution_count": 19,
   "metadata": {},
   "outputs": [
    {
     "name": "stdout",
     "output_type": "stream",
     "text": [
      "bhagya\n",
      "21\n",
      "9390899287 bhagyavangapandu@gmail.com\n"
     ]
    }
   ],
   "source": [
    "#6.WAS to print  your details,first store your details,extract the values and display it.\n",
    "name=\"bhagya\"\n",
    "age=21\n",
    "phone=9390899287\n",
    "email=\"bhagyavangapandu@gmail.com\"\n",
    "print(name)\n",
    "print(age)\n",
    "print(phone,email)"
   ]
  },
  {
   "cell_type": "code",
   "execution_count": 20,
   "metadata": {},
   "outputs": [
    {
     "name": "stdout",
     "output_type": "stream",
     "text": [
      "byee\n",
      "haii\n"
     ]
    }
   ],
   "source": [
    " #7.WAS to swap the two values with a temp variable.\n",
    "x=\"haii\"\n",
    "y=\"byee\"\n",
    "temp=x\n",
    "x=y\n",
    "y=temp\n",
    "print(x)\n",
    "print(y)\n"
   ]
  },
  {
   "cell_type": "code",
   "execution_count": 21,
   "metadata": {},
   "outputs": [
    {
     "name": "stdout",
     "output_type": "stream",
     "text": [
      "{10, 20, 30} (1, 2, 3)\n"
     ]
    }
   ],
   "source": [
    "#8.without temp variable.\n",
    "m=(1,2,3)\n",
    "n={10,20,30}\n",
    "m,n=n,m\n",
    "print(m,n)"
   ]
  },
  {
   "cell_type": "code",
   "execution_count": 24,
   "metadata": {},
   "outputs": [
    {
     "name": "stdout",
     "output_type": "stream",
     "text": [
      "{'a': 'pyspiders'}\n",
      "pyspiders\n",
      "{'a': 'qspiders'}\n",
      "qspiders\n",
      "[10, 20, 30]\n",
      "[10, 20, 30, 40, 50]\n"
     ]
    }
   ],
   "source": [
    "#9.WAS to initialize a value and print the value,after print the value,then reinitialize the new value to the existing variable and display the value.\n",
    "a={'a':\"pyspiders\"}\n",
    "print(a)\n",
    "print(a['a'])\n",
    "a['a']=\"qspiders\"\n",
    "print(a)\n",
    "print(a['a'])\n",
    "a=[10,20,30]\n",
    "print(a)\n",
    "a+=[40,50]\n",
    "print(a)\n",
    "del(a)\n",
    "\n",
    "\n",
    "\n"
   ]
  },
  {
   "cell_type": "code",
   "execution_count": 25,
   "metadata": {},
   "outputs": [
    {
     "name": "stdout",
     "output_type": "stream",
     "text": [
      "['1', '0']\n"
     ]
    }
   ],
   "source": [
    "#10.WAS to covert single to multi value data types.\n",
    "a=10\n",
    "print(list(str(a)))"
   ]
  },
  {
   "cell_type": "code",
   "execution_count": 26,
   "metadata": {},
   "outputs": [
    {
     "name": "stdout",
     "output_type": "stream",
     "text": [
      "helloworld\n",
      "[10, 20, 30, 50, 60]\n",
      "(1, 2, 3, 7, 8)\n",
      "{80, 10.06, 6, 70, 10, 'haii'}\n",
      "{10: 20, 40: 50, 'a': 'ok', 'b': 'its ok'}\n",
      "['10,20,30', 'h', 'a', 'i', 'i']\n",
      "[4, 5, 6, 10, 20]\n",
      "[8, 9, 80, 10, 30]\n"
     ]
    }
   ],
   "source": [
    "#11.WAS to concat the two multi value data types (str,list,tuple,set,dict)\n",
    "x=\"hello\"\n",
    "x+=\"world\"\n",
    "print(x)\n",
    "y=[10,20,30]\n",
    "y+=[50,60]\n",
    "print(y)\n",
    "z=(1,2,3)\n",
    "z+=(7,8)\n",
    "print(z)\n",
    "m={\"haii\",10,10.06,6}\n",
    "m|={70,80}\n",
    "print(m)\n",
    "n={10:20,40:50}\n",
    "n|={'a':\"ok\",'b':\"its ok\"}\n",
    "print(n)\n",
    "a=[\"10,20,30\"]\n",
    "a+=\"haii\"\n",
    "print(a)\n",
    "b=[1,2,3]\n",
    "b+=(4,5)\n",
    "c=[4,5,6]\n",
    "c+={10,20}\n",
    "print(c)\n",
    "d=[8,9,80]\n",
    "d+={10:20,30:40}\n",
    "print(d)"
   ]
  },
  {
   "cell_type": "code",
   "execution_count": 27,
   "metadata": {},
   "outputs": [
    {
     "name": "stdout",
     "output_type": "stream",
     "text": [
      "3\n",
      "5\n"
     ]
    }
   ],
   "source": [
    "#12.WAE to check the length of the collection.\n",
    "t=[4,5,6]\n",
    "print(len(t))\n",
    "u=\"hello\"\n",
    "print(len(u))"
   ]
  },
  {
   "cell_type": "code",
   "execution_count": 32,
   "metadata": {},
   "outputs": [
    {
     "name": "stdout",
     "output_type": "stream",
     "text": [
      "3\n",
      "4\n"
     ]
    }
   ],
   "source": [
    "#13.WAE to check find out the middle value of the given collection.\n",
    "a=[10,20,3,4]\n",
    "print (a[len(d)//2])\n",
    "c=[2,3,4,5,6]\n",
    "print(c[len(d)//2])"
   ]
  },
  {
   "cell_type": "code",
   "execution_count": 2,
   "metadata": {},
   "outputs": [
    {
     "name": "stdout",
     "output_type": "stream",
     "text": [
      " HaiiHow r you\n"
     ]
    }
   ],
   "source": [
    "#14 WAS to concat the new string into the starting of the given string.\n",
    "a=\"How r you\"\n",
    "b= \" Haii\"\n",
    "print(b+a)"
   ]
  },
  {
   "cell_type": "code",
   "execution_count": 3,
   "metadata": {},
   "outputs": [
    {
     "name": "stdout",
     "output_type": "stream",
     "text": [
      "worldhaii\n"
     ]
    }
   ],
   "source": [
    "#15 WAS to concat the new string into the ending of the given string.\n",
    "a=\"world\"\n",
    "b=\"haii\"\n",
    "print(a+b)"
   ]
  },
  {
   "cell_type": "code",
   "execution_count": 14,
   "metadata": {},
   "outputs": [
    {
     "data": {
      "text/plain": [
       "'apble'"
      ]
     },
     "execution_count": 14,
     "metadata": {},
     "output_type": "execute_result"
    }
   ],
   "source": [
    "#16 WAS to concat the new string into the middle of the given string.\n",
    "s=\"apple\"\n",
    "s[0:2]+\"b\"+s[3:]\n"
   ]
  },
  {
   "cell_type": "code",
   "execution_count": 7,
   "metadata": {},
   "outputs": [
    {
     "data": {
      "text/plain": [
       "'pyspIders'"
      ]
     },
     "execution_count": 7,
     "metadata": {},
     "output_type": "execute_result"
    }
   ],
   "source": [
    "#17 WAS to modify the new character into a middle of the given string.\n",
    "s=\"pyspiders\"\n",
    "s[len(s)//2]\n",
    "s[0:len(s)//2]+'I'+s[len(s)//2+1:]"
   ]
  },
  {
   "cell_type": "code",
   "execution_count": 8,
   "metadata": {},
   "outputs": [
    {
     "data": {
      "text/plain": [
       "'pyspiDers'"
      ]
     },
     "execution_count": 8,
     "metadata": {},
     "output_type": "execute_result"
    }
   ],
   "source": [
    "#18 WAS to replace the old character into a new character of the given string.\n",
    "s=\"pyspiders\"\n",
    "s[0:5]+\"D\"+s[6:]"
   ]
  },
  {
   "cell_type": "code",
   "execution_count": 12,
   "metadata": {},
   "outputs": [
    {
     "data": {
      "text/plain": [
       "'pypiders'"
      ]
     },
     "execution_count": 12,
     "metadata": {},
     "output_type": "execute_result"
    }
   ],
   "source": [
    "#19 WAS to delete the specific character in the given string.\n",
    "s=\"pyspiders\"\n",
    "s[0:2]+s[3:]"
   ]
  },
  {
   "cell_type": "code",
   "execution_count": 18,
   "metadata": {},
   "outputs": [
    {
     "data": {
      "text/plain": [
       "'pysPIDers'"
      ]
     },
     "execution_count": 18,
     "metadata": {},
     "output_type": "execute_result"
    }
   ],
   "source": [
    "#20 WAS to modify the sequence of character in given string.\n",
    "s=\"pyspiders\"\n",
    "s[0:3]+\"PID\"+s[6:]"
   ]
  },
  {
   "cell_type": "code",
   "execution_count": 21,
   "metadata": {},
   "outputs": [
    {
     "data": {
      "text/plain": [
       "'haii how are you'"
      ]
     },
     "execution_count": 21,
     "metadata": {},
     "output_type": "execute_result"
    }
   ],
   "source": [
    "#21 WAS to concat the newstring into the specific position of given string\n",
    "r=\"haii are you\"\n",
    "r[0:4+1]+\"how\"+r[4:]\n"
   ]
  },
  {
   "cell_type": "code",
   "execution_count": 22,
   "metadata": {},
   "outputs": [
    {
     "data": {
      "text/plain": [
       "'pysers'"
      ]
     },
     "execution_count": 22,
     "metadata": {},
     "output_type": "execute_result"
    }
   ],
   "source": [
    "#22 WAS to delete the sequence of character in given string\n",
    "s=\"pyspiders\"\n",
    "s[:3]+s[6:]"
   ]
  },
  {
   "cell_type": "code",
   "execution_count": 23,
   "metadata": {},
   "outputs": [
    {
     "name": "stdout",
     "output_type": "stream",
     "text": [
      "[4, 5, 1, 2, 3]\n",
      "['a', 'b', 10, 20, 30]\n"
     ]
    }
   ],
   "source": [
    "#23 WAS to concat the new value into the starting of the given list.\n",
    "l=[1,2,3]\n",
    "id(l)\n",
    "l=[4,5]+l\n",
    "id(l)\n",
    "print(l)\n",
    "\n",
    "l=[10,20,30]\n",
    "id(l)\n",
    "l[0:0]=['a','b']\n",
    "id(l)\n",
    "print(l)\n"
   ]
  },
  {
   "cell_type": "code",
   "execution_count": 25,
   "metadata": {},
   "outputs": [
    {
     "name": "stdout",
     "output_type": "stream",
     "text": [
      "[1, 2, 3, 10, 20]\n",
      "['a', 'b', 20, 30, 4, 5]\n"
     ]
    }
   ],
   "source": [
    "#24 WAS to concat the new value into the ending of the given list.\n",
    "a=[1,2,3]\n",
    "a=a+[10,20]\n",
    "print(a)\n",
    "\n",
    "l=['a','b',20,30]\n",
    "l+=[4,5]\n",
    "print(l)\n"
   ]
  },
  {
   "cell_type": "code",
   "execution_count": 26,
   "metadata": {},
   "outputs": [
    {
     "name": "stdout",
     "output_type": "stream",
     "text": [
      "[1, 2, 'a', 'b', 3, 4]\n"
     ]
    }
   ],
   "source": [
    "#25 WAS to concat the new value into the middle of the given list.\n",
    "l=[1,2,3,4]\n",
    "l[(len(l)//2):(len(l)//2)]=['a','b']\n",
    "print(l)"
   ]
  },
  {
   "cell_type": "code",
   "execution_count": 2,
   "metadata": {},
   "outputs": [
    {
     "name": "stdout",
     "output_type": "stream",
     "text": [
      "[100, 200, 20, 30, True, 10.02]\n"
     ]
    }
   ],
   "source": [
    "#26. WAS to concat the new values into the specific position of the given list.\n",
    "l=[100,200,True,10.02]\n",
    "l[2:2]=[20,30]\n",
    "print(l)\n"
   ]
  },
  {
   "cell_type": "code",
   "execution_count": 3,
   "metadata": {},
   "outputs": [
    {
     "name": "stdout",
     "output_type": "stream",
     "text": [
      "[1, 2, 3, 4, 100, 6]\n"
     ]
    }
   ],
   "source": [
    "#27. WAS to modify the new value into the specific position of list.\n",
    "l=[1,2,3,4,5,6]\n",
    "l[4]=100\n",
    "print(l)"
   ]
  },
  {
   "cell_type": "code",
   "execution_count": 5,
   "metadata": {},
   "outputs": [
    {
     "name": "stdout",
     "output_type": "stream",
     "text": [
      "[b'10101', 30, 60, 80, 100]\n",
      "[True, 200, 300, 400]\n"
     ]
    }
   ],
   "source": [
    "#28.WAS to modify the new value into the starting of the list.\n",
    "l=[10,30,60,80,100]\n",
    "l[0]=b'10101'\n",
    "print(l)\n",
    "l=[100,200,300,400]\n",
    "l[0]=True\n",
    "print(l)\n"
   ]
  },
  {
   "cell_type": "code",
   "execution_count": 6,
   "metadata": {},
   "outputs": [
    {
     "name": "stdout",
     "output_type": "stream",
     "text": [
      "[100, 300, 15.06, b'10101', {1, 2, 3}]\n"
     ]
    }
   ],
   "source": [
    "#29.WAS to modify the new value into the ending of list.\n",
    "a=[100,300,15.06,b'10101',15+5j]\n",
    "a[4]={1,2,3}\n",
    "print(a)"
   ]
  },
  {
   "cell_type": "code",
   "execution_count": 9,
   "metadata": {},
   "outputs": [
    {
     "name": "stdout",
     "output_type": "stream",
     "text": [
      "[10, 20, 30, 'Helloworld', 50, 100]\n"
     ]
    }
   ],
   "source": [
    "#30. WAS to modify the new value into the middle of the list.\n",
    "b=[10,20,30,40,50,100]\n",
    "b[len(b)//2]='Helloworld'\n",
    "print(b)\n"
   ]
  },
  {
   "cell_type": "code",
   "execution_count": 10,
   "metadata": {},
   "outputs": [
    {
     "name": "stdout",
     "output_type": "stream",
     "text": [
      "[True, False, None, b'10101', 10, 20, 30]\n"
     ]
    }
   ],
   "source": [
    "#31. WAS to modify the first 4 position values into a list.\n",
    "M=['a','b','c','d',10,20,30]\n",
    "M[0:3+1]=[True, False,None,b'10101']\n",
    "print(M)"
   ]
  },
  {
   "cell_type": "code",
   "execution_count": 1,
   "metadata": {},
   "outputs": [
    {
     "name": "stdout",
     "output_type": "stream",
     "text": [
      "[5, 3, 7, 4, 9, 5]\n"
     ]
    }
   ],
   "source": [
    "#32 WAS to modify the sequence of values into a given list.\n",
    "l=[5,6,7,8,9,10]\n",
    "l[1::2]=[3,4,5]\n",
    "print(l)\n",
    "\n"
   ]
  },
  {
   "cell_type": "code",
   "execution_count": 1,
   "metadata": {},
   "outputs": [
    {
     "name": "stdout",
     "output_type": "stream",
     "text": [
      "[1, 2, 3, 5, 6]\n"
     ]
    }
   ],
   "source": [
    "#33 WAS to delete the value in the specific position of list.\n",
    "l=[1,2,3,4,5,6]\n",
    "del l[3]\n",
    "print(l)"
   ]
  },
  {
   "cell_type": "code",
   "execution_count": 2,
   "metadata": {},
   "outputs": [
    {
     "name": "stdout",
     "output_type": "stream",
     "text": [
      "[4, 5, 6, 7]\n"
     ]
    }
   ],
   "source": [
    "#34 WAS to delete the new value into the ending of the list.\n",
    "l=[4,5,6,7,8]\n",
    "del l[-1]\n",
    "print(l)"
   ]
  },
  {
   "cell_type": "code",
   "execution_count": 3,
   "metadata": {},
   "outputs": [
    {
     "name": "stdout",
     "output_type": "stream",
     "text": [
      "[20, 30, True]\n"
     ]
    }
   ],
   "source": [
    "#35 WAS to delete the new value into the starting of the list.\n",
    "l=[10,20,30,True]\n",
    "del l[0]\n",
    "print(l)"
   ]
  },
  {
   "cell_type": "code",
   "execution_count": 4,
   "metadata": {},
   "outputs": [
    {
     "name": "stdout",
     "output_type": "stream",
     "text": [
      "[1, 3, 4, 67, 56, 8, 99]\n"
     ]
    }
   ],
   "source": [
    "#36 WAS to delete the value into middle of the list\n",
    "s=[1,3,4,67,47,56,8,99]\n",
    "del s[len(s)//2]\n",
    "print(s)"
   ]
  },
  {
   "cell_type": "code",
   "execution_count": 17,
   "metadata": {},
   "outputs": [
    {
     "name": "stdout",
     "output_type": "stream",
     "text": [
      "(1, 2, 3, [10, 20], 4, 5, 6)\n"
     ]
    }
   ],
   "source": [
    "# 37.WAS to concat the value into the middle of the tuple.\n",
    "a=(1,2,3,4,5,6)\n",
    "a=a[:len(a)//2]+ ([10,20],)+a[len(s)//2:]\n",
    "print(a)"
   ]
  },
  {
   "cell_type": "code",
   "execution_count": null,
   "metadata": {},
   "outputs": [],
   "source": []
  }
 ],
 "metadata": {
  "kernelspec": {
   "display_name": "Python 3",
   "language": "python",
   "name": "python3"
  },
  "language_info": {
   "codemirror_mode": {
    "name": "ipython",
    "version": 3
   },
   "file_extension": ".py",
   "mimetype": "text/x-python",
   "name": "python",
   "nbconvert_exporter": "python",
   "pygments_lexer": "ipython3",
   "version": "3.11.4"
  },
  "orig_nbformat": 4
 },
 "nbformat": 4,
 "nbformat_minor": 2
}
