{
 "cells": [
  {
   "cell_type": "code",
   "execution_count": 1,
   "metadata": {},
   "outputs": [
    {
     "name": "stdout",
     "output_type": "stream",
     "text": [
      "given value is postive\n"
     ]
    }
   ],
   "source": [
    "#1 WAP to check whether a number is positive. If Positive, print a message Positive.\n",
    "n=6\n",
    "if 0<=n:\n",
    "    print(\"given value is postive\")"
   ]
  },
  {
   "cell_type": "code",
   "execution_count": 3,
   "metadata": {},
   "outputs": [
    {
     "name": "stdout",
     "output_type": "stream",
     "text": [
      "hello world\n"
     ]
    }
   ],
   "source": [
    "#2 WAP to display hello world if the number is greater than 1 and lesser than 5\n",
    "n=4\n",
    "if 1<n<5:\n",
    "    print(\"hello world\")"
   ]
  },
  {
   "cell_type": "code",
   "execution_count": 6,
   "metadata": {},
   "outputs": [
    {
     "name": "stdout",
     "output_type": "stream",
     "text": [
      "fizz\n"
     ]
    }
   ],
   "source": [
    "# 3 WAP to check whether the given number is divisible by 3 or not if print fizz.\n",
    "n=48\n",
    "if n%3==0:\n",
    "    print(\"fizz\")"
   ]
  },
  {
   "cell_type": "code",
   "execution_count": 7,
   "metadata": {},
   "outputs": [
    {
     "name": "stdout",
     "output_type": "stream",
     "text": [
      "(54+0j)\n"
     ]
    }
   ],
   "source": [
    "#4 WAP to check whether given input is divisible by 2 and 6. If the condition is satisfied, convert the given number into a complex number.\n",
    "n=54\n",
    "if n%2==0 and n%6==0:\n",
    "    print(complex(n))"
   ]
  },
  {
   "cell_type": "code",
   "execution_count": 9,
   "metadata": {},
   "outputs": [
    {
     "name": "stdout",
     "output_type": "stream",
     "text": [
      "['3', '0']\n"
     ]
    }
   ],
   "source": [
    "#5 WAP to check whether a given input is divisible by 3 or 5. If the condition is satisfied, the number is converted to a list.\n",
    "n=30\n",
    "if n%3==0 and n%5==0:\n",
    "    print(list(str(n)))"
   ]
  },
  {
   "cell_type": "code",
   "execution_count": 14,
   "metadata": {},
   "outputs": [
    {
     "name": "stdout",
     "output_type": "stream",
     "text": [
      "60is multiple of 5\n",
      "given number is multiple of 5\n"
     ]
    }
   ],
   "source": [
    "#6 Write a program to check whether a given number is multiple of 5 or not\n",
    "n=60\n",
    "if n%5==0:\n",
    "    print(f\"{n}is multiple of 5\")\n",
    "    print(\"given number is multiple of 5\")"
   ]
  },
  {
   "cell_type": "code",
   "execution_count": 17,
   "metadata": {},
   "outputs": [
    {
     "name": "stdout",
     "output_type": "stream",
     "text": [
      "0\n"
     ]
    }
   ],
   "source": [
    "#7 WAP to check whether the given input is 0 or not if 0 prints 0.\n",
    "n=0\n",
    "if n==0:\n",
    "    print(\"0\")"
   ]
  },
  {
   "cell_type": "code",
   "execution_count": 18,
   "metadata": {},
   "outputs": [
    {
     "name": "stdout",
     "output_type": "stream",
     "text": [
      "negative\n"
     ]
    }
   ],
   "source": [
    "#8 WAP to check whether a number is negative. If negative, print a message negative.\n",
    "n=-20\n",
    "if n<=0:\n",
    "    print(\"negative\")"
   ]
  },
  {
   "cell_type": "code",
   "execution_count": 3,
   "metadata": {},
   "outputs": [
    {
     "name": "stdout",
     "output_type": "stream",
     "text": [
      "[102]\n",
      "[56]\n"
     ]
    }
   ],
   "source": [
    "#9 WAP to check whether a number is even or not. If even, store the value inside the list.\n",
    "n=102\n",
    "if n%2==0:\n",
    "    x= [n]\n",
    "    print(x)\n",
    "  \n",
    "n=56\n",
    "if n%2==0:\n",
    "    x= [n]\n",
    "    print(x)"
   ]
  },
  {
   "cell_type": "code",
   "execution_count": 2,
   "metadata": {},
   "outputs": [
    {
     "name": "stdout",
     "output_type": "stream",
     "text": [
      "(35,)\n"
     ]
    }
   ],
   "source": [
    "#10 WAP to check whether a number is odd or not. If odd, store the value inside the tuple.\n",
    "n=35\n",
    "if n%2!=0:\n",
    "    print((n,))"
   ]
  },
  {
   "cell_type": "code",
   "execution_count": 6,
   "metadata": {},
   "outputs": [
    {
     "name": "stdout",
     "output_type": "stream",
     "text": [
      "256\n"
     ]
    }
   ],
   "source": [
    "#11 WAP to check if the given number is even or not. if it is yes, to print the power of 4 in a given number.\n",
    "n=4\n",
    "if n%2==0:\n",
    "    print(4**4)"
   ]
  },
  {
   "cell_type": "code",
   "execution_count": 17,
   "metadata": {},
   "outputs": [
    {
     "name": "stdout",
     "output_type": "stream",
     "text": [
      "55\n"
     ]
    }
   ],
   "source": [
    "#12 WAP to take the input from the user as a number and check whether it is a number or not. if yes. take the number and add some value and print it.\n",
    "n=50\n",
    "if \"0<=n<=9\":\n",
    "    print(n+5)"
   ]
  },
  {
   "cell_type": "code",
   "execution_count": 11,
   "metadata": {},
   "outputs": [
    {
     "name": "stdout",
     "output_type": "stream",
     "text": [
      "Hello world\n"
     ]
    }
   ],
   "source": [
    "#13 WAP to display hello world if the number is greater than 1 and less than 5.\n",
    "n=3\n",
    "if 1<n<5:\n",
    "    print(\"Hello world\")"
   ]
  },
  {
   "cell_type": "code",
   "execution_count": 18,
   "metadata": {},
   "outputs": [
    {
     "name": "stdout",
     "output_type": "stream",
     "text": [
      "1225\n"
     ]
    }
   ],
   "source": [
    "#14 WAP to check whether a given value is divisible by 5 and 7. If the value is\n",
    "#divisible,to display the square of the value.\n",
    "n=35\n",
    "if n%5==0 and n%7==0:\n",
    "    print(n**2)"
   ]
  },
  {
   "cell_type": "code",
   "execution_count": 24,
   "metadata": {},
   "outputs": [
    {
     "name": "stdout",
     "output_type": "stream",
     "text": [
      "2\n"
     ]
    }
   ],
   "source": [
    "#15 WAP to check whether the given value's last digit is greater than 5 or not.if\n",
    "#greater, to perform the bitwise right shift operator (skipping value is 2)\n",
    "n=128\n",
    "x=n%10\n",
    "if x>5:\n",
    "    print(x>>2)"
   ]
  },
  {
   "cell_type": "code",
   "execution_count": 25,
   "metadata": {},
   "outputs": [
    {
     "name": "stdout",
     "output_type": "stream",
     "text": [
      "324\n",
      "324\n"
     ]
    }
   ],
   "source": [
    "#16 WAP to check whether a given value is divisible by 3 and less than 30. If the value\n",
    "#is divisible,to display the square of the value.\n",
    "n=18\n",
    "x=n%3\n",
    "if n<30:\n",
    "    print(n**2)\n",
    "\n",
    "n=18\n",
    "if (n%3==0)<30:\n",
    "    print(n**2)\n"
   ]
  },
  {
   "cell_type": "code",
   "execution_count": 26,
   "metadata": {},
   "outputs": [
    {
     "name": "stdout",
     "output_type": "stream",
     "text": [
      "4096\n"
     ]
    }
   ],
   "source": [
    "#17 WAP to check whether a given value is an even number and divisible by 4. If\n",
    "#satisfied ,to display the cube of the value.\n",
    "n=16\n",
    "if n%4==0 and n%2==0:\n",
    "    print(n**3)"
   ]
  },
  {
   "cell_type": "code",
   "execution_count": 2,
   "metadata": {},
   "outputs": [
    {
     "name": "stdout",
     "output_type": "stream",
     "text": [
      "[42]\n"
     ]
    }
   ],
   "source": [
    "#18 WAP to check whether a given value is even or not. If the even number stores the\n",
    "#value inside the list.\n",
    "n=42\n",
    "if n%2==0:\n",
    "    print([n])"
   ]
  },
  {
   "cell_type": "code",
   "execution_count": 33,
   "metadata": {},
   "outputs": [
    {
     "name": "stdout",
     "output_type": "stream",
     "text": [
      "5\n"
     ]
    }
   ],
   "source": [
    "#19 WAP to check whether a given value is a negative or even number. If satisfied ,to\n",
    "#display the last digit of the values.\n",
    "n=-105\n",
    "if n<=0 or n%2==0:\n",
    "    x=(n%10)\n",
    "    print(x)"
   ]
  },
  {
   "cell_type": "code",
   "execution_count": 15,
   "metadata": {},
   "outputs": [
    {
     "name": "stdout",
     "output_type": "stream",
     "text": [
      "-4096\n"
     ]
    }
   ],
   "source": [
    "#20 WAP to check whether a given value is a negative or odd number and divisible\n",
    "#by 4. If satisfied ,to display the cube of the values.\n",
    "n=-16\n",
    "if n<=0 or n%2!=0 and n%4==0:\n",
    "    print(n**3)"
   ]
  },
  {
   "cell_type": "code",
   "execution_count": 36,
   "metadata": {},
   "outputs": [
    {
     "name": "stdout",
     "output_type": "stream",
     "text": [
      "D\n"
     ]
    }
   ],
   "source": [
    "#21 WAP to check whether a given ascii value is divisible by 4 and even value. If\n",
    "# satisfied, to display the ascii character\n",
    "n=68\n",
    "if n%4==0 and n%2==0:\n",
    "    print(chr(n))"
   ]
  },
  {
   "cell_type": "code",
   "execution_count": 37,
   "metadata": {},
   "outputs": [
    {
     "name": "stdout",
     "output_type": "stream",
     "text": [
      "x\n"
     ]
    }
   ],
   "source": [
    "#22 WAP to check whether a given value is present in between 45 to 125 and the\n",
    "#number should be divisible by 4 and 5 and even value. If satisfied, to display the ascii character.\n",
    "n=120\n",
    "if n%4==0 and n%5==0 and n%2==0 and 45<=n<=125:\n",
    "    print(chr(n))"
   ]
  },
  {
   "cell_type": "code",
   "execution_count": 39,
   "metadata": {},
   "outputs": [
    {
     "name": "stdout",
     "output_type": "stream",
     "text": [
      "400\n"
     ]
    }
   ],
   "source": [
    "#23 WAP to check whether a given value is present in between 25 to 100 and the\n",
    "#number should be divisible by 4 and 5. If satisfied, to display multiplication of given value with 5.\n",
    "n=80\n",
    "if n%4==0 and n%5==0 and 25<=n<=100:\n",
    "    print(n*5)"
   ]
  },
  {
   "cell_type": "code",
   "execution_count": 43,
   "metadata": {},
   "outputs": [
    {
     "name": "stdout",
     "output_type": "stream",
     "text": [
      "0\n"
     ]
    }
   ],
   "source": [
    "#24 WAP to check whether a given number is an integer and odd number. If the\n",
    "#condition is satisfied, the integer is divisible by 5 and displays the result.\n",
    "n=65\n",
    "if n%2!=0 and type(n)==int:\n",
    "    print(n%5)"
   ]
  },
  {
   "cell_type": "code",
   "execution_count": 4,
   "metadata": {},
   "outputs": [
    {
     "name": "stdout",
     "output_type": "stream",
     "text": [
      "20\n"
     ]
    }
   ],
   "source": [
    "#25 WAP to check whether a given value is an integer or not. If integer, the given\n",
    "#value is converted to string and displays the result.\n",
    "n=20\n",
    "if type(n)==int:\n",
    "    res=str(n)\n",
    "    print(res)"
   ]
  },
  {
   "cell_type": "code",
   "execution_count": 5,
   "metadata": {},
   "outputs": [
    {
     "name": "stdout",
     "output_type": "stream",
     "text": [
      "g\n"
     ]
    }
   ],
   "source": [
    "#26 WAP to check whether a given value is less than 125 and greater than 60 or not. \n",
    "#If the condition is satisfied, take the name and extract the middle character and display it.\n",
    "n=100\n",
    "if n<125 and n>60:\n",
    "    a=\"bhagya\"\n",
    "    res=a[len(a)//2]\n",
    "    print(res)"
   ]
  },
  {
   "cell_type": "code",
   "execution_count": 11,
   "metadata": {},
   "outputs": [
    {
     "name": "stdout",
     "output_type": "stream",
     "text": [
      "20\n"
     ]
    }
   ],
   "source": [
    "#27 WAP to check whether a given two integers are equal or not. If both are equal, to perform addition and display the result.\n",
    "a,b=10,10\n",
    "if a==b:\n",
    "    res=(a+b)\n",
    "    print(res)"
   ]
  },
  {
   "cell_type": "code",
   "execution_count": 13,
   "metadata": {},
   "outputs": [
    {
     "name": "stdout",
     "output_type": "stream",
     "text": [
      "0\n"
     ]
    }
   ],
   "source": [
    "#28 WAP to check whether two values are equal or not. if equal, to perform  \n",
    "#multiplication of two numbers and that result is division by 3 and display the value\n",
    "m,n=3,3\n",
    "if m==n:\n",
    "    res=(m*n)\n",
    "    print(res%3)"
   ]
  },
  {
   "cell_type": "code",
   "execution_count": 4,
   "metadata": {},
   "outputs": [
    {
     "name": "stdout",
     "output_type": "stream",
     "text": [
      "{'A': 65}\n"
     ]
    }
   ],
   "source": [
    "#29 WAP to check whether a character is in the alphabet or not. If the alphabet, store \n",
    "#the value inside the dict(key as a character and value as an ascii value).\n",
    "ch='A'\n",
    "d={}\n",
    "if \"a\"<=ch<=\"z\" or \"A\"<=ch<=\"Z\":\n",
    "    d[ch]=ord(ch)\n",
    "    print(d)"
   ]
  },
  {
   "cell_type": "code",
   "execution_count": 17,
   "metadata": {},
   "outputs": [
    {
     "name": "stdout",
     "output_type": "stream",
     "text": [
      "{'A': 65}\n"
     ]
    }
   ],
   "source": [
    "#30 WAP to check whether a character is in the uppercase or not. If the uppercase, \n",
    "#store the value inside the dict(key as a character and value as an ascii value).\n",
    "ch='A'\n",
    "d={}\n",
    "if \"A\"<=ch<=\"Z\":\n",
    "    d[ch]=ord(ch)\n",
    "    print(d)"
   ]
  },
  {
   "cell_type": "code",
   "execution_count": 13,
   "metadata": {},
   "outputs": [
    {
     "name": "stdout",
     "output_type": "stream",
     "text": [
      "{'a': 97}\n"
     ]
    }
   ],
   "source": [
    "#31 WAP to check whether a character is in the uppercase or not. If the uppercase, \n",
    "#convert to lowercase and store the value inside the dict(character as a key and ascii value as a value)\n",
    "ch='A'\n",
    "d={}\n",
    "if \"A\"<=ch<=\"Z\":\n",
    "    res=chr(ord(ch)+32)\n",
    "    d[res]=ord(res)\n",
    "    print(d)"
   ]
  },
  {
   "cell_type": "code",
   "execution_count": 27,
   "metadata": {},
   "outputs": [
    {
     "name": "stdout",
     "output_type": "stream",
     "text": [
      "bbbb\n"
     ]
    }
   ],
   "source": [
    "#32 WAP to check whether a character is in the lowercase or not. If the lowercase, to \n",
    "#perform the replication operation on that character\n",
    "ch='b'\n",
    "if \"a\"<=ch<=\"z\":\n",
    "    res=(ch*4)\n",
    "    print(res)"
   ]
  },
  {
   "cell_type": "code",
   "execution_count": 29,
   "metadata": {},
   "outputs": [
    {
     "name": "stdout",
     "output_type": "stream",
     "text": [
      "5\n"
     ]
    }
   ],
   "source": [
    "#33 WAP to check whether a character is in the ascii number or not. If the ascii number, to convert into integer.\n",
    "ch=\"5\"\n",
    "if '0'<=ch<='9':\n",
    "    print(int(5))"
   ]
  },
  {
   "cell_type": "code",
   "execution_count": 10,
   "metadata": {},
   "outputs": [
    {
     "name": "stdout",
     "output_type": "stream",
     "text": [
      "@ 64\n"
     ]
    }
   ],
   "source": [
    "#34 WAP to check whether a character is in the special symbol or not. If the special \n",
    "#symbol, to display a symbol with ascii value\n",
    "ch='@'\n",
    "if not('A'<=ch<='Z' or 'a'<=ch<='z'or '0'<=ch<='9'):\n",
    "    print(ch,ord(ch))"
   ]
  },
  {
   "cell_type": "code",
   "execution_count": 7,
   "metadata": {},
   "outputs": [
    {
     "name": "stdout",
     "output_type": "stream",
     "text": [
      "66\n"
     ]
    }
   ],
   "source": [
    "#35 WAP to check whether a character is an even number or not. If the even number, to display an even number.\n",
    "ch=\"B\"\n",
    "if ord(ch)%2==0:\n",
    "    res=ord(ch)\n",
    "    print(res)"
   ]
  },
  {
   "cell_type": "code",
   "execution_count": 38,
   "metadata": {},
   "outputs": [
    {
     "name": "stdout",
     "output_type": "stream",
     "text": [
      "225\n"
     ]
    }
   ],
   "source": [
    "#36 WAP to check whether a Given two integers a and b, if any of the integers is 10 \n",
    "#or if their sum is 10, to perform the sum of the numbers and to display the square of the result.\n",
    "a,b=10,5\n",
    "if a==10 or b==10 or a+b==10:\n",
    "    res=(a+b)\n",
    "    print(res**2)"
   ]
  },
  {
   "cell_type": "code",
   "execution_count": 18,
   "metadata": {},
   "outputs": [
    {
     "name": "stdout",
     "output_type": "stream",
     "text": [
      "B\n"
     ]
    }
   ],
   "source": [
    "#37 WAP to check whether a character is in the vowel or not. If the vowel,print the next character.\n",
    "ch='A'\n",
    "if ch in \"AEIOUaeiou\":\n",
    "    res=chr(ord(ch)+1)\n",
    "    print(res)"
   ]
  },
  {
   "cell_type": "code",
   "execution_count": 19,
   "metadata": {},
   "outputs": [
    {
     "name": "stdout",
     "output_type": "stream",
     "text": [
      "a\n"
     ]
    }
   ],
   "source": [
    "#38 WAP to check whether a character is in the not a vowel. If it's not a vowel,print the previous character.\n",
    "ch='b'\n",
    "if ch not in \"AEIOUaeiou\":\n",
    "    res=chr(ord(ch)-1)\n",
    "    print(res)"
   ]
  },
  {
   "cell_type": "code",
   "execution_count": 20,
   "metadata": {},
   "outputs": [
    {
     "name": "stdout",
     "output_type": "stream",
     "text": [
      "<class 'float'>\n"
     ]
    }
   ],
   "source": [
    "#39 WAP to check whether a given value is a single value data type or not. If single \n",
    "#value, display the given value as a single value data type.\n",
    "a=15.05\n",
    "if type(a) in [int,float,complex,bool,bytes,type(None)]:\n",
    "    print(type(a))"
   ]
  },
  {
   "cell_type": "code",
   "execution_count": 25,
   "metadata": {},
   "outputs": [
    {
     "name": "stdout",
     "output_type": "stream",
     "text": [
      "([10, 20],)\n"
     ]
    }
   ],
   "source": [
    "#40 WAP to check whether a given value is a multi-value data type or not. If multi \n",
    "#value, store the given value inside the tuple and display it.\n",
    "c=[10,20]\n",
    "if type(c) in [str,tuple,list,set,dict]:\n",
    "    print((c,))"
   ]
  },
  {
   "cell_type": "code",
   "execution_count": 9,
   "metadata": {},
   "outputs": [
    {
     "name": "stdout",
     "output_type": "stream",
     "text": [
      "{(80, 90)}\n"
     ]
    }
   ],
   "source": [
    "#41 WAP to check whether a given value is an immutable data type or not. If an \n",
    "#immutable data type value, store the given value inside the set and display it\n",
    "n=(80,90)\n",
    "res=set()\n",
    "if type(n) not in [set,dict,list]:\n",
    "    res={n}\n",
    "    print(res)"
   ]
  },
  {
   "cell_type": "code",
   "execution_count": 12,
   "metadata": {},
   "outputs": [
    {
     "name": "stdout",
     "output_type": "stream",
     "text": [
      "odd number 9\n",
      "4\n"
     ]
    }
   ],
   "source": [
    "#42 WAP to check whether the middle element of a given list is odd or not. If it is odd \n",
    "#then print odd then print the number else directly print the number.\n",
    "l=[1,2,3,9,5,6,7]\n",
    "if l[(len(l)//2)]%2!=0:\n",
    "    print(\"odd number\",l[len(l)//2])\n",
    "else:\n",
    "    print(l[len(l)//2])   \n",
    "\n",
    "l=[1,2,3,4,5,6,7]\n",
    "if l[(len(l)//2)]%2!=0:\n",
    "    print(\"odd number\",l[len(l)//2])\n",
    "else:\n",
    "    print(l[len(l)//2])  \n"
   ]
  },
  {
   "cell_type": "code",
   "execution_count": 5,
   "metadata": {},
   "outputs": [
    {
     "name": "stdout",
     "output_type": "stream",
     "text": [
      "notan laptop\n",
      "not not an laptop\n"
     ]
    }
   ],
   "source": [
    "#43 WAP Return a new string with \"not\" prefixed to the front of the original string. \n",
    "#Return the string unmodified if the string already has the word \"not\" at the beginning.\n",
    "st=\"an laptop\"\n",
    "if \"not\"!=st[0:3]:\n",
    "    st=\"not\"+st\n",
    "    print(st)\n",
    "    ######\n",
    "st=\" not an laptop\"\n",
    "if \"not\"!=st[0:3]:\n",
    "    st=\"not\"+st\n",
    "    print(st)\n",
    "else:\n",
    "    print(st)\n"
   ]
  },
  {
   "cell_type": "code",
   "execution_count": 2,
   "metadata": {},
   "outputs": [
    {
     "name": "stdout",
     "output_type": "stream",
     "text": [
      "pe\n"
     ]
    }
   ],
   "source": [
    "#44 WAP to check whether a given string(str) and one integer(n) value, to display a \n",
    "#new string that is devoid of the character at index n. if you are given a non-empty \n",
    "#string and an int n. The value of n will be a legitimate character index from the \n",
    "#original string, therefore it will fall within the range of 0 to len(str)-1, inclusive.\n",
    "st='pen'\n",
    "n=2\n",
    "if len(st)!=0 and type(n)==int and 0<=n<=len(st)-1:\n",
    "    print(st[:n]+st[n+1:])"
   ]
  },
  {
   "cell_type": "code",
   "execution_count": 43,
   "metadata": {},
   "outputs": [
    {
     "name": "stdout",
     "output_type": "stream",
     "text": [
      "2440420758768 2440420758768\n"
     ]
    }
   ],
   "source": [
    "#45 WAP to check whether the two variables are pointing to the same memory \n",
    "#location or not if they are pointing to the same memory location then print the \n",
    "#address of both the variables.\n",
    "a,b=257,257\n",
    "if a is b:\n",
    "    print(id(a),id(b))"
   ]
  },
  {
   "cell_type": "code",
   "execution_count": 6,
   "metadata": {},
   "outputs": [
    {
     "name": "stdout",
     "output_type": "stream",
     "text": [
      "bhag\n"
     ]
    }
   ],
   "source": [
    "#46 WAP to check whether the given length of the string is even or not. If the \n",
    "#condition is satisfied, display the sequence of characters from zero position to length of collection -2.\n",
    "st='bhagya'\n",
    "if (len(st))%2==0:\n",
    "    print(st[0:len(st)-2:1])"
   ]
  },
  {
   "cell_type": "code",
   "execution_count": 18,
   "metadata": {},
   "outputs": [
    {
     "name": "stdout",
     "output_type": "stream",
     "text": [
      "bye haii\n"
     ]
    }
   ],
   "source": [
    "#47 WAP to check whether the two given strings are having the same values or not. \n",
    "#If both are not the same values then swap the values of one variable to another \n",
    "#variable after swapping print the two values.\n",
    "x='haii'\n",
    "y='bye'\n",
    "if x is not y:\n",
    "    temp=x\n",
    "    x=y\n",
    "    y=temp\n",
    "    print(x,y)"
   ]
  },
  {
   "cell_type": "code",
   "execution_count": 41,
   "metadata": {},
   "outputs": [
    {
     "name": "stdout",
     "output_type": "stream",
     "text": [
      "{'@': 64}\n"
     ]
    }
   ],
   "source": [
    "#48 WAP to check whether a given character is a special symbol or not. If satisfied, \n",
    "#store the symbol as a key and value as a ascii value of the given character inside the dictionary.\n",
    "ch='@'\n",
    "d={}\n",
    "if not('A'<=ch<='Z' or 'a'<=ch<='z'or '0'<=ch<='9'):\n",
    "    d[ch]=ord(ch)\n",
    "    print(d)"
   ]
  },
  {
   "cell_type": "code",
   "execution_count": 34,
   "metadata": {},
   "outputs": [
    {
     "name": "stdout",
     "output_type": "stream",
     "text": [
      "{'a': 10, 'b': 20, 'c': 30}\n"
     ]
    }
   ],
   "source": [
    "#49 WAP to check whether a given key is not present in the dictionary or not. If the \n",
    "#key is not present, append the new key inside the dictionary.\n",
    "d={'a':10,'b':20}\n",
    "if 'c' not in d:\n",
    "    d['c']=30\n",
    "    print(d)\n"
   ]
  },
  {
   "cell_type": "code",
   "execution_count": 4,
   "metadata": {},
   "outputs": [
    {
     "name": "stdout",
     "output_type": "stream",
     "text": [
      "ahagyb\n",
      "ahagyb\n",
      "ahagyb\n"
     ]
    }
   ],
   "source": [
    "#50 WAP whether a given string, and it displays a new string with the first and last characters switched.\n",
    "st='bhagya'\n",
    "if type(st)==str:\n",
    "    a=st[0]\n",
    "    b=st[-1]\n",
    "    print(b+ st[1:len(st)-1:1] +a)\n",
    "\n",
    "st=\"bhagya\"\n",
    "if type(st)==str:\n",
    "    print(st[-1]+st[1:5:1]+st[0])\n",
    "\n",
    "st='bhagya'\n",
    "if type(st)==str:\n",
    "    print(st[-1]+st[1:len(st)-1:1]+st[0])"
   ]
  },
  {
   "cell_type": "code",
   "execution_count": 13,
   "metadata": {},
   "outputs": [
    {
     "name": "stdout",
     "output_type": "stream",
     "text": [
      "2\n"
     ]
    }
   ],
   "source": [
    "#51 WAP to check whether the last digit should be 2 in the given number then print the last digit.\n",
    "n=222\n",
    "if n%10==2:\n",
    "    print(n%10)"
   ]
  },
  {
   "cell_type": "code",
   "execution_count": 19,
   "metadata": {},
   "outputs": [
    {
     "name": "stdout",
     "output_type": "stream",
     "text": [
      "324\n"
     ]
    }
   ],
   "source": [
    "#52 WAP to check whether a Given two integers a and b, if any of the integers is 10 \n",
    "#or if their sum is 10, to perform the sum of the numbers and to display the square of the result.\n",
    "a,b=8,10\n",
    "if a==10 or b==10 or a+b==10:\n",
    "    res=a+b\n",
    "    print(res**2)"
   ]
  },
  {
   "cell_type": "code",
   "execution_count": 3,
   "metadata": {},
   "outputs": [
    {
     "name": "stdout",
     "output_type": "stream",
     "text": [
      "pe\n"
     ]
    }
   ],
   "source": [
    "#53 WAP to check whether a given string(str) and one integer(n) value, to display a \n",
    "#new string that is devoid of the character at index n. if you are given a non-empty \n",
    "#string and an int n. The value of n will be a legitimate character index from the \n",
    "# original string, therefore it will fall within the range of 0 to len(str)-1, inclusive\n",
    "st='pen'\n",
    "n=2\n",
    "if len(st)!=0 and type(n)==int and 0<=n<=len(st)-1:\n",
    "    print(st[:n]+st[n+1:])"
   ]
  },
  {
   "cell_type": "code",
   "execution_count": 44,
   "metadata": {},
   "outputs": [
    {
     "name": "stdout",
     "output_type": "stream",
     "text": [
      "haii 4\n",
      "bye 3\n"
     ]
    }
   ],
   "source": [
    "#54 WAP to check whether both string collections are equal or not if it is not equal \n",
    "#print the both strings along with the length of a string if both are equal ignore it\n",
    "a='haii'\n",
    "b='bye'\n",
    "if a!=b:\n",
    "    print(a,len(a))\n",
    "    print(b,len(b))\n",
    "\n",
    "\n",
    "    "
   ]
  }
 ],
 "metadata": {
  "kernelspec": {
   "display_name": "Python 3",
   "language": "python",
   "name": "python3"
  },
  "language_info": {
   "codemirror_mode": {
    "name": "ipython",
    "version": 3
   },
   "file_extension": ".py",
   "mimetype": "text/x-python",
   "name": "python",
   "nbconvert_exporter": "python",
   "pygments_lexer": "ipython3",
   "version": "3.11.4"
  },
  "orig_nbformat": 4
 },
 "nbformat": 4,
 "nbformat_minor": 2
}
