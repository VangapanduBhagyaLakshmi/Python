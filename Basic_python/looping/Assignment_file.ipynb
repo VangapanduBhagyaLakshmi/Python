{
 "cells": [
  {
   "cell_type": "code",
   "execution_count": 1,
   "metadata": {},
   "outputs": [
    {
     "name": "stdout",
     "output_type": "stream",
     "text": [
      "0\n",
      "1\n",
      "2\n",
      "3\n",
      "4\n",
      "5\n"
     ]
    }
   ],
   "source": [
    "#2 WAP to print all the items present in the string between the range from m to n.\n",
    "st=\"bhagya\"\n",
    "for i in range(0,len(st)):\n",
    "    print(i)"
   ]
  },
  {
   "cell_type": "code",
   "execution_count": 25,
   "metadata": {},
   "outputs": [
    {
     "name": "stdout",
     "output_type": "stream",
     "text": [
      "B\n",
      "Y\n",
      "A\n"
     ]
    }
   ],
   "source": [
    "#3 WAP to print the uppercase characters in a given string.\n",
    "# st=\"BHagya LaksHMI\"\n",
    "# i=0\n",
    "# while i < len(st):\n",
    "#     if \"A\"<=st[i]<=\"Z\":\n",
    "#         print(st[i])\n",
    "#     i+=1\n",
    "\n",
    "st=\"BhagYA\"\n",
    "for i in st:\n",
    "    if \"A\"<=i<=\"Z\":\n",
    "        print(i)"
   ]
  },
  {
   "cell_type": "code",
   "execution_count": 23,
   "metadata": {},
   "outputs": [
    {
     "name": "stdout",
     "output_type": "stream",
     "text": [
      "P\n"
     ]
    }
   ],
   "source": [
    "#4 WAP to print the lowercase characters in a given string.\n",
    "st=\"Pyspiders\"\n",
    "for i in st:\n",
    "    if \"A\"<=i<=\"Z\":\n",
    "        print(i)"
   ]
  },
  {
   "cell_type": "code",
   "execution_count": 30,
   "metadata": {},
   "outputs": [
    {
     "name": "stdout",
     "output_type": "stream",
     "text": [
      "1\n",
      "2\n",
      "3\n"
     ]
    }
   ],
   "source": [
    "#5 WAP to print the ascii numbers(Digits) characters in a given string.\n",
    "st=\"BHagya LaksHMI @123\"\n",
    "i=0\n",
    "while i < len(st):\n",
    "    if \"0\"<=st[i]<=\"9\":\n",
    "        print(st[i])\n",
    "    i+=1"
   ]
  },
  {
   "cell_type": "code",
   "execution_count": 32,
   "metadata": {},
   "outputs": [
    {
     "name": "stdout",
     "output_type": "stream",
     "text": [
      "@\n"
     ]
    }
   ],
   "source": [
    "#6 WAP to print the special characters in a given string.\n",
    "st=\"BHagya@123\"\n",
    "i=0\n",
    "while i < len(st):\n",
    "    if not(\"0\"<=st[i]<=\"9\" or \"A\"<=st[i]<=\"Z\" or \"a\"<=st[i]<=\"z\" ):\n",
    "        print(st[i])\n",
    "    i+=1"
   ]
  },
  {
   "cell_type": "code",
   "execution_count": 33,
   "metadata": {},
   "outputs": [
    {
     "name": "stdout",
     "output_type": "stream",
     "text": [
      "i\n",
      "e\n"
     ]
    }
   ],
   "source": [
    "#7 WAP to Print the vowels in a given string.\n",
    "st=\"Pyspiders\"\n",
    "for i in st:\n",
    "    if i in \"aeiouAEIOU\":\n",
    "        print(i)"
   ]
  },
  {
   "cell_type": "code",
   "execution_count": 36,
   "metadata": {},
   "outputs": [
    {
     "name": "stdout",
     "output_type": "stream",
     "text": [
      "P\n",
      "y\n",
      "s\n",
      "p\n",
      "d\n",
      "r\n",
      "s\n"
     ]
    }
   ],
   "source": [
    "#8 WAP to Print the consonants in a given string.\n",
    "st=\"Pyspiders\"\n",
    "i=0\n",
    "while i < len(st):\n",
    "    if st[i] not in \"aeiouAEIOU\":\n",
    "        print(st[i])\n",
    "    i+=1"
   ]
  },
  {
   "cell_type": "code",
   "execution_count": 39,
   "metadata": {},
   "outputs": [
    {
     "name": "stdout",
     "output_type": "stream",
     "text": [
      "aygahB\n"
     ]
    }
   ],
   "source": [
    "#9 WAP to print the reverse of the characters in a given string.\n",
    "st=\"Bhagya\"\n",
    "rev=''\n",
    "for i in st:\n",
    "    rev=i+rev\n",
    "print(rev)"
   ]
  },
  {
   "cell_type": "code",
   "execution_count": 43,
   "metadata": {},
   "outputs": [
    {
     "name": "stdout",
     "output_type": "stream",
     "text": [
      "R\n",
      "m\n",
      "i\n",
      "a\n"
     ]
    }
   ],
   "source": [
    "#10 WAP to print even position values characters in a given string.\n",
    "st=\"Ramsita\"\n",
    "i=0\n",
    "while i<len(st):\n",
    "    if i%2==0:\n",
    "        print(st[i])\n",
    "    i+=1"
   ]
  },
  {
   "cell_type": "code",
   "execution_count": 44,
   "metadata": {},
   "outputs": [
    {
     "name": "stdout",
     "output_type": "stream",
     "text": [
      "a\n",
      "s\n",
      "t\n"
     ]
    }
   ],
   "source": [
    "#11 WAP to print odd position values characters in a given string.\n",
    "st=\"Ramsita\"\n",
    "i=0\n",
    "while i<len(st):\n",
    "    if i%2!=0:\n",
    "        print(st[i])\n",
    "    i+=1"
   ]
  },
  {
   "cell_type": "code",
   "execution_count": 56,
   "metadata": {},
   "outputs": [
    {
     "name": "stdout",
     "output_type": "stream",
     "text": [
      "6\n"
     ]
    }
   ],
   "source": [
    "#12 WAP to count the total Number of characters in a given string.(with length function)\n",
    "\n",
    "# st=\"laptop\"\n",
    "# count=0\n",
    "# i=0\n",
    "# while i<len(st):\n",
    "#     count+=1\n",
    "#     i+=1\n",
    "# print(count)\n",
    "\n",
    "st=\"bhagya\"\n",
    "count=0\n",
    "for i in st:\n",
    "    count+=1\n",
    "print(count)"
   ]
  },
  {
   "cell_type": "code",
   "execution_count": 55,
   "metadata": {},
   "outputs": [
    {
     "name": "stdout",
     "output_type": "stream",
     "text": [
      "6\n"
     ]
    }
   ],
   "source": [
    "#13 WAP to count the total Number of characters in a given string.(without length function)\n",
    "st=\"bhagya\"\n",
    "count=0\n",
    "while st:\n",
    "    count+=1\n",
    "    st=st[:-1]\n",
    "print(count)"
   ]
  },
  {
   "cell_type": "code",
   "execution_count": 59,
   "metadata": {},
   "outputs": [
    {
     "ename": "KeyboardInterrupt",
     "evalue": "",
     "output_type": "error",
     "traceback": [
      "\u001b[1;31m---------------------------------------------------------------------------\u001b[0m",
      "\u001b[1;31mKeyboardInterrupt\u001b[0m                         Traceback (most recent call last)",
      "\u001b[1;32mc:\\Users\\BHAGYA LAKSHMI\\Documents\\GitHub\\Python\\Basic_python\\looping\\Assignment_file.ipynb Cell 13\u001b[0m line \u001b[0;36m5\n\u001b[0;32m      <a href='vscode-notebook-cell:/c%3A/Users/BHAGYA%20LAKSHMI/Documents/GitHub/Python/Basic_python/looping/Assignment_file.ipynb#X21sZmlsZQ%3D%3D?line=2'>3</a>\u001b[0m count\u001b[39m=\u001b[39m\u001b[39m0\u001b[39m\n\u001b[0;32m      <a href='vscode-notebook-cell:/c%3A/Users/BHAGYA%20LAKSHMI/Documents/GitHub/Python/Basic_python/looping/Assignment_file.ipynb#X21sZmlsZQ%3D%3D?line=3'>4</a>\u001b[0m i\u001b[39m=\u001b[39m\u001b[39m0\u001b[39m\n\u001b[1;32m----> <a href='vscode-notebook-cell:/c%3A/Users/BHAGYA%20LAKSHMI/Documents/GitHub/Python/Basic_python/looping/Assignment_file.ipynb#X21sZmlsZQ%3D%3D?line=4'>5</a>\u001b[0m \u001b[39mwhile\u001b[39;00m i\u001b[39m<\u001b[39m\u001b[39mlen\u001b[39m(st):\n\u001b[0;32m      <a href='vscode-notebook-cell:/c%3A/Users/BHAGYA%20LAKSHMI/Documents/GitHub/Python/Basic_python/looping/Assignment_file.ipynb#X21sZmlsZQ%3D%3D?line=5'>6</a>\u001b[0m     \u001b[39mif\u001b[39;00m \u001b[39m\"\u001b[39m\u001b[39mA\u001b[39m\u001b[39m\"\u001b[39m\u001b[39m<\u001b[39m\u001b[39m=\u001b[39mst[i]\u001b[39m<\u001b[39m\u001b[39m=\u001b[39m\u001b[39m\"\u001b[39m\u001b[39mZ\u001b[39m\u001b[39m\"\u001b[39m \u001b[39mand\u001b[39;00m \u001b[39m\"\u001b[39m\u001b[39ma\u001b[39m\u001b[39m\"\u001b[39m\u001b[39m<\u001b[39m\u001b[39m=\u001b[39mst[i]\u001b[39m<\u001b[39m\u001b[39m=\u001b[39m\u001b[39m\"\u001b[39m\u001b[39mz\u001b[39m\u001b[39m\"\u001b[39m:\n\u001b[0;32m      <a href='vscode-notebook-cell:/c%3A/Users/BHAGYA%20LAKSHMI/Documents/GitHub/Python/Basic_python/looping/Assignment_file.ipynb#X21sZmlsZQ%3D%3D?line=6'>7</a>\u001b[0m         count\u001b[39m+\u001b[39m\u001b[39m=\u001b[39m\u001b[39m1\u001b[39m\n",
      "\u001b[1;31mKeyboardInterrupt\u001b[0m: "
     ]
    }
   ],
   "source": [
    "#14 WAP to count alphabets in a given string.\n",
    "st=\"Bhagya@123\"\n",
    "count=0\n",
    "i=0\n",
    "while i<len(st):\n",
    "    if \"A\"<=st[i]<=\"Z\" and \"a\"<=st[i]<=\"z\":\n",
    "        count+=1\n",
    "        i+=1\n",
    "print(count)"
   ]
  },
  {
   "cell_type": "code",
   "execution_count": 7,
   "metadata": {},
   "outputs": [
    {
     "name": "stdout",
     "output_type": "stream",
     "text": [
      "2\n"
     ]
    }
   ],
   "source": [
    "#22 WAP to Count Vowels in a String.\n",
    "st=\"bhagya@123\"\n",
    "count=0\n",
    "for i in st:\n",
    "    if i in \"aeiouAEIOU\":\n",
    "        count+=1\n",
    "print(count)"
   ]
  },
  {
   "cell_type": "code",
   "execution_count": 1,
   "metadata": {},
   "outputs": [
    {
     "name": "stdout",
     "output_type": "stream",
     "text": [
      "4\n"
     ]
    }
   ],
   "source": [
    "#23 WAP to Count consonants in a String.\n",
    "st=\"bhagya\"\n",
    "count=0\n",
    "for i in st:\n",
    "    if i not in \"aeiouAEIOU\" :\n",
    "        count+=1\n",
    "print(count)"
   ]
  },
  {
   "cell_type": "code",
   "execution_count": 4,
   "metadata": {},
   "outputs": [
    {
     "name": "stdout",
     "output_type": "stream",
     "text": [
      "9\n"
     ]
    }
   ],
   "source": [
    "#24 WAP to Count Vowels and Consonants in a String.\n",
    "st=\"bhagya@123hai\"\n",
    "count=0\n",
    "for i in st:\n",
    "    if \"A\"<=i<=\"Z\" or \"a\"<=i<=\"z\":\n",
    "        count+=1\n",
    "print(count)"
   ]
  },
  {
   "cell_type": "code",
   "execution_count": 6,
   "metadata": {},
   "outputs": [
    {
     "name": "stdout",
     "output_type": "stream",
     "text": [
      "13\n"
     ]
    }
   ],
   "source": [
    "#27 WAP to count no of alphabets, numbers, and special characters in a given string.\n",
    "st=\"bhagya@123hai\"\n",
    "count=0\n",
    "for i in st:\n",
    "        count+=1\n",
    "print(count)\n",
    " "
   ]
  },
  {
   "cell_type": "code",
   "execution_count": null,
   "metadata": {},
   "outputs": [],
   "source": []
  }
 ],
 "metadata": {
  "kernelspec": {
   "display_name": "Python 3",
   "language": "python",
   "name": "python3"
  },
  "language_info": {
   "codemirror_mode": {
    "name": "ipython",
    "version": 3
   },
   "file_extension": ".py",
   "mimetype": "text/x-python",
   "name": "python",
   "nbconvert_exporter": "python",
   "pygments_lexer": "ipython3",
   "version": "3.11.4"
  },
  "orig_nbformat": 4
 },
 "nbformat": 4,
 "nbformat_minor": 2
}
