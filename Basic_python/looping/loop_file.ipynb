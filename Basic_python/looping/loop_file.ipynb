{
 "cells": [
  {
   "cell_type": "code",
   "execution_count": 1,
   "metadata": {},
   "outputs": [
    {
     "name": "stdout",
     "output_type": "stream",
     "text": [
      "12\n"
     ]
    }
   ],
   "source": [
    "\n",
    "m=1\n",
    "n=6\n",
    "sum=0\n",
    "while m<=n:\n",
    "    if n%m==0:\n",
    "        sum+=m\n",
    "    m+=1\n",
    "print(sum)"
   ]
  },
  {
   "cell_type": "code",
   "execution_count": 8,
   "metadata": {},
   "outputs": [
    {
     "name": "stdout",
     "output_type": "stream",
     "text": [
      "4\n",
      "not prime\n"
     ]
    }
   ],
   "source": [
    "n=22\n",
    "res=0\n",
    "while n:\n",
    "    ld=n%10\n",
    "    res+=ld\n",
    "    n=n//10\n",
    "print(res)\n",
    "i=1\n",
    "count=0\n",
    "while i<=res:\n",
    "    if res%i==0:\n",
    "        count+=1\n",
    "    i+=1      \n",
    "if count==2:\n",
    "    print('prime')\n",
    "else:\n",
    "    print('not prime')"
   ]
  },
  {
   "cell_type": "code",
   "execution_count": 24,
   "metadata": {},
   "outputs": [
    {
     "name": "stdout",
     "output_type": "stream",
     "text": [
      "product 6\n",
      "factors= 1\n",
      "factors= 2\n",
      "factors= 3\n",
      "6 6\n",
      "perfect\n"
     ]
    }
   ],
   "source": [
    "n=23\n",
    "res=1\n",
    "while n:\n",
    "    ld=n%10\n",
    "    res*=ld\n",
    "    n=n//10\n",
    "print(\"product\",res)\n",
    "i=1\n",
    "count=0\n",
    "while i<res:\n",
    "    if res%i==0: \n",
    "        print('factors=',i)\n",
    "        count+=i\n",
    "    i+=1 \n",
    "print(count,res)\n",
    "if count==res:\n",
    "    print(\"perfect\")\n",
    "else:\n",
    "    print('not perfect')\n"
   ]
  },
  {
   "cell_type": "code",
   "execution_count": 5,
   "metadata": {},
   "outputs": [
    {
     "name": "stdout",
     "output_type": "stream",
     "text": [
      "1\n",
      "2\n",
      "3\n",
      "4\n",
      "5\n",
      "6\n",
      "7\n",
      "8\n",
      "9\n",
      "10\n",
      "11\n",
      "12\n",
      "13\n",
      "14\n",
      "15\n"
     ]
    }
   ],
   "source": [
    "#wap to generate seq of values from 15 to 1.\n",
    "m=15\n",
    "n=1\n",
    "if m>n:\n",
    "    m,n=n,m\n",
    "while m<=n:\n",
    "    print(m)\n",
    "    m+=1"
   ]
  },
  {
   "cell_type": "code",
   "execution_count": 6,
   "metadata": {},
   "outputs": [
    {
     "name": "stdout",
     "output_type": "stream",
     "text": [
      "25\n",
      "27\n",
      "29\n",
      "31\n",
      "33\n",
      "35\n",
      "37\n",
      "39\n",
      "41\n",
      "43\n",
      "45\n",
      "47\n",
      "49\n",
      "51\n",
      "53\n",
      "55\n",
      "57\n",
      "59\n",
      "61\n",
      "63\n",
      "65\n",
      "945\n"
     ]
    }
   ],
   "source": [
    "#wap to sum of the odd values from 25 to 65.\n",
    "m=25\n",
    "n=65\n",
    "sum=0\n",
    "while m<=n:\n",
    "    if m%2!=0:\n",
    "        print(m)\n",
    "        sum+=m\n",
    "    m+=1\n",
    "print(sum)"
   ]
  },
  {
   "cell_type": "code",
   "execution_count": 9,
   "metadata": {},
   "outputs": [
    {
     "name": "stdout",
     "output_type": "stream",
     "text": [
      "1\n",
      "1\n",
      "1\n",
      "1\n",
      "1\n",
      "1\n",
      "1\n",
      "1\n",
      "1\n",
      "1\n",
      "1\n",
      "1\n",
      "1\n",
      "1\n",
      "1\n",
      "1\n",
      "1\n",
      "1\n",
      "1\n",
      "1\n",
      "1\n",
      "1\n",
      "2\n",
      "prime\n"
     ]
    }
   ],
   "source": [
    "#wap to check whether given number is prime or not.\n",
    "m=1\n",
    "n=23\n",
    "count=0\n",
    "while m<=n:\n",
    "    if n%m==0:\n",
    "        count+=1\n",
    "    m+=1\n",
    "    print(count)\n",
    "if count==2:\n",
    "    print(\"prime\")\n",
    "else:\n",
    "    print(\"not a prime\")"
   ]
  },
  {
   "cell_type": "code",
   "execution_count": 10,
   "metadata": {},
   "outputs": [
    {
     "name": "stdout",
     "output_type": "stream",
     "text": [
      "2\n",
      "62\n"
     ]
    }
   ],
   "source": [
    "#wap to print even factors from given number\n",
    "m=1\n",
    "n=62\n",
    "while m<=n:\n",
    "    if n%m==0 and m%2==0:\n",
    "        print(m)\n",
    "    m+=1"
   ]
  },
  {
   "cell_type": "code",
   "execution_count": 18,
   "metadata": {},
   "outputs": [
    {
     "name": "stdout",
     "output_type": "stream",
     "text": [
      "145\n",
      "strong\n"
     ]
    }
   ],
   "source": [
    "#wap to check whether given number strong number or not.\n",
    "n=145\n",
    "sum=0\n",
    "temp=n\n",
    "while n:\n",
    "    ld=n%10\n",
    "    i=1\n",
    "    product=1\n",
    "    while i<=ld:\n",
    "        product*=i\n",
    "        i+=1\n",
    "    sum+=product\n",
    "    n=n//10\n",
    "print(sum)\n",
    "if sum==temp:\n",
    "    print(\"strong\")\n",
    "else:\n",
    "    print(\"not a strong\")\n"
   ]
  },
  {
   "cell_type": "code",
   "execution_count": 12,
   "metadata": {},
   "outputs": [
    {
     "name": "stdout",
     "output_type": "stream",
     "text": [
      "321\n"
     ]
    }
   ],
   "source": [
    "#wap to reverse the given num\n",
    "n=123\n",
    "rev=0\n",
    "while n:\n",
    "    ld=n%10\n",
    "    rev=(rev*10)+ld\n",
    "    n=n//10\n",
    "print(rev)"
   ]
  },
  {
   "cell_type": "code",
   "execution_count": 15,
   "metadata": {},
   "outputs": [
    {
     "name": "stdout",
     "output_type": "stream",
     "text": [
      "8\n",
      "1\n",
      "2\n",
      "4\n",
      "8\n"
     ]
    }
   ],
   "source": [
    "#wap to sum of all the digits from given number and print the factors of final result.\n",
    "n=62\n",
    "m=1\n",
    "sum=0\n",
    "while n:\n",
    "    ld=n%10\n",
    "    sum+=ld\n",
    "    n=n//10\n",
    "print(sum)\n",
    "while m<=sum:\n",
    "    if sum%m==0:\n",
    "        print(m)\n",
    "    m+=1"
   ]
  },
  {
   "cell_type": "code",
   "execution_count": 23,
   "metadata": {},
   "outputs": [
    {
     "name": "stdout",
     "output_type": "stream",
     "text": [
      "0\n",
      "1\n",
      "2\n",
      "3\n",
      "4\n",
      "5\n"
     ]
    }
   ],
   "source": [
    "#1wap to print whole numbers from o to nth.\n",
    "m=0\n",
    "n=5\n",
    "while m<=n:\n",
    "    print(m)\n",
    "    m+=1"
   ]
  },
  {
   "cell_type": "code",
   "execution_count": 1,
   "metadata": {},
   "outputs": [
    {
     "name": "stdout",
     "output_type": "stream",
     "text": [
      "9\n",
      "8\n",
      "3\n",
      "5\n",
      "1\n"
     ]
    }
   ],
   "source": [
    "#2 wap to print extract each digit from given number\n",
    "n=15389\n",
    "while n:\n",
    "    ld=n%10\n",
    "    print(ld)\n",
    "    n=n//10"
   ]
  },
  {
   "cell_type": "code",
   "execution_count": 4,
   "metadata": {},
   "outputs": [
    {
     "name": "stdout",
     "output_type": "stream",
     "text": [
      "1\n",
      "5\n",
      "3\n",
      "8\n",
      "9\n",
      "9\n",
      "8\n",
      "3\n",
      "5\n",
      "1\n"
     ]
    }
   ],
   "source": [
    "# 3 to print extract each digit from given number from left to right using type casting.\n",
    "n=15389\n",
    "n=str(n)\n",
    "i=0\n",
    "while i<len(n):\n",
    "    print(n[i])\n",
    "    i+=1\n",
    "# with negative slicing(right to left)\n",
    "n=15389\n",
    "n=str(n)[::-1]\n",
    "i=0\n",
    "while i<len(n):\n",
    "    print(n[i])\n",
    "    i+=1"
   ]
  },
  {
   "cell_type": "code",
   "execution_count": 5,
   "metadata": {},
   "outputs": [
    {
     "name": "stdout",
     "output_type": "stream",
     "text": [
      "9\n"
     ]
    }
   ],
   "source": [
    "#4wap to print largest digit in the given number.\n",
    "n=1456789\n",
    "i=0\n",
    "while n:\n",
    "    ld=n%10\n",
    "    if i<ld:\n",
    "        i=ld\n",
    "    n=n//10\n",
    "print(i)"
   ]
  },
  {
   "cell_type": "code",
   "execution_count": 6,
   "metadata": {},
   "outputs": [
    {
     "name": "stdout",
     "output_type": "stream",
     "text": [
      "0\n"
     ]
    }
   ],
   "source": [
    "#5wap to print smallest digit in the given number.\n",
    "n=128905\n",
    "i=9\n",
    "while n:\n",
    "    ld=n%10\n",
    "    if i>ld:\n",
    "        i=ld\n",
    "    n=n//10\n",
    "print(i)"
   ]
  },
  {
   "cell_type": "code",
   "execution_count": 7,
   "metadata": {},
   "outputs": [
    {
     "name": "stdout",
     "output_type": "stream",
     "text": [
      "8\n"
     ]
    }
   ],
   "source": [
    "#6wap to print even largest digit in given numbetr.\n",
    "n=25689\n",
    "i=0\n",
    "while n:\n",
    "    ld=n%10\n",
    "    if i<ld and ld%2==0:\n",
    "        i=ld\n",
    "    n=n//10\n",
    "print(i)"
   ]
  },
  {
   "cell_type": "code",
   "execution_count": 11,
   "metadata": {},
   "outputs": [
    {
     "name": "stdout",
     "output_type": "stream",
     "text": [
      "5\n"
     ]
    }
   ],
   "source": [
    "#7 wap to print odd largest digit in given number.\n",
    "n=123456\n",
    "i=0\n",
    "while n:\n",
    "    ld=n%10\n",
    "    if i<ld and ld%2!=0:\n",
    "        i=ld\n",
    "    n=n//10\n",
    "print(i)"
   ]
  },
  {
   "cell_type": "code",
   "execution_count": 16,
   "metadata": {},
   "outputs": [
    {
     "name": "stdout",
     "output_type": "stream",
     "text": [
      "2\n"
     ]
    }
   ],
   "source": [
    "#8 wap to print even smallest digit in given number.\n",
    "n=127658\n",
    "i=9\n",
    "while n:\n",
    "    ld=n%10\n",
    "    if i>ld and ld%2==0:\n",
    "        i=ld\n",
    "    n//=10\n",
    "print(i)"
   ]
  },
  {
   "cell_type": "code",
   "execution_count": 18,
   "metadata": {},
   "outputs": [
    {
     "name": "stdout",
     "output_type": "stream",
     "text": [
      "1\n"
     ]
    }
   ],
   "source": [
    "#9 wap to print odd smallest digit in given number.\n",
    "n=16374901\n",
    "i=9\n",
    "while n:\n",
    "    ld=n%10\n",
    "    if i>ld and ld%2!=0:\n",
    "        i=ld\n",
    "    n=n//10\n",
    "print(i)"
   ]
  },
  {
   "cell_type": "code",
   "execution_count": 22,
   "metadata": {},
   "outputs": [
    {
     "name": "stdout",
     "output_type": "stream",
     "text": [
      "1\n",
      "2\n",
      "3\n",
      "4\n",
      "5\n",
      "6\n",
      "7\n",
      "8\n",
      "9\n",
      "10\n"
     ]
    }
   ],
   "source": [
    "#10 wap to print sequence of numbers from 1 to n.\n",
    "m=1\n",
    "n=10\n",
    "while m<=n:\n",
    "    print(m)\n",
    "    m+=1"
   ]
  },
  {
   "cell_type": "code",
   "execution_count": 3,
   "metadata": {},
   "outputs": [
    {
     "name": "stdout",
     "output_type": "stream",
     "text": [
      "34\n"
     ]
    }
   ],
   "source": [
    "#11 wap to print sum of all digits in given number.\n",
    "m=1345678\n",
    "sum=0\n",
    "while m:\n",
    "    ld=m%10\n",
    "    sum+=ld\n",
    "    m=m//10\n",
    "print(sum)\n"
   ]
  },
  {
   "cell_type": "code",
   "execution_count": 5,
   "metadata": {},
   "outputs": [
    {
     "name": "stdout",
     "output_type": "stream",
     "text": [
      "18\n"
     ]
    }
   ],
   "source": [
    "#12 wap to print sum of even digits in given number.\n",
    "n=1374689\n",
    "sum=0\n",
    "while n:\n",
    "    ld=n%10\n",
    "    if ld%2==0:\n",
    "        sum+=ld\n",
    "    n=n//10\n",
    "print(sum)"
   ]
  },
  {
   "cell_type": "code",
   "execution_count": 6,
   "metadata": {},
   "outputs": [
    {
     "name": "stdout",
     "output_type": "stream",
     "text": [
      "4\n"
     ]
    }
   ],
   "source": [
    "#13 wap to print sum of odd digits in given number.\n",
    "n=1234\n",
    "sum=0\n",
    "while n:\n",
    "    ld=n%10\n",
    "    if ld%2!=0:\n",
    "        sum+=ld\n",
    "    n=n//10\n",
    "print(sum)"
   ]
  },
  {
   "cell_type": "code",
   "execution_count": 7,
   "metadata": {},
   "outputs": [
    {
     "name": "stdout",
     "output_type": "stream",
     "text": [
      "24\n"
     ]
    }
   ],
   "source": [
    "# 14 wap to print product of all digits in given number.\n",
    "n=1234\n",
    "prod=1\n",
    "while n:\n",
    "    ld=n%10\n",
    "    prod*=ld\n",
    "    n=n//10\n",
    "print(prod)"
   ]
  },
  {
   "cell_type": "code",
   "execution_count": 8,
   "metadata": {},
   "outputs": [
    {
     "name": "stdout",
     "output_type": "stream",
     "text": [
      "8\n"
     ]
    }
   ],
   "source": [
    "#15 wap to print product of even digits in given number.\n",
    "n=124\n",
    "prod=1\n",
    "while n:\n",
    "    ld=n%10\n",
    "    if ld%2==0:\n",
    "        prod*=ld\n",
    "    n=n//10\n",
    "print(prod)"
   ]
  },
  {
   "cell_type": "code",
   "execution_count": 9,
   "metadata": {},
   "outputs": [
    {
     "name": "stdout",
     "output_type": "stream",
     "text": [
      "15\n"
     ]
    }
   ],
   "source": [
    "#16  wap to print product of odd digits in given number.\n",
    "n=135\n",
    "prod=1\n",
    "while n:\n",
    "    ld=n%10\n",
    "    if ld%2!=0:\n",
    "        prod*=ld\n",
    "    n=n//10\n",
    "print(prod)"
   ]
  }
 ],
 "metadata": {
  "kernelspec": {
   "display_name": "Python 3",
   "language": "python",
   "name": "python3"
  },
  "language_info": {
   "codemirror_mode": {
    "name": "ipython",
    "version": 3
   },
   "file_extension": ".py",
   "mimetype": "text/x-python",
   "name": "python",
   "nbconvert_exporter": "python",
   "pygments_lexer": "ipython3",
   "version": "3.11.4"
  },
  "orig_nbformat": 4
 },
 "nbformat": 4,
 "nbformat_minor": 2
}
