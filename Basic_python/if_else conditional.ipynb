{
 "cells": [
  {
   "cell_type": "code",
   "execution_count": 2,
   "metadata": {},
   "outputs": [
    {
     "name": "stdout",
     "output_type": "stream",
     "text": [
      "positive\n",
      "negative\n"
     ]
    }
   ],
   "source": [
    "#1 WAP to check whether a number is positive or negative. If Positive print positive \n",
    "#message or else print Negative Number.\n",
    "n=10\n",
    "if n>0:\n",
    "    print(\"positive\")\n",
    "else:\n",
    "    print(\"negative\")\n",
    "\n",
    "##########\n",
    "n=-10\n",
    "if n>0:\n",
    "    print(\"positive\")\n",
    "else:\n",
    "    print(\"negative\")\n",
    "\n"
   ]
  },
  {
   "cell_type": "code",
   "execution_count": 4,
   "metadata": {},
   "outputs": [
    {
     "name": "stdout",
     "output_type": "stream",
     "text": [
      "even\n"
     ]
    }
   ],
   "source": [
    "#2 WAP to check whether a number is even or odd. If even, print message an even \n",
    "#or else print message as odd.\n",
    "n=6\n",
    "if n%2==0:\n",
    "    print(\"even\")\n",
    "else:\n",
    "    print('odd')"
   ]
  },
  {
   "cell_type": "code",
   "execution_count": 6,
   "metadata": {},
   "outputs": [
    {
     "name": "stdout",
     "output_type": "stream",
     "text": [
      "not a greater than\n"
     ]
    }
   ],
   "source": [
    "#3 Write a program to check whether a given number is greater than 10 or not. if it \n",
    "#is greater than 10 print message as greater or else print that number with not a greater than.\n",
    "n=5\n",
    "if n>=10:\n",
    "    print(\"greater\")\n",
    "else:\n",
    "    print(\"not a greater than\")"
   ]
  },
  {
   "cell_type": "code",
   "execution_count": 7,
   "metadata": {},
   "outputs": [
    {
     "name": "stdout",
     "output_type": "stream",
     "text": [
      "good morning\n"
     ]
    }
   ],
   "source": [
    "#4 WAP to check whether the given two input numbers are divisible by 3 and 5. If it \n",
    "#is divisible, print “Good Morning”, if it is not divisible print “Good Evening”.\n",
    "n=15\n",
    "m=30\n",
    "if n%3==0 and n%5==0 and m%5==0 and m%3==0:\n",
    "    print(\"good morning\")\n",
    "else:\n",
    "    print('good evening')"
   ]
  },
  {
   "cell_type": "code",
   "execution_count": 10,
   "metadata": {},
   "outputs": [
    {
     "name": "stdout",
     "output_type": "stream",
     "text": [
      "100\n"
     ]
    }
   ],
   "source": [
    "#5 WAP to accept two integers and check whether those two values are equal or not.\n",
    "#If equal, multiply to value or else to display the quotation value.\n",
    "m=10\n",
    "n=10\n",
    "if m==n:\n",
    "    print(m*n)\n",
    "else:\n",
    "    print(str(m,n))"
   ]
  },
  {
   "cell_type": "code",
   "execution_count": 11,
   "metadata": {},
   "outputs": [
    {
     "name": "stdout",
     "output_type": "stream",
     "text": [
      "b\n"
     ]
    }
   ],
   "source": [
    "#6 WAP to find the largest of two numbers.\n",
    "a=10\n",
    "b=20\n",
    "if a>b:\n",
    "    print(\"m\")\n",
    "else:\n",
    "    print(\"b\")\n"
   ]
  },
  {
   "cell_type": "code",
   "execution_count": 13,
   "metadata": {},
   "outputs": [
    {
     "name": "stdout",
     "output_type": "stream",
     "text": [
      "10\n"
     ]
    }
   ],
   "source": [
    "#7 WAP to check whether the input number is greater than 10 or not if it is greater \n",
    "#than 10 print messages as greater with number. if it is not a greater than 10 print that number.\n",
    "n=10\n",
    "if n>10:\n",
    "    print(\"greater\",n)\n",
    "else:\n",
    "    print(n)"
   ]
  },
  {
   "cell_type": "code",
   "execution_count": 15,
   "metadata": {},
   "outputs": [
    {
     "name": "stdout",
     "output_type": "stream",
     "text": [
      "2\n"
     ]
    }
   ],
   "source": [
    "#8 WAP to the given number integer, if n is greater than 21,print the absolute \n",
    "#difference between n and 21 otherwise print twice the absolute difference.\n",
    "n=20\n",
    "if type(n)==int and n>21:\n",
    "    dif=abs(n-21)\n",
    "    print(dif)\n",
    "else:\n",
    "    res=abs(n-21)*2\n",
    "    print(res)"
   ]
  },
  {
   "cell_type": "code",
   "execution_count": 18,
   "metadata": {},
   "outputs": [
    {
     "name": "stdout",
     "output_type": "stream",
     "text": [
      "10\n"
     ]
    }
   ],
   "source": [
    "#9 WAP to find the smallest of two numbers.\n",
    "n=10\n",
    "m=20\n",
    "if n<m:\n",
    "    print(n)\n",
    "else:\n",
    "    print(m)"
   ]
  },
  {
   "cell_type": "code",
   "execution_count": 20,
   "metadata": {},
   "outputs": [
    {
     "name": "stdout",
     "output_type": "stream",
     "text": [
      "58\n"
     ]
    }
   ],
   "source": [
    "#10 WAP to check whether the given number is even or odd. If it is even then make \n",
    "#it as an odd number, if it is an odd number then make it as even number.\n",
    "n=59\n",
    "if n%2==0:\n",
    "    print(n+1)\n",
    "else:\n",
    "    print(n-1)"
   ]
  },
  {
   "cell_type": "code",
   "execution_count": 24,
   "metadata": {},
   "outputs": [
    {
     "name": "stdout",
     "output_type": "stream",
     "text": [
      "8\n"
     ]
    }
   ],
   "source": [
    "#11 WAP to check whether the given number is divisible by 3 or not if yes, print the \n",
    "#number or else print the cube of the numbers.\n",
    "num=2\n",
    "if num%3==0:\n",
    "    print(num)\n",
    "else:\n",
    "    print(num**3)"
   ]
  },
  {
   "cell_type": "code",
   "execution_count": 63,
   "metadata": {},
   "outputs": [
    {
     "name": "stdout",
     "output_type": "stream",
     "text": [
      "20\n"
     ]
    }
   ],
   "source": [
    "#12 WAP to check whether the given input is divisible by 3 and 5. If yes print the \n",
    "#actual number or else print string of that number.\n",
    "n=20\n",
    "if n%3==0 and n%5==0:\n",
    "    print(n)\n",
    "else:\n",
    "    res=str(n)\n",
    "    print(res)"
   ]
  },
  {
   "cell_type": "code",
   "execution_count": 32,
   "metadata": {},
   "outputs": [
    {
     "name": "stdout",
     "output_type": "stream",
     "text": [
      "16\n"
     ]
    }
   ],
   "source": [
    "#13 WAP to check whether the given number lies between 1 to 19, if it is true square \n",
    "#that number or else false cube that number and display the number\n",
    "num=4\n",
    "if 1<=num<=19:\n",
    "    print(num**2)\n",
    "else:\n",
    "    print(num**3)"
   ]
  },
  {
   "cell_type": "code",
   "execution_count": 33,
   "metadata": {},
   "outputs": [
    {
     "name": "stdout",
     "output_type": "stream",
     "text": [
      "pass 50\n"
     ]
    }
   ],
   "source": [
    "#14 WAP to check whether the student has passed or failed. If the student got more \n",
    "#than 40 marks, print ‘PASS’ along with those marks, if it is not printed ‘FAIL’ along with those marks.\n",
    "marks=50\n",
    "if marks>40:\n",
    "    print(\"pass\",marks)\n",
    "else:\n",
    "    print(\"fai\",marks)\n"
   ]
  },
  {
   "cell_type": "code",
   "execution_count": 34,
   "metadata": {},
   "outputs": [
    {
     "name": "stdout",
     "output_type": "stream",
     "text": [
      "9\n"
     ]
    }
   ],
   "source": [
    "#15 WAP to check whether a given value is even and in range of 47 to 58 and not in 0 \n",
    "#or odd. if condition is True, to perform display the ascii character. or else to \n",
    "#perform floor division with 5 and display it.\n",
    "n=48\n",
    "if n%2==0 and 47<=n<58 and n!=0 and n%2!=0:\n",
    "    print(chr(n))\n",
    "else:\n",
    "    print(n//5)\n"
   ]
  },
  {
   "cell_type": "code",
   "execution_count": 38,
   "metadata": {},
   "outputs": [
    {
     "name": "stdout",
     "output_type": "stream",
     "text": [
      "{65: 'A'}\n"
     ]
    }
   ],
   "source": [
    "#16 WAP to check whether a given value is less than 125 and in between 47 to 125 or \n",
    "#not. if condition is True, to perform store the given value as key and value as a \n",
    "#character into the dict or else to append the value in list and display it.\n",
    "l=[]\n",
    "d={}\n",
    "n=65\n",
    "if n<125 and 47<n<125:\n",
    "    d[n]=chr(n)\n",
    "    print(d)\n",
    "else:\n",
    "    l+=[n]\n",
    "    print(l)\n"
   ]
  },
  {
   "cell_type": "code",
   "execution_count": 9,
   "metadata": {},
   "outputs": [
    {
     "name": "stdout",
     "output_type": "stream",
     "text": [
      "alphabet A\n"
     ]
    }
   ],
   "source": [
    "#17 WAP to check whether a given character is in the alphabet or not. if alphabet, \n",
    "#display the alphabet with character or else display the not alphabet with character.\n",
    "ch='A'\n",
    "if 'a'<=ch<='z' or 'A'<=ch<='Z':\n",
    "    print(\"alphabet\",ch)\n",
    "else:\n",
    "    print(\"not alphabet\",ch)\n"
   ]
  },
  {
   "cell_type": "code",
   "execution_count": 5,
   "metadata": {},
   "outputs": [
    {
     "name": "stdout",
     "output_type": "stream",
     "text": [
      "other character i\n"
     ]
    }
   ],
   "source": [
    "#18 WAP to check whether a given character is uppercase or other character. if \n",
    "#uppercase, display the uppercase with character or else display the other character with character\n",
    "ch='i'\n",
    "if 'A'<=ch<='Z':\n",
    "    print(\"uppercase\",ch)\n",
    "else:\n",
    "    print(\"other character\",ch)"
   ]
  },
  {
   "cell_type": "code",
   "execution_count": 8,
   "metadata": {},
   "outputs": [
    {
     "name": "stdout",
     "output_type": "stream",
     "text": [
      "lowewrcase i\n"
     ]
    }
   ],
   "source": [
    "#19 WAP to check whether a given character is lowercase or other character. if \n",
    "#lowercase, display the lowercase with character or else display the other character with character.\n",
    "ch='i'\n",
    "if 'a'<=ch<='z':\n",
    "    print(\"lowewrcase\",ch)\n",
    "else:\n",
    "    print(\"other character\",ch)"
   ]
  },
  {
   "cell_type": "code",
   "execution_count": 15,
   "metadata": {},
   "outputs": [
    {
     "name": "stdout",
     "output_type": "stream",
     "text": [
      "h\n"
     ]
    }
   ],
   "source": [
    "#20 WAP to check whether a given character is uppercase or other character. if \n",
    "#uppercase, convert to lowercase .or else display the ascii number.\n",
    "ch=\"H\"\n",
    "if \"A\"<=ch<=\"Z\":\n",
    "    print(chr(ord(ch)+32))\n",
    "else:\n",
    "    print(ord(ch))\n"
   ]
  },
  {
   "cell_type": "code",
   "execution_count": 56,
   "metadata": {},
   "outputs": [
    {
     "name": "stdout",
     "output_type": "stream",
     "text": [
      "a\n",
      "special character @\n"
     ]
    }
   ],
   "source": [
    "# 21 WAP to check whether the given character is in lowercase or uppercase. If it is \n",
    "#in lowercase, convert it into uppercase, or else it is in uppercase and convert it into lowercase. Display the value.\n",
    "ch=\"A\"\n",
    "if \"a\"<=ch<=\"z\":\n",
    "    print(chr(ord(ch)-32))\n",
    "else:\n",
    "    print(chr(ord(ch)+32))\n",
    "\n",
    "\n",
    "# incase user given special char\n",
    "ch='@'\n",
    "if \"A\"<=ch<=\"Z\":\n",
    "    print(ch,\"uppercase\",chr(ord(ch)+32))\n",
    "elif 'a'<=ch<='z':\n",
    "    print(ch,\"lowercase\",chr(ord(ch)-32))\n",
    "elif '0'<=ch<='9':\n",
    "    print(\"ascii number\",ch)\n",
    "else:\n",
    "    print(\"special character\",ch)"
   ]
  },
  {
   "cell_type": "code",
   "execution_count": 9,
   "metadata": {},
   "outputs": [
    {
     "name": "stdout",
     "output_type": "stream",
     "text": [
      "i is a middle character\n"
     ]
    }
   ],
   "source": [
    "#22 WAP to check whether the given string of the first character is a special symbol \n",
    "#or not. If a special symbol, to extract and display the middle character or else to \n",
    "#reverse the string and display the half of the string.\n",
    "st=\"@yspiders\"\n",
    "if  not (\"A\"<=st[0]<=\"Z\" or \"a\"<=st[0]<=\"z\" or \"0\"<=st[0]<=\"9\"):\n",
    "    print(st[len(st)//2],'is a middle character')\n",
    "else:\n",
    "    print(st[-1:len(st)//2-1:-1])\n"
   ]
  },
  {
   "cell_type": "code",
   "execution_count": 38,
   "metadata": {},
   "outputs": [
    {
     "name": "stdout",
     "output_type": "stream",
     "text": [
      "VOWEL e\n"
     ]
    }
   ],
   "source": [
    "#23 WAP to check whether the input character is a vowel or not. If it is vowel print \n",
    "#‘VOWEL’ along with that character, if it is not just print ‘CONSONANT’.\n",
    "a=\"e\"\n",
    "if a in \"AEIOUaeiou\":\n",
    "    print(\"VOWEL\",a)\n",
    "else:\n",
    "    print(\"CONSTANT\")"
   ]
  },
  {
   "cell_type": "code",
   "execution_count": 41,
   "metadata": {},
   "outputs": [
    {
     "name": "stdout",
     "output_type": "stream",
     "text": [
      "a\n"
     ]
    }
   ],
   "source": [
    "#24 WAP to check whether a given character is a vowel or consonant. if vowel, to \n",
    "#print the next character of a given character or else print previous characters.\n",
    "ch=\"b\"\n",
    "if ch in \"AEIOUaeiou\":\n",
    "    print(chr(ord(ch)+1))\n",
    "else:\n",
    "    print(chr(ord(ch)-1))"
   ]
  },
  {
   "cell_type": "code",
   "execution_count": 96,
   "metadata": {},
   "outputs": [
    {
     "name": "stdout",
     "output_type": "stream",
     "text": [
      "g middle char\n"
     ]
    }
   ],
   "source": [
    "#25 WAP to check whether a given string of first character is alphabet or not\n",
    "#if the alphabet prints, reverse the string or else print the middle character.\n",
    "st=\"0hagya\"\n",
    "if \"A\"<=st[0]<=\"Z\" or \"a\"<=st[0]<=\"z\":\n",
    "    print(st[-1::-1])\n",
    "else:\n",
    "    print(st[len(st)//2],\"middle char\")"
   ]
  },
  {
   "cell_type": "code",
   "execution_count": 60,
   "metadata": {},
   "outputs": [
    {
     "name": "stdout",
     "output_type": "stream",
     "text": [
      "A\n"
     ]
    }
   ],
   "source": [
    "#26 WAP to check whether the given input character is uppercase or lowercase. If \n",
    "#the input character is upper case convert into lower case and vice versa.\n",
    "ch=\"a\"\n",
    "if \"a\"<=ch<=\"z\":\n",
    "    print(chr(ord(ch)-32))\n",
    "else:\n",
    "    print(chr(ord(ch)+32))\n"
   ]
  },
  {
   "cell_type": "code",
   "execution_count": 62,
   "metadata": {},
   "outputs": [
    {
     "name": "stdout",
     "output_type": "stream",
     "text": [
      "ve\n"
     ]
    }
   ],
   "source": [
    "#27 WAP to check whether a given string is less than 3 characters, to print the entire \n",
    "#string otherwise to print after third positions to the remaining string\n",
    "st=\"ve\"\n",
    "if len(st)<3:\n",
    "    print(st)\n",
    "else:\n",
    "    print(st[3::1])"
   ]
  },
  {
   "cell_type": "code",
   "execution_count": 64,
   "metadata": {},
   "outputs": [
    {
     "name": "stdout",
     "output_type": "stream",
     "text": [
      "bhagyabye\n"
     ]
    }
   ],
   "source": [
    "#28 WAP to check whether a given length of the string is even or not. if even, to \n",
    "#append the new string called \"bye\" or else print the first and last characters.\n",
    "st=\"bhagya\"\n",
    "if len(st)%2==0:\n",
    "    res=st+\"bye\"\n",
    "    print(res)\n",
    "else:\n",
    "    print(st[0],st[-1])"
   ]
  },
  {
   "cell_type": "code",
   "execution_count": 71,
   "metadata": {},
   "outputs": [
    {
     "name": "stdout",
     "output_type": "stream",
     "text": [
      "hagy\n"
     ]
    }
   ],
   "source": [
    "#29 WAP to check whether a given length of the string is odd or not. if odd, to append \n",
    "#the new string(\"Haii\") from the starting of the given string, or else to avoid the \n",
    "#starting character and ending character of the given string and to display the remaining characters.\n",
    "st=\"bhagya\"\n",
    "if len(st)%2!=0:\n",
    "    res=\"haii\"+st\n",
    "    print(res)\n",
    "else:\n",
    "    print(st[1:len(st)-1:1])\n"
   ]
  },
  {
   "cell_type": "code",
   "execution_count": 6,
   "metadata": {},
   "outputs": [
    {
     "name": "stdout",
     "output_type": "stream",
     "text": [
      "gahb\n"
     ]
    }
   ],
   "source": [
    "#30 WAP to check whether the last of the given string is a special character or not, if \n",
    "#the special character prints reverse the string except the last character or else to \n",
    "#check if the length of the string is odd or not, if odd to extract the middle character to the end of the string\n",
    "st=\"bhag@\"\n",
    "if not(\"A\"<=st[-1]<=\"Z\" or \"a\"<=st[-1]<=\"z\" or \"0\"<=st[-1]<=\"9\") and len(st)%2!=0:\n",
    "    print(st[-2::-1])\n",
    "else:\n",
    "    st+=st[::1]\n",
    "    print(st)"
   ]
  },
  {
   "cell_type": "code",
   "execution_count": 91,
   "metadata": {},
   "outputs": [
    {
     "name": "stdout",
     "output_type": "stream",
     "text": [
      "leap year\n"
     ]
    }
   ],
   "source": [
    "#31 WAP to check whether a given year is a leap year or not. if leap year, print leap \n",
    "#year or else not a leap year.\n",
    "y=2016\n",
    "if y%4==0:\n",
    "    print('leap year')\n",
    "else:\n",
    "    print(\"not a leap year\")"
   ]
  },
  {
   "cell_type": "code",
   "execution_count": 93,
   "metadata": {},
   "outputs": [
    {
     "name": "stdout",
     "output_type": "stream",
     "text": [
      "20\n"
     ]
    }
   ],
   "source": [
    "#32 WAP to find out the greatest of two numbers and display the greatest number. if \n",
    "#the greatest number, display the greatest message with value.\n",
    "n=20\n",
    "m=10\n",
    "if n>m:\n",
    "    print(n)\n",
    "else:\n",
    "    print(n,\"is greatest\")"
   ]
  },
  {
   "cell_type": "code",
   "execution_count": 95,
   "metadata": {},
   "outputs": [
    {
     "name": "stdout",
     "output_type": "stream",
     "text": [
      "50 is not present\n"
     ]
    }
   ],
   "source": [
    "#33 WAP to check whether the given value is present inside the given collection or \n",
    "#not.if value is present, display the value is available or else the value is not present.\n",
    "v=50\n",
    "coll=[10,20,30,40]\n",
    "if v in coll:\n",
    "    print(v,\"is available\")\n",
    "else:\n",
    "    print(v,\"is not present\")"
   ]
  },
  {
   "cell_type": "code",
   "execution_count": 105,
   "metadata": {},
   "outputs": [
    {
     "name": "stdout",
     "output_type": "stream",
     "text": [
      "uedv\n"
     ]
    }
   ],
   "source": [
    "#34 WAP whether a given string, if string length is more than 2, then it displays a new \n",
    "#string with the first and last characters switched, otherwise the display the 3 copies of given string.\n",
    "st=\"vedu\"\n",
    "if len(st)>2:\n",
    "    print(st[-1]+st[1:3:1]+st[0])\n",
    "else:\n",
    "    print(3*st)"
   ]
  },
  {
   "cell_type": "code",
   "execution_count": 109,
   "metadata": {},
   "outputs": [
    {
     "name": "stdout",
     "output_type": "stream",
     "text": [
      "[3.3333333333333335, 20, 30, -41]\n"
     ]
    }
   ],
   "source": [
    "#35 WAP to check whether a given value is a list and first and last values should be \n",
    "#integer if condition is satisfied first value is True division by 3 and perform the \n",
    "#bitwise not for last value and those result values are stored in same positions in \n",
    "#given list or else, to perform length of the collection power by 2 and display value\n",
    "l=[10,20,30,40]\n",
    "if type(l)==list and type(l[0])==int and type(l[-1])==int:\n",
    "    l[0]=l[0]/3\n",
    "    l[-1]=~l[-1]\n",
    "    print(l)\n",
    "else:\n",
    "    print(len(l)**2)"
   ]
  },
  {
   "cell_type": "code",
   "execution_count": 112,
   "metadata": {},
   "outputs": [
    {
     "name": "stdout",
     "output_type": "stream",
     "text": [
      "pysphaiiiders\n"
     ]
    }
   ],
   "source": [
    "#36 WAP to check whether a given value is a string or not and length of the value \n",
    "#should be more than 7, if condition is satisfied to append the new string in the \n",
    "#middle of the given string or else to perform the replications with 3 and display the result.\n",
    "st=\"pyspiders\"\n",
    "if len(st)>7 and type(st)==str:\n",
    "    res=st[:len(st)//2]+\"haii\"+st[len(st)//2:]\n",
    "    print(res)\n",
    "else:\n",
    "    print(st*3)"
   ]
  },
  {
   "cell_type": "code",
   "execution_count": 18,
   "metadata": {},
   "outputs": [
    {
     "name": "stdout",
     "output_type": "stream",
     "text": [
      "CABDE\n"
     ]
    }
   ],
   "source": [
    "#37 WAP to check if the given string of first and second character should be sequence \n",
    "#or not. if the sequence prints the first, second and last two characters, or else the \n",
    "#first half string is reversed and the remaining half string should be normal and display it. \n",
    "st=\"ACBDE\"\n",
    "if ord(st[0])==ord(st[1])-1:\n",
    "    print(st)\n",
    "else:\n",
    "    print(st[len(st)//2-1::-1]+st[len(st)//2::1])\n",
    "    "
   ]
  },
  {
   "cell_type": "code",
   "execution_count": 113,
   "metadata": {},
   "outputs": [
    {
     "name": "stdout",
     "output_type": "stream",
     "text": [
      "haii\n"
     ]
    }
   ],
   "source": [
    "#38 WAP to check whether a given value is present inside the collection or not. If \n",
    "#present, print the value or else print value is not found.\n",
    "coll=[\"haii\",60,20,30]\n",
    "v=\"haii\"\n",
    "if v in coll:\n",
    "    print(v)\n",
    "else:\n",
    "    print(\"value is not found\")\n"
   ]
  },
  {
   "cell_type": "code",
   "execution_count": 7,
   "metadata": {},
   "outputs": [
    {
     "name": "stdout",
     "output_type": "stream",
     "text": [
      "{'a': 30, 'b': 40, 'c': 50, 'd': 60}\n"
     ]
    }
   ],
   "source": [
    "#39 WAP to check whether a given key is present in the dict or not. if key is present: \n",
    "#display the value or else add key and new value inside the dict.\n",
    "V=\"d\"\n",
    "d={\"a\":30,\"b\":40,\"c\":50}\n",
    "if V in d:\n",
    "    print(d)\n",
    "else:\n",
    "    d[\"d\"]=60\n",
    "    print(d)"
   ]
  },
  {
   "cell_type": "code",
   "execution_count": 117,
   "metadata": {},
   "outputs": [
    {
     "name": "stdout",
     "output_type": "stream",
     "text": [
      "{1, 2, 4}\n"
     ]
    }
   ],
   "source": [
    "#40 WAP to check whether a given collection is set or not. if set, append the new \n",
    "#value, or else eliminate the duplicate values in collection. final results should be set type.\n",
    "s=(1,2,4,4)\n",
    "if type(s)==set:\n",
    "    s|={5}\n",
    "    print(s)\n",
    "else:\n",
    "    print(set(s))"
   ]
  },
  {
   "cell_type": "code",
   "execution_count": 1,
   "metadata": {},
   "outputs": [
    {
     "name": "stdout",
     "output_type": "stream",
     "text": [
      "19 eligible\n"
     ]
    }
   ],
   "source": [
    "#41 WAP to read the age of a candidate and determine whether it is eligible for \n",
    "#his/her own vote or not.it eligible print age and eligible messages or else print not eligible.\n",
    "age=19\n",
    "if age>=18:\n",
    "    print(age,\"eligible\")\n",
    "else:\n",
    "    print(\"not eligible\")"
   ]
  },
  {
   "cell_type": "code",
   "execution_count": 2,
   "metadata": {},
   "outputs": [
    {
     "name": "stdout",
     "output_type": "stream",
     "text": [
      "9\n"
     ]
    }
   ],
   "source": [
    "#42 WAP to check whether a given value is even and in between 47 to 58 and not in \n",
    "#0 or odd. if condition is True, to perform display the ascii character or else to\n",
    "# perform floor division with 5 and display it.\n",
    "n=48\n",
    "if n%2==0 and 47<=n<58 and n!=0 and n%2!=0:\n",
    "    print(chr(n))\n",
    "else:\n",
    "    print(n//5)\n"
   ]
  },
  {
   "cell_type": "code",
   "execution_count": 3,
   "metadata": {},
   "outputs": [
    {
     "name": "stdout",
     "output_type": "stream",
     "text": [
      "madam palindrome\n"
     ]
    }
   ],
   "source": [
    "#43 WAP to check whether the given string is palindrome or not if it is a palindrome \n",
    "#string palindrome along with the string if it is not a palindrome print not palindrome\n",
    "st='madam'\n",
    "if (st[::-1]==st):\n",
    "    print(st,\"palindrome\")\n",
    "else:\n",
    "    print(\"not palindrome\")"
   ]
  },
  {
   "cell_type": "code",
   "execution_count": 4,
   "metadata": {},
   "outputs": [
    {
     "name": "stdout",
     "output_type": "stream",
     "text": [
      "malayalam palindrome\n"
     ]
    }
   ],
   "source": [
    "#44 WAP to check whether a given number is palindrome or not. If palindrome, \n",
    "#display the given value as a palindrome or else not a palindrome.\n",
    "st='malayalam'\n",
    "if (st[::-1]==st):\n",
    "    print(st,\"palindrome\")\n",
    "else:\n",
    "    print(\"not palindrome\")"
   ]
  },
  {
   "cell_type": "code",
   "execution_count": 7,
   "metadata": {},
   "outputs": [
    {
     "name": "stdout",
     "output_type": "stream",
     "text": [
      "('bhagya', 6) ('pavan', 5)\n"
     ]
    }
   ],
   "source": [
    "#45 WAP to check length of both string collections are equal or not. if both are equal \n",
    "#print the concat the two strings and display, or else if any one of the collection \n",
    "#not equal print both the collections with lengths.\n",
    "a=\"bhagya\"\n",
    "b=\"pavan\"\n",
    "if len(a)==len(b):\n",
    "    res=a+b\n",
    "    print(res)\n",
    "else:\n",
    "    print((a,len(a)),(b,len(b)))"
   ]
  },
  {
   "cell_type": "code",
   "execution_count": 10,
   "metadata": {},
   "outputs": [
    {
     "name": "stdout",
     "output_type": "stream",
     "text": [
      "(140734831125288, 1) (140734831125384, 4)\n"
     ]
    }
   ],
   "source": [
    "#46 WAP to check whether both given values point to the same memory location or \n",
    "#not. if it is true print the middle item of the second collection, or else if it is false \n",
    "#print the first item and last item of the first collection along with the memory address.\n",
    "l=[1,2,3,4]\n",
    "b=[1,2,3,4]\n",
    "if id(l) is id(b):\n",
    "    print(b[len(b)//2])\n",
    "else:\n",
    "    res=id(l),id(b)\n",
    "    print((id(l[0]),l[0] ),(id(l[-1]),l[-1] ))\n",
    "\n"
   ]
  },
  {
   "cell_type": "code",
   "execution_count": 13,
   "metadata": {},
   "outputs": [
    {
     "name": "stdout",
     "output_type": "stream",
     "text": [
      "65 114 65\n",
      "bhagyasripavanAbhagyasripavanAbhagyasripavanA\n"
     ]
    }
   ],
   "source": [
    "#47WAP to check whether a given string collection is more than ten, and the first + \n",
    "#last character of the ascii values should be divisible by 5, if condition is satisfied \n",
    "#print first, middle, last characters ASCII values or else print the string three times.\n",
    "st=\"AhagyasripavanA\"\n",
    "if len(st)>10 and (ord(st[0])+ord(st[-1]))%5==0:\n",
    "    print(ord(st[0]),ord(st[len(st)//2]),ord(st[-1]))\n",
    "else:\n",
    "    print(st*3)\n",
    "    ################\n",
    "st=\"bhagyasripavani\"\n",
    "if len(st)>10 and (ord(st[0])+ord(st[-1]))%5==0:\n",
    "    print(ord(st[0]),ord(st[len(st)//2]),ord(st[-1]))\n",
    "else:\n",
    "    print(st*3)\n"
   ]
  },
  {
   "cell_type": "code",
   "execution_count": 20,
   "metadata": {},
   "outputs": [
    {
     "data": {
      "text/plain": [
       "3"
      ]
     },
     "execution_count": 20,
     "metadata": {},
     "output_type": "execute_result"
    }
   ],
   "source": [
    "#48 WAP to check whether the middle of the item present in the list is string data type \n",
    "#or not if it is string print that list or else if it is not string then print that middle item\n",
    "\n",
    "st=\"string\"\n",
    "len(st)//2"
   ]
  },
  {
   "cell_type": "code",
   "execution_count": 24,
   "metadata": {},
   "outputs": [
    {
     "name": "stdout",
     "output_type": "stream",
     "text": [
      "ahagyb\n"
     ]
    }
   ],
   "source": [
    "#49 WAP Given a string, return a new string where the first and last characters have been exchanged.\n",
    "st=\"bhagya\"\n",
    "if type(st)==str:\n",
    "    print(st[-1]+st[1:len(st)-1:]+st[0])\n",
    "else:\n",
    "    print(\"ignore it\")"
   ]
  },
  {
   "cell_type": "code",
   "execution_count": 30,
   "metadata": {},
   "outputs": [
    {
     "name": "stdout",
     "output_type": "stream",
     "text": [
      "49\n"
     ]
    }
   ],
   "source": [
    "#50 Write a program to find out such numbers which are divisible by 7 but are not a \n",
    "#multiple of 5. Both the conditional is satisfied and print actual value. if one \n",
    "#condition is not satisfied actual number is multiply by 4 and print result.\n",
    "n=49\n",
    "if n%7==0 and n%5!=0:\n",
    "    print(n)\n",
    "else:\n",
    "    print(n*4)\n"
   ]
  },
  {
   "cell_type": "code",
   "execution_count": 34,
   "metadata": {},
   "outputs": [
    {
     "name": "stdout",
     "output_type": "stream",
     "text": [
      "140734831125896 140734831125896\n"
     ]
    }
   ],
   "source": [
    "#51 WAP to check whether two values are pointing to the same memory address or \n",
    "#not. If the same memory displays the address or else displays the two values addresses.\n",
    "a=10\n",
    "a=20\n",
    "if id(a) is id(a):\n",
    "    print(id(a))\n",
    "else:\n",
    "    print(id(a),id(b))"
   ]
  },
  {
   "cell_type": "code",
   "execution_count": 36,
   "metadata": {},
   "outputs": [
    {
     "name": "stdout",
     "output_type": "stream",
     "text": [
      "@@@\n"
     ]
    }
   ],
   "source": [
    "#52 WAP to check whether a given input character is a special symbol or not if it is a \n",
    "#special symbol then print that character three times and tell print that character 5 times\n",
    "ch=\"@\"\n",
    "if not(\"A\"<=ch<=\"Z\" or \"a\"<=ch<=\"z\" or \"0\"<=ch<=\"9\"):\n",
    "    print(ch*3)\n",
    "else:\n",
    "    print(ch*5)"
   ]
  },
  {
   "cell_type": "code",
   "execution_count": 38,
   "metadata": {},
   "outputs": [
    {
     "name": "stdout",
     "output_type": "stream",
     "text": [
      "pavani\n"
     ]
    }
   ],
   "source": [
    "#53 WAP to check length of both string collections equal or not if it is equal print the \n",
    "#connection of any one of the collections if it is not equal print both the collection\n",
    "a=\"bhagya\"\n",
    "b=\"pavani\"\n",
    "if len(a)==len(b):\n",
    "    print(b or a)\n",
    "else:\n",
    "    print(a,b)"
   ]
  },
  {
   "cell_type": "code",
   "execution_count": 40,
   "metadata": {},
   "outputs": [
    {
     "name": "stdout",
     "output_type": "stream",
     "text": [
      "15 2986273363392\n"
     ]
    }
   ],
   "source": [
    "#54 WAP To check whether both input variables point to the same memory location \n",
    "#or not if it is true print the last item of the second collection, if it is false print the \n",
    "#first item of the first collection along with the memory address.\n",
    "a=[15,20,30,40]\n",
    "b=[15.3,6,5]\n",
    "if id(a) is id(b):\n",
    "    print(b[-1])\n",
    "else:\n",
    "    print(a[0],id(a))\n"
   ]
  },
  {
   "cell_type": "code",
   "execution_count": 52,
   "metadata": {},
   "outputs": [
    {
     "name": "stdout",
     "output_type": "stream",
     "text": [
      "h bhiyabhiyabhiya\n"
     ]
    }
   ],
   "source": [
    "#55 WAP to print the string collection five times when the length of the string \n",
    "#collection should be more than 3 and the middle character of the string should \n",
    "#be vowel and the first character ASCII value should be even, to print the previous \n",
    "#character of middle character, or else if ASCII value is odd then print the string \n",
    "#three times as print that string\n",
    "st=\"bhiya\"\n",
    "a=st[len(st)//2]\n",
    "b=ord(st[0])\n",
    "if len(st)>3 and a in \"AEIOUaeiou\" and b%2==0:\n",
    "    y=chr(ord(a)-1)\n",
    "    print(y,st*3)\n",
    "else:\n",
    "    print(st*3)"
   ]
  },
  {
   "cell_type": "code",
   "execution_count": 41,
   "metadata": {},
   "outputs": [
    {
     "name": "stdout",
     "output_type": "stream",
     "text": [
      "pen is not available\n"
     ]
    }
   ],
   "source": [
    "#56 Ravi would like to buy a new cello or red pen. The cost of the pen should be 10. \n",
    "#If the pen is available in the shop, he will buy the pen. If it is not there he will come out of the shop.\n",
    " "
   ]
  },
  {
   "cell_type": "code",
   "execution_count": 20,
   "metadata": {},
   "outputs": [
    {
     "name": "stdout",
     "output_type": "stream",
     "text": [
      "40\n"
     ]
    }
   ],
   "source": [
    "#57 WAP to perform addition and subtraction operation by using list collection if the \n",
    "#first and middle data items number are even performing addition operation, or else performing subtraction.\n",
    "l=[10,20,30,40,50]\n",
    "x=l[0]\n",
    "y=l[len(l)//2]\n",
    "if x%2==0 and y%2==0:\n",
    "    print(x+y)\n",
    "else:\n",
    "    print(x-y)\n"
   ]
  },
  {
   "cell_type": "code",
   "execution_count": 26,
   "metadata": {},
   "outputs": [
    {
     "name": "stdout",
     "output_type": "stream",
     "text": [
      "1530331824064 1530331858432\n"
     ]
    }
   ],
   "source": [
    "#58 WAP to check whether the first item of these two lists is either integer or not. \n",
    "#If it is an integer, concatenate these two lists or else print the memory address of these two lists\n",
    "l=[4.06,20,40,50]\n",
    "y=[10,6,7,8]\n",
    "if type(l[0])==int and type(y[0])==int:\n",
    "    l+=y\n",
    "    print(l)\n",
    "else:\n",
    "    print(id(l),id(y))\n"
   ]
  },
  {
   "cell_type": "code",
   "execution_count": 4,
   "metadata": {},
   "outputs": [
    {
     "name": "stdout",
     "output_type": "stream",
     "text": [
      "largest\n"
     ]
    }
   ],
   "source": [
    "a=10\n",
    "b=5\n",
    "if a>b:\n",
    "    print(\"largest\")\n",
    "elif a<b:\n",
    "    print(\"largest\")"
   ]
  },
  {
   "cell_type": "code",
   "execution_count": 8,
   "metadata": {},
   "outputs": [
    {
     "name": "stdout",
     "output_type": "stream",
     "text": [
      "bhagya\n"
     ]
    }
   ],
   "source": [
    "# wap to print given string is in reverse order or not.\n",
    "st=\"bhagya\"\n",
    "if st[-1::-1]:\n",
    "    print(st)\n",
    "elif st[1::1]:\n",
    "    print(st)"
   ]
  },
  {
   "cell_type": "code",
   "execution_count": 9,
   "metadata": {},
   "outputs": [
    {
     "name": "stdout",
     "output_type": "stream",
     "text": [
      "pyspiders 9 qspiders 8\n"
     ]
    }
   ],
   "source": [
    "#wap to check both string coll equal or not if it is not equal print \n",
    "# #both the strings along with the lengh of string if both are equal.\n",
    "a=\"pyspiders\"\n",
    "b=\"qspiders\"\n",
    "if len(a)==len(b):\n",
    "    print(len(st))\n",
    "else:\n",
    "    print(a,len(a),b,len(b))\n"
   ]
  },
  {
   "cell_type": "code",
   "execution_count": 10,
   "metadata": {},
   "outputs": [
    {
     "name": "stdout",
     "output_type": "stream",
     "text": [
      "madam is palindrome\n"
     ]
    }
   ],
   "source": [
    "a=\"madam\"\n",
    "if a[-1::-1]==a:\n",
    "    print(a,\"is palindrome\")\n",
    "else:\n",
    "    print(b,\"is not a palindrome\")"
   ]
  },
  {
   "cell_type": "code",
   "execution_count": 11,
   "metadata": {},
   "outputs": [
    {
     "name": "stdout",
     "output_type": "stream",
     "text": [
      "2\n"
     ]
    }
   ],
   "source": [
    "#wap to check whether the last digit should be 2 in given num then print last digit.\n",
    "a=322\n",
    "if (a%10)==2:\n",
    "    print(a%10)"
   ]
  },
  {
   "cell_type": "code",
   "execution_count": 42,
   "metadata": {},
   "outputs": [
    {
     "name": "stdout",
     "output_type": "stream",
     "text": [
      "{'c': 30}\n"
     ]
    }
   ],
   "source": [
    "#wap to check weheter the given key is not present in dict or not. \n",
    "# if the key is not present append the new key inside the dict.\n",
    "d={'a':10,\"b\":20}\n",
    "if a not in d :\n",
    "    b={\"c\":30}\n",
    "    print(b)"
   ]
  }
 ],
 "metadata": {
  "kernelspec": {
   "display_name": "Python 3",
   "language": "python",
   "name": "python3"
  },
  "language_info": {
   "codemirror_mode": {
    "name": "ipython",
    "version": 3
   },
   "file_extension": ".py",
   "mimetype": "text/x-python",
   "name": "python",
   "nbconvert_exporter": "python",
   "pygments_lexer": "ipython3",
   "version": "3.11.4"
  },
  "orig_nbformat": 4
 },
 "nbformat": 4,
 "nbformat_minor": 2
}
