{
 "cells": [
  {
   "cell_type": "code",
   "execution_count": 2,
   "metadata": {},
   "outputs": [
    {
     "name": "stdout",
     "output_type": "stream",
     "text": [
      "positive\n",
      "negative\n"
     ]
    }
   ],
   "source": [
    "#1 WAP to check whether a number is positive or negative. If Positive print positive \n",
    "#message or else print Negative Number.\n",
    "n=10\n",
    "if n>0:\n",
    "    print(\"positive\")\n",
    "else:\n",
    "    print(\"negative\")\n",
    "\n",
    "##########\n",
    "n=-10\n",
    "if n>0:\n",
    "    print(\"positive\")\n",
    "else:\n",
    "    print(\"negative\")\n",
    "\n"
   ]
  },
  {
   "cell_type": "code",
   "execution_count": 4,
   "metadata": {},
   "outputs": [
    {
     "name": "stdout",
     "output_type": "stream",
     "text": [
      "even\n"
     ]
    }
   ],
   "source": [
    "#2 WAP to check whether a number is even or odd. If even, print message an even \n",
    "#or else print message as odd.\n",
    "n=6\n",
    "if n%2==0:\n",
    "    print(\"even\")\n",
    "else:\n",
    "    print('odd')"
   ]
  },
  {
   "cell_type": "code",
   "execution_count": 6,
   "metadata": {},
   "outputs": [
    {
     "name": "stdout",
     "output_type": "stream",
     "text": [
      "not a greater than\n"
     ]
    }
   ],
   "source": [
    "#3 Write a program to check whether a given number is greater than 10 or not. if it \n",
    "#is greater than 10 print message as greater or else print that number with not a greater than.\n",
    "n=5\n",
    "if n>=10:\n",
    "    print(\"greater\")\n",
    "else:\n",
    "    print(\"not a greater than\")"
   ]
  },
  {
   "cell_type": "code",
   "execution_count": 7,
   "metadata": {},
   "outputs": [
    {
     "name": "stdout",
     "output_type": "stream",
     "text": [
      "good morning\n"
     ]
    }
   ],
   "source": [
    "#4 WAP to check whether the given two input numbers are divisible by 3 and 5. If it \n",
    "#is divisible, print “Good Morning”, if it is not divisible print “Good Evening”.\n",
    "n=15\n",
    "m=30\n",
    "if n%3==0 and n%5==0 and m%5==0 and m%3==0:\n",
    "    print(\"good morning\")\n",
    "else:\n",
    "    print('good evening')"
   ]
  },
  {
   "cell_type": "code",
   "execution_count": 10,
   "metadata": {},
   "outputs": [
    {
     "name": "stdout",
     "output_type": "stream",
     "text": [
      "100\n"
     ]
    }
   ],
   "source": [
    "#5 WAP to accept two integers and check whether those two values are equal or not.\n",
    "#If equal, multiply to value or else to display the quotation value.\n",
    "m=10\n",
    "n=10\n",
    "if m==n:\n",
    "    print(m*n)\n",
    "else:\n",
    "    print(str(m,n))"
   ]
  },
  {
   "cell_type": "code",
   "execution_count": 11,
   "metadata": {},
   "outputs": [
    {
     "name": "stdout",
     "output_type": "stream",
     "text": [
      "b\n"
     ]
    }
   ],
   "source": [
    "#6 WAP to find the largest of two numbers.\n",
    "a=10\n",
    "b=20\n",
    "if a>b:\n",
    "    print(\"m\")\n",
    "else:\n",
    "    print(\"b\")\n"
   ]
  },
  {
   "cell_type": "code",
   "execution_count": 13,
   "metadata": {},
   "outputs": [
    {
     "name": "stdout",
     "output_type": "stream",
     "text": [
      "10\n"
     ]
    }
   ],
   "source": [
    "#7 WAP to check whether the input number is greater than 10 or not if it is greater \n",
    "#than 10 print messages as greater with number. if it is not a greater than 10 print that number.\n",
    "n=10\n",
    "if n>10:\n",
    "    print(\"greater\",n)\n",
    "else:\n",
    "    print(n)"
   ]
  },
  {
   "cell_type": "code",
   "execution_count": 15,
   "metadata": {},
   "outputs": [
    {
     "name": "stdout",
     "output_type": "stream",
     "text": [
      "2\n"
     ]
    }
   ],
   "source": [
    "#8 WAP to the given number integer, if n is greater than 21,print the absolute \n",
    "#difference between n and 21 otherwise print twice the absolute difference.\n",
    "n=20\n",
    "if type(n)==int and n>21:\n",
    "    dif=abs(n-21)\n",
    "    print(dif)\n",
    "else:\n",
    "    res=abs(n-21)*2\n",
    "    print(res)"
   ]
  },
  {
   "cell_type": "code",
   "execution_count": 18,
   "metadata": {},
   "outputs": [
    {
     "name": "stdout",
     "output_type": "stream",
     "text": [
      "10\n"
     ]
    }
   ],
   "source": [
    "#9 WAP to find the smallest of two numbers.\n",
    "n=10\n",
    "m=20\n",
    "if n<m:\n",
    "    print(n)\n",
    "else:\n",
    "    print(m)"
   ]
  },
  {
   "cell_type": "code",
   "execution_count": 20,
   "metadata": {},
   "outputs": [
    {
     "name": "stdout",
     "output_type": "stream",
     "text": [
      "58\n"
     ]
    }
   ],
   "source": [
    "#10 WAP to check whether the given number is even or odd. If it is even then make \n",
    "#it as an odd number, if it is an odd number then make it as even number.\n",
    "n=59\n",
    "if n%2==0:\n",
    "    print(n+1)\n",
    "else:\n",
    "    print(n-1)"
   ]
  },
  {
   "cell_type": "code",
   "execution_count": 24,
   "metadata": {},
   "outputs": [
    {
     "name": "stdout",
     "output_type": "stream",
     "text": [
      "8\n"
     ]
    }
   ],
   "source": [
    "#11 WAP to check whether the given number is divisible by 3 or not if yes, print the \n",
    "#number or else print the cube of the numbers.\n",
    "num=2\n",
    "if num%3==0:\n",
    "    print(num)\n",
    "else:\n",
    "    print(num**3)"
   ]
  },
  {
   "cell_type": "code",
   "execution_count": 30,
   "metadata": {},
   "outputs": [
    {
     "name": "stdout",
     "output_type": "stream",
     "text": [
      "20\n"
     ]
    }
   ],
   "source": [
    "#12 WAP to check whether the given input is divisible by 3 and 5. If yes print the \n",
    "#actual number or else print string of that number.\n",
    "n=20\n",
    "if n%3==0 and n%5==0:\n",
    "    print(n)\n",
    "else:\n",
    "    print(str(n))"
   ]
  },
  {
   "cell_type": "code",
   "execution_count": 32,
   "metadata": {},
   "outputs": [
    {
     "name": "stdout",
     "output_type": "stream",
     "text": [
      "16\n"
     ]
    }
   ],
   "source": [
    "#13 WAP to check whether the given number lies between 1 to 19, if it is true square \n",
    "#that number or else false cube that number and display the number\n",
    "num=4\n",
    "if 1<=num<=19:\n",
    "    print(num**2)\n",
    "else:\n",
    "    print(num**3)"
   ]
  },
  {
   "cell_type": "code",
   "execution_count": 33,
   "metadata": {},
   "outputs": [
    {
     "name": "stdout",
     "output_type": "stream",
     "text": [
      "pass 50\n"
     ]
    }
   ],
   "source": [
    "#14 WAP to check whether the student has passed or failed. If the student got more \n",
    "#than 40 marks, print ‘PASS’ along with those marks, if it is not printed ‘FAIL’ along with those marks.\n",
    "marks=50\n",
    "if marks>40:\n",
    "    print(\"pass\",marks)\n",
    "else:\n",
    "    print(\"fai\",marks)\n"
   ]
  },
  {
   "cell_type": "code",
   "execution_count": 34,
   "metadata": {},
   "outputs": [
    {
     "name": "stdout",
     "output_type": "stream",
     "text": [
      "9\n"
     ]
    }
   ],
   "source": [
    "#15 WAP to check whether a given value is even and in range of 47 to 58 and not in 0 \n",
    "#or odd. if condition is True, to perform display the ascii character. or else to \n",
    "#perform floor division with 5 and display it.\n",
    "n=48\n",
    "if n%2==0 and 47<=n<58 and n!=0 and n%2!=0:\n",
    "    print(chr(n))\n",
    "else:\n",
    "    print(n//5)\n"
   ]
  },
  {
   "cell_type": "code",
   "execution_count": 38,
   "metadata": {},
   "outputs": [
    {
     "name": "stdout",
     "output_type": "stream",
     "text": [
      "{65: 'A'}\n"
     ]
    }
   ],
   "source": [
    "#16 WAP to check whether a given value is less than 125 and in between 47 to 125 or \n",
    "#not. if condition is True, to perform store the given value as key and value as a \n",
    "#character into the dict or else to append the value in list and display it.\n",
    "l=[]\n",
    "d={}\n",
    "n=65\n",
    "if n<125 and 47<n<125:\n",
    "    d[n]=chr(n)\n",
    "    print(d)\n",
    "else:\n",
    "    l+=[n]\n",
    "    print(l)\n"
   ]
  },
  {
   "cell_type": "code",
   "execution_count": null,
   "metadata": {},
   "outputs": [],
   "source": [
    "#17 WAP to check whether a given character is in the alphabet or not. if alphabet, \n",
    "#display the alphabet with character or else display the not alphabet with character.\n"
   ]
  },
  {
   "cell_type": "code",
   "execution_count": null,
   "metadata": {},
   "outputs": [],
   "source": [
    "#18 WAP to check whether a given character is uppercase or other character. if \n",
    "#uppercase, display the uppercase with character or else display the other character with character"
   ]
  },
  {
   "cell_type": "code",
   "execution_count": null,
   "metadata": {},
   "outputs": [],
   "source": [
    "#19 WAP to check whether a given character is lowercase or other character. if \n",
    "#lowercase, display the lowercase with character or else display the other character with character.\n"
   ]
  },
  {
   "cell_type": "code",
   "execution_count": null,
   "metadata": {},
   "outputs": [],
   "source": [
    "#20 WAP to check whether a given character is uppercase or other character. if \n",
    "#uppercase, convert to lowercase .or else display the ascii number."
   ]
  }
 ],
 "metadata": {
  "kernelspec": {
   "display_name": "Python 3",
   "language": "python",
   "name": "python3"
  },
  "language_info": {
   "codemirror_mode": {
    "name": "ipython",
    "version": 3
   },
   "file_extension": ".py",
   "mimetype": "text/x-python",
   "name": "python",
   "nbconvert_exporter": "python",
   "pygments_lexer": "ipython3",
   "version": "3.11.4"
  },
  "orig_nbformat": 4
 },
 "nbformat": 4,
 "nbformat_minor": 2
}
