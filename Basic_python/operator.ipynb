{
 "cells": [
  {
   "cell_type": "code",
   "execution_count": 6,
   "metadata": {},
   "outputs": [
    {
     "name": "stdout",
     "output_type": "stream",
     "text": [
      "95\n",
      "30.65\n",
      "(25+5j)\n",
      "11\n"
     ]
    }
   ],
   "source": [
    "#int-int, int-float,int-complex,int-Boolean\n",
    "a,b=15,80\n",
    "print(a+b)\n",
    "c=15+15.65\n",
    "print(c)\n",
    "d=10+(15+5j)\n",
    "print(d)\n",
    "e=10+True\n",
    "print(e)"
   ]
  },
  {
   "cell_type": "code",
   "execution_count": 1,
   "metadata": {},
   "outputs": [
    {
     "name": "stdout",
     "output_type": "stream",
     "text": [
      "21.15\n",
      "30.3\n",
      "(30.15+5j)\n",
      "16.15\n",
      "15.05\n"
     ]
    }
   ],
   "source": [
    "#float-int,float-complex,float-,float-int\n",
    "a=15.15+6\n",
    "print(a)\n",
    "b=15.15+15.15\n",
    "print(b)\n",
    "c=15.15+(15+5j)\n",
    "print(c)\n",
    "d=15.15+True\n",
    "print(d)\n",
    "e=15.05+False\n",
    "print(e)"
   ]
  }
 ],
 "metadata": {
  "kernelspec": {
   "display_name": "Python 3",
   "language": "python",
   "name": "python3"
  },
  "language_info": {
   "codemirror_mode": {
    "name": "ipython",
    "version": 3
   },
   "file_extension": ".py",
   "mimetype": "text/x-python",
   "name": "python",
   "nbconvert_exporter": "python",
   "pygments_lexer": "ipython3",
   "version": "3.11.4"
  },
  "orig_nbformat": 4
 },
 "nbformat": 4,
 "nbformat_minor": 2
}
