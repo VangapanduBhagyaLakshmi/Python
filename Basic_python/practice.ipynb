{
 "cells": [
  {
   "cell_type": "code",
   "execution_count": 6,
   "metadata": {},
   "outputs": [
    {
     "name": "stdout",
     "output_type": "stream",
     "text": [
      "95\n",
      "30.65\n",
      "(25+5j)\n",
      "11\n"
     ]
    }
   ],
   "source": [
    "#int-int, int-float,int-complex,int-Boolean\n",
    "a,b=15,80\n",
    "print(a+b)\n",
    "c=15+15.65\n",
    "print(c)\n",
    "d=10+(15+5j)\n",
    "print(d)\n",
    "e=10+True\n",
    "print(e)"
   ]
  },
  {
   "cell_type": "code",
   "execution_count": 1,
   "metadata": {},
   "outputs": [
    {
     "name": "stdout",
     "output_type": "stream",
     "text": [
      "21.15\n",
      "30.3\n",
      "(30.15+5j)\n",
      "16.15\n",
      "15.05\n"
     ]
    }
   ],
   "source": [
    "#float-int,float-complex,float-,float-int\n",
    "a=15.15+6\n",
    "print(a)\n",
    "b=15.15+15.15\n",
    "print(b)\n",
    "c=15.15+(15+5j)\n",
    "print(c)\n",
    "d=15.15+True\n",
    "print(d)\n",
    "e=15.05+False\n",
    "print(e)"
   ]
  },
  {
   "cell_type": "code",
   "execution_count": 3,
   "metadata": {},
   "outputs": [
    {
     "name": "stdout",
     "output_type": "stream",
     "text": [
      "B\n",
      "Y\n"
     ]
    }
   ],
   "source": [
    "#wap to extract uppercase char from given string.\n",
    "st=\"BhagYa\"\n",
    "i=0\n",
    "while i<len(st):\n",
    "    if \"A\"<=st[i]<=\"Z\":\n",
    "        print(st[i])\n",
    "    i+=1"
   ]
  },
  {
   "cell_type": "code",
   "execution_count": 4,
   "metadata": {},
   "outputs": [
    {
     "name": "stdout",
     "output_type": "stream",
     "text": [
      "b\n",
      "a\n",
      "a\n"
     ]
    }
   ],
   "source": [
    "#wap to exract lower case char from given string.\n",
    "st=\"bHaGYa\"\n",
    "i=0\n",
    "while i<len(st):\n",
    "    if \"a\"<=st[i]<=\"z\":\n",
    "        print(st[i])\n",
    "    i+=1"
   ]
  },
  {
   "cell_type": "code",
   "execution_count": 5,
   "metadata": {},
   "outputs": [
    {
     "name": "stdout",
     "output_type": "stream",
     "text": [
      "b 98\n",
      "a 97\n",
      "a 97\n"
     ]
    }
   ],
   "source": [
    "#wap to exract lower case char with ascii numbers from given string.\n",
    "st=\"bHaGYa\"\n",
    "i=0\n",
    "while i<len(st):\n",
    "    if \"a\"<=st[i]<=\"z\":\n",
    "        print(st[i],ord(st[i]))\n",
    "    i+=1"
   ]
  },
  {
   "cell_type": "code",
   "execution_count": 6,
   "metadata": {},
   "outputs": [
    {
     "name": "stdout",
     "output_type": "stream",
     "text": [
      "H 72\n",
      "G 71\n",
      "Y 89\n"
     ]
    }
   ],
   "source": [
    "#wap to exract upper case char with ascii numbers from given string.\n",
    "st=\"bHaGYa\"\n",
    "i=0\n",
    "while i<len(st):\n",
    "    if \"A\"<=st[i]<=\"Z\":\n",
    "        print(st[i],ord(st[i]))\n",
    "    i+=1"
   ]
  },
  {
   "cell_type": "code",
   "execution_count": 9,
   "metadata": {},
   "outputs": [
    {
     "name": "stdout",
     "output_type": "stream",
     "text": [
      "b 98\n",
      "H 72\n",
      "a 97\n",
      "G 71\n",
      "Y 89\n",
      "a 97\n"
     ]
    }
   ],
   "source": [
    "#wap to char with ascii numbers from given string.\n",
    "st=\"bHaGYa\"\n",
    "i=0\n",
    "while i<len(st):\n",
    "        print(st[i],ord(st[i]))\n",
    "        i+=1"
   ]
  },
  {
   "cell_type": "code",
   "execution_count": 10,
   "metadata": {},
   "outputs": [
    {
     "name": "stdout",
     "output_type": "stream",
     "text": [
      "@ 64\n",
      "$ 36\n",
      "^ 94\n"
     ]
    }
   ],
   "source": [
    "#wap to exract spec char from given string.\n",
    "st=\"bHaGYa@5$^\"\n",
    "i=0\n",
    "while i<len(st):\n",
    "    if not(\"a\"<=st[i]<=\"z\" or \"A\"<=st[i]<=\"Z\" or \"0\"<=st[i]<=\"9\"):\n",
    "        print(st[i],ord(st[i]))\n",
    "    i+=1"
   ]
  },
  {
   "cell_type": "code",
   "execution_count": 12,
   "metadata": {},
   "outputs": [
    {
     "name": "stdout",
     "output_type": "stream",
     "text": [
      "a\n",
      "a\n"
     ]
    }
   ],
   "source": [
    "#wap to extract vowels from given string.\n",
    "st=\"bhagya\"\n",
    "i=0\n",
    "while i<len(st):\n",
    "    if st[i] in \"aeiouAEIOU\":\n",
    "        print(st[i])\n",
    "    i+=1"
   ]
  },
  {
   "cell_type": "code",
   "execution_count": 13,
   "metadata": {},
   "outputs": [
    {
     "name": "stdout",
     "output_type": "stream",
     "text": [
      "b\n",
      "h\n",
      "g\n",
      "y\n"
     ]
    }
   ],
   "source": [
    "#wap to extract consonants from given string.\n",
    "st=\"bhagya\"\n",
    "i=0\n",
    "while i<len(st):\n",
    "    if st[i]  not in \"aeiouAEIOU\":\n",
    "        print(st[i])\n",
    "    i+=1"
   ]
  },
  {
   "cell_type": "code",
   "execution_count": 14,
   "metadata": {},
   "outputs": [
    {
     "name": "stdout",
     "output_type": "stream",
     "text": [
      "9\n"
     ]
    }
   ],
   "source": [
    "#count the charcters\n",
    "st=\"pyspiders\"\n",
    "i=0\n",
    "count=0\n",
    "while i<len(st):\n",
    "    count+=1\n",
    "    i+=1\n",
    "print(count)"
   ]
  },
  {
   "cell_type": "code",
   "execution_count": 16,
   "metadata": {},
   "outputs": [
    {
     "name": "stdout",
     "output_type": "stream",
     "text": [
      "4\n"
     ]
    }
   ],
   "source": [
    "#count uppercase char\n",
    "st=\"PySPIders\"\n",
    "i=0\n",
    "count=0\n",
    "while i<len(st):\n",
    "    if \"A\"<=st[i]<=\"Z\":\n",
    "        count+=1\n",
    "    i+=1\n",
    "print(count)"
   ]
  },
  {
   "cell_type": "code",
   "execution_count": 17,
   "metadata": {},
   "outputs": [
    {
     "name": "stdout",
     "output_type": "stream",
     "text": [
      "hagy\n"
     ]
    }
   ],
   "source": [
    "#extract and store lowercase char\n",
    "st=\"Bhagy\"\n",
    "i=0\n",
    "res=\"\"\n",
    "while i<len(st):\n",
    "    if \"a\"<=st[i]<=\"z\":\n",
    "        res+=st[i]\n",
    "    i+=1\n",
    "print(res)\n"
   ]
  },
  {
   "cell_type": "code",
   "execution_count": 20,
   "metadata": {},
   "outputs": [
    {
     "name": "stdout",
     "output_type": "stream",
     "text": [
      "BHAS\n",
      "gyari\n",
      "  @###*&\n",
      "4123\n"
     ]
    }
   ],
   "source": [
    "#segregate char from given strig\n",
    "st=\"BHAgya Sri @#4123##*&\"\n",
    "i=0\n",
    "uc=\"\"\n",
    "lc=\"\"\n",
    "sc=\"\"\n",
    "an=\"\"\n",
    "while i<len(st):\n",
    "    if \"A\"<=st[i]<=\"Z\":\n",
    "        uc+=st[i]\n",
    "    elif \"a\"<=st[i]<=\"z\":\n",
    "        lc+=st[i]\n",
    "    elif \"0\"<=st[i]<=\"9\":\n",
    "        an+=st[i]\n",
    "    else:\n",
    "        sc+=st[i]\n",
    "    i+=1\n",
    "print(uc)\n",
    "print(lc)\n",
    "print(sc)\n",
    "print(an)"
   ]
  },
  {
   "cell_type": "code",
   "execution_count": 25,
   "metadata": {},
   "outputs": [
    {
     "name": "stdout",
     "output_type": "stream",
     "text": [
      "vaild pass BH@#133gya\n"
     ]
    }
   ],
   "source": [
    "st=\"BH@#133gya\"\n",
    "uc=0\n",
    "lc=0\n",
    "an=0\n",
    "sp=0\n",
    "if 8<=len(st)<=16:\n",
    "    i=0\n",
    "    while i<len(st):\n",
    "        if \"A\"<=st[i]<=\"Z\":\n",
    "            uc+=1\n",
    "        elif  \"a\"<=st[i]<=\"z\":\n",
    "            lc+=1\n",
    "        elif \"0\"<=st[i]<=\"9\":\n",
    "            an+=1\n",
    "        else:\n",
    "            sp+=1\n",
    "        i+=1\n",
    "    if uc>=2 and lc>=1 and an>=1 and sp>=1:\n",
    "        print(\"vaild pass\",st)\n",
    "    else:\n",
    "        print(\"invalid\")\n",
    "else:\n",
    "    print(\"invalid pass\")\n"
   ]
  },
  {
   "cell_type": "code",
   "execution_count": 5,
   "metadata": {},
   "outputs": [
    {
     "name": "stdout",
     "output_type": "stream",
     "text": [
      "{'h': 1, 'e': 1, 'l': 3, 'o': 2, 'w': 1, 'r': 1, 'd': 1}\n",
      "h 1\n",
      "[['e', 1], ['w', 1], ['r', 1], ['d', 1], ['h', 1]]\n"
     ]
    }
   ],
   "source": [
    "st=\"helloworld\"\n",
    "d={}\n",
    "for i in st:\n",
    "    if i not in d:\n",
    "        d[i]=1\n",
    "    else:\n",
    "        d[i]+=1\n",
    "print(d)\n",
    "l=[]\n",
    "min=len(st)\n",
    "ch=\"\"\n",
    "for i in d:\n",
    "    if min>d[i]:\n",
    "        min=d[i]\n",
    "        ch=i\n",
    "    elif min==d[i]:\n",
    "        l+=[[i,d[i]]]\n",
    "l+=[[ch,min]]\n",
    "print(ch,min)\n",
    "print(l)\n"
   ]
  },
  {
   "cell_type": "code",
   "execution_count": 14,
   "metadata": {},
   "outputs": [
    {
     "name": "stdout",
     "output_type": "stream",
     "text": [
      "{'h': 1, 'e': 1, 'l': 3, 'o': 2, 'w': 1, 'r': 1, 'd': 1}\n",
      "{1: ['h', 'e', 'w', 'r', 'd'], 3: ['l'], 2: ['o']}\n"
     ]
    }
   ],
   "source": [
    "st=\"helloworld\"\n",
    "d={}\n",
    "for i in st:\n",
    "    if i not in d:\n",
    "        d[i]=1\n",
    "    else:\n",
    "        d[i]+=1\n",
    "print(d)\n",
    "res={}\n",
    "for j in d:\n",
    "    if d[j] not in res:\n",
    "        res[d[j]]=[j]\n",
    "    else:\n",
    "        res[d[j]]+=[j]\n",
    "print(res)"
   ]
  },
  {
   "cell_type": "code",
   "execution_count": 1,
   "metadata": {},
   "outputs": [
    {
     "name": "stdout",
     "output_type": "stream",
     "text": [
      "[1, 2, 3, 4, 5, 6, 7, 8, 9, 90, 10]\n"
     ]
    }
   ],
   "source": [
    "a=[[1,2,3],[4,5,6],7,8,9,[90,10]]\n",
    "l=[]\n",
    "for i in a:\n",
    "    if type(i) not in [list,tuple]:\n",
    "        l+=[i]\n",
    "    else:\n",
    "        for j in i:\n",
    "            l+=[j]\n",
    "print(l)"
   ]
  },
  {
   "cell_type": "code",
   "execution_count": 26,
   "metadata": {},
   "outputs": [
    {
     "name": "stdout",
     "output_type": "stream",
     "text": [
      "['fgf', 'dsd', 'yzzy', 'mnm']\n",
      "4\n"
     ]
    }
   ],
   "source": [
    "st=\"abcdfgfbhadsdyzzyjlmnm\"\n",
    "l=[]\n",
    "for i in range(0,len(st)):\n",
    "    for j in range(i,len(st)+1):\n",
    "        res=st[i:j:1]\n",
    "        if len(res)>2 and res==res[::-1]:\n",
    "            l+=[res]\n",
    "print(l)\n",
    "print(len(l)) "
   ]
  },
  {
   "cell_type": "code",
   "execution_count": 7,
   "metadata": {},
   "outputs": [
    {
     "data": {
      "text/plain": [
       "False"
      ]
     },
     "execution_count": 7,
     "metadata": {},
     "output_type": "execute_result"
    }
   ],
   "source": [
    "st=\"123.55\"\n",
    "st.isdigit()"
   ]
  },
  {
   "cell_type": "code",
   "execution_count": 8,
   "metadata": {},
   "outputs": [
    {
     "data": {
      "text/plain": [
       "'Hello  world@123#'"
      ]
     },
     "execution_count": 8,
     "metadata": {},
     "output_type": "execute_result"
    }
   ],
   "source": [
    "#capitalize (first letter should be uppercase and remaing are all lowercase)\n",
    "st=\"hello  WORLD@123#\"\n",
    "def u_capitalize(coll):\n",
    "    res=\"\"\n",
    "    if \"a\"<=coll[0]<=\"z\":\n",
    "        res+=chr(ord(coll[0])-32)\n",
    "    else:\n",
    "        res+=coll[0]\n",
    "    for i in range(1,len(coll)):\n",
    "        if \"A\"<=coll[i]<=\"Z\":\n",
    "            res+=chr(ord(coll[i])+32)\n",
    "        else:\n",
    "            res+=coll[i]\n",
    "    return res\n",
    "u_capitalize(st)"
   ]
  },
  {
   "cell_type": "code",
   "execution_count": 9,
   "metadata": {},
   "outputs": [
    {
     "data": {
      "text/plain": [
       "'hello world@123 $#'"
      ]
     },
     "execution_count": 9,
     "metadata": {},
     "output_type": "execute_result"
    }
   ],
   "source": [
    "#casefold (in given input upper coverted to lower and remaining all are same)\n",
    "st=\"HELLO WOrld@123 $#\"\n",
    "def u_casefold(coll):\n",
    "    res=\"\"\n",
    "    for i in range(0,len(st)):\n",
    "        if \"A\"<=coll[i]<=\"Z\":\n",
    "            res+=chr(ord(coll[i])+32)\n",
    "        else:\n",
    "            res+=coll[i]\n",
    "    return res\n",
    "u_casefold(st)"
   ]
  },
  {
   "cell_type": "code",
   "execution_count": 4,
   "metadata": {},
   "outputs": [
    {
     "data": {
      "text/plain": [
       "'HELLO WORLD @123 #$'"
      ]
     },
     "execution_count": 4,
     "metadata": {},
     "output_type": "execute_result"
    }
   ],
   "source": [
    "#upper (all characters are in uppercase)\n",
    "st=\"Hello world @123 #$\"\n",
    "def u_upper(coll):\n",
    "    res=\"\"\n",
    "    for i in range(0,len(st)):\n",
    "        if \"a\"<=coll[i]<=\"z\":\n",
    "            res+=chr(ord(coll[i])-32)\n",
    "        else:\n",
    "            res+=coll[i]\n",
    "    return res\n",
    "u_upper(st)"
   ]
  },
  {
   "cell_type": "code",
   "execution_count": 5,
   "metadata": {},
   "outputs": [
    {
     "data": {
      "text/plain": [
       "'hello world @123 #$'"
      ]
     },
     "execution_count": 5,
     "metadata": {},
     "output_type": "execute_result"
    }
   ],
   "source": [
    "#lower (all characters in lowercase)\n",
    "st=\"Hello world @123 #$\"\n",
    "def u_lower(coll):\n",
    "    res=\"\"\n",
    "    for i in range(0,len(st)):\n",
    "        if \"A\"<=coll[i]<=\"Z\":\n",
    "            res+=chr(ord(coll[i])+32)\n",
    "        else:\n",
    "            res+=coll[i]\n",
    "    return res\n",
    "u_lower(st)"
   ]
  },
  {
   "cell_type": "code",
   "execution_count": 7,
   "metadata": {},
   "outputs": [
    {
     "data": {
      "text/plain": [
       "'hELLO WORLD @123 #$'"
      ]
     },
     "execution_count": 7,
     "metadata": {},
     "output_type": "execute_result"
    }
   ],
   "source": [
    "#swapcase (in given input upper to lower and lower to upper)\n",
    "st=\"Hello world @123 #$\"\n",
    "def u_swapcase(coll):\n",
    "    res=\"\"\n",
    "    for i in range(0,len(st)):\n",
    "        if \"A\"<=coll[i]<=\"Z\":\n",
    "            res+=chr(ord(coll[i])+32)\n",
    "        elif \"a\"<=coll[i]<=\"z\":\n",
    "            res+=chr(ord(coll[i])-32)\n",
    "        else:\n",
    "            res+=coll[i]\n",
    "    return res\n",
    "u_swapcase(st)"
   ]
  },
  {
   "cell_type": "code",
   "execution_count": 10,
   "metadata": {},
   "outputs": [
    {
     "data": {
      "text/plain": [
       "True"
      ]
     },
     "execution_count": 10,
     "metadata": {},
     "output_type": "execute_result"
    }
   ],
   "source": [
    "#isupper (in given string all characters in uppercase)\n",
    "st=\"HELLO WORLD @123 #$\"\n",
    "def u_isupper(coll):\n",
    "    for i in coll:\n",
    "        if \"a\"<=i<\"z\":\n",
    "            return False\n",
    "    return True\n",
    "u_isupper(st)"
   ]
  },
  {
   "cell_type": "code",
   "execution_count": 12,
   "metadata": {},
   "outputs": [
    {
     "data": {
      "text/plain": [
       "True"
      ]
     },
     "execution_count": 12,
     "metadata": {},
     "output_type": "execute_result"
    }
   ],
   "source": [
    "#islower (in given string all characters in lower case)\n",
    "st=\"hello world @123 #$\"\n",
    "def u_islower(coll):\n",
    "    for i in coll:\n",
    "        if \"A\"<=i<\"Z\":\n",
    "            return False\n",
    "    return True\n",
    "u_islower(st)"
   ]
  },
  {
   "cell_type": "code",
   "execution_count": 33,
   "metadata": {},
   "outputs": [
    {
     "data": {
      "text/plain": [
       "False"
      ]
     },
     "execution_count": 33,
     "metadata": {},
     "output_type": "execute_result"
    }
   ],
   "source": [
    "#isalpha (in given string all charcters are in alphabets only)\n",
    "st=\"Helloworld@\"\n",
    "def u_isalpha(coll):\n",
    "    for i in coll:\n",
    "        if not(\"a\"<=i<=\"z\" or \"A\"<=i<=\"Z\"):\n",
    "            return False\n",
    "    return True\n",
    "u_isalpha(st)"
   ]
  },
  {
   "cell_type": "code",
   "execution_count": 39,
   "metadata": {},
   "outputs": [
    {
     "data": {
      "text/plain": [
       "True"
      ]
     },
     "execution_count": 39,
     "metadata": {},
     "output_type": "execute_result"
    }
   ],
   "source": [
    "#isalnum (in given string it contains only alphabets and numbers)\n",
    "st=\"Helloworld123\"\n",
    "def u_alnum(coll):\n",
    "    for i in coll:\n",
    "        if not(\"a\"<=i<=\"z\" or \"A\"<=i<=\"Z\" or \"0\"<=i<=\"9\"):\n",
    "            return False\n",
    "    return True\n",
    "u_alnum(st)"
   ]
  },
  {
   "cell_type": "code",
   "execution_count": 50,
   "metadata": {},
   "outputs": [
    {
     "data": {
      "text/plain": [
       "False"
      ]
     },
     "execution_count": 50,
     "metadata": {},
     "output_type": "execute_result"
    }
   ],
   "source": [
    "#isnumeric \n",
    "#isdigit\n",
    "#isdecimal (in given string it contains only numbers without decimal points)\n",
    "st=\"123.12\"\n",
    "def u_numeric(coll):\n",
    "    for i in coll:\n",
    "        if not(\"0\"<=i<=\"9\"):\n",
    "            return False\n",
    "    return True\n",
    "u_numeric(st)"
   ]
  },
  {
   "cell_type": "code",
   "execution_count": 58,
   "metadata": {},
   "outputs": [
    {
     "data": {
      "text/plain": [
       "True"
      ]
     },
     "execution_count": 58,
     "metadata": {},
     "output_type": "execute_result"
    }
   ],
   "source": [
    "#isspace (in given input only it contains space )\n",
    "st=\"  \"\n",
    "def u_isspace(coll):\n",
    "    for i in coll:\n",
    "        if i!=\" \":\n",
    "            return False\n",
    "    return True\n",
    "u_isspace(st)"
   ]
  },
  {
   "cell_type": "code",
   "execution_count": 63,
   "metadata": {},
   "outputs": [
    {
     "data": {
      "text/plain": [
       "True"
      ]
     },
     "execution_count": 63,
     "metadata": {},
     "output_type": "execute_result"
    }
   ],
   "source": [
    "#isidentifier\n",
    "st=\"pys_\"\n",
    "def u_isidentifier(coll):\n",
    "    if \"0\"<=coll[0]<=\"9\":\n",
    "        return False\n",
    "    for i in coll:\n",
    "        if not(\"a\"<=i<=\"z\" or \"A\"<=i<=\"Z\" or \"0\"<=i<=\"9\" or i==\"_\"):\n",
    "            return False\n",
    "    return True\n",
    "u_isidentifier(st)"
   ]
  },
  {
   "cell_type": "code",
   "execution_count": null,
   "metadata": {},
   "outputs": [],
   "source": []
  }
 ],
 "metadata": {
  "kernelspec": {
   "display_name": "Python 3",
   "language": "python",
   "name": "python3"
  },
  "language_info": {
   "codemirror_mode": {
    "name": "ipython",
    "version": 3
   },
   "file_extension": ".py",
   "mimetype": "text/x-python",
   "name": "python",
   "nbconvert_exporter": "python",
   "pygments_lexer": "ipython3",
   "version": "3.11.4"
  },
  "orig_nbformat": 4
 },
 "nbformat": 4,
 "nbformat_minor": 2
}
