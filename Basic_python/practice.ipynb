{
 "cells": [
  {
   "cell_type": "code",
   "execution_count": 6,
   "metadata": {},
   "outputs": [
    {
     "name": "stdout",
     "output_type": "stream",
     "text": [
      "95\n",
      "30.65\n",
      "(25+5j)\n",
      "11\n"
     ]
    }
   ],
   "source": [
    "#int-int, int-float,int-complex,int-Boolean\n",
    "a,b=15,80\n",
    "print(a+b)\n",
    "c=15+15.65\n",
    "print(c)\n",
    "d=10+(15+5j)\n",
    "print(d)\n",
    "e=10+True\n",
    "print(e)"
   ]
  },
  {
   "cell_type": "code",
   "execution_count": 1,
   "metadata": {},
   "outputs": [
    {
     "name": "stdout",
     "output_type": "stream",
     "text": [
      "21.15\n",
      "30.3\n",
      "(30.15+5j)\n",
      "16.15\n",
      "15.05\n"
     ]
    }
   ],
   "source": [
    "#float-int,float-complex,float-,float-int\n",
    "a=15.15+6\n",
    "print(a)\n",
    "b=15.15+15.15\n",
    "print(b)\n",
    "c=15.15+(15+5j)\n",
    "print(c)\n",
    "d=15.15+True\n",
    "print(d)\n",
    "e=15.05+False\n",
    "print(e)"
   ]
  },
  {
   "cell_type": "code",
   "execution_count": 3,
   "metadata": {},
   "outputs": [
    {
     "name": "stdout",
     "output_type": "stream",
     "text": [
      "B\n",
      "Y\n"
     ]
    }
   ],
   "source": [
    "#wap to extract uppercase char from given string.\n",
    "st=\"BhagYa\"\n",
    "i=0\n",
    "while i<len(st):\n",
    "    if \"A\"<=st[i]<=\"Z\":\n",
    "        print(st[i])\n",
    "    i+=1"
   ]
  },
  {
   "cell_type": "code",
   "execution_count": 4,
   "metadata": {},
   "outputs": [
    {
     "name": "stdout",
     "output_type": "stream",
     "text": [
      "b\n",
      "a\n",
      "a\n"
     ]
    }
   ],
   "source": [
    "#wap to exract lower case char from given string.\n",
    "st=\"bHaGYa\"\n",
    "i=0\n",
    "while i<len(st):\n",
    "    if \"a\"<=st[i]<=\"z\":\n",
    "        print(st[i])\n",
    "    i+=1"
   ]
  },
  {
   "cell_type": "code",
   "execution_count": 5,
   "metadata": {},
   "outputs": [
    {
     "name": "stdout",
     "output_type": "stream",
     "text": [
      "b 98\n",
      "a 97\n",
      "a 97\n"
     ]
    }
   ],
   "source": [
    "#wap to exract lower case char with ascii numbers from given string.\n",
    "st=\"bHaGYa\"\n",
    "i=0\n",
    "while i<len(st):\n",
    "    if \"a\"<=st[i]<=\"z\":\n",
    "        print(st[i],ord(st[i]))\n",
    "    i+=1"
   ]
  },
  {
   "cell_type": "code",
   "execution_count": 6,
   "metadata": {},
   "outputs": [
    {
     "name": "stdout",
     "output_type": "stream",
     "text": [
      "H 72\n",
      "G 71\n",
      "Y 89\n"
     ]
    }
   ],
   "source": [
    "#wap to exract upper case char with ascii numbers from given string.\n",
    "st=\"bHaGYa\"\n",
    "i=0\n",
    "while i<len(st):\n",
    "    if \"A\"<=st[i]<=\"Z\":\n",
    "        print(st[i],ord(st[i]))\n",
    "    i+=1"
   ]
  },
  {
   "cell_type": "code",
   "execution_count": 9,
   "metadata": {},
   "outputs": [
    {
     "name": "stdout",
     "output_type": "stream",
     "text": [
      "b 98\n",
      "H 72\n",
      "a 97\n",
      "G 71\n",
      "Y 89\n",
      "a 97\n"
     ]
    }
   ],
   "source": [
    "#wap to char with ascii numbers from given string.\n",
    "st=\"bHaGYa\"\n",
    "i=0\n",
    "while i<len(st):\n",
    "        print(st[i],ord(st[i]))\n",
    "        i+=1"
   ]
  },
  {
   "cell_type": "code",
   "execution_count": 10,
   "metadata": {},
   "outputs": [
    {
     "name": "stdout",
     "output_type": "stream",
     "text": [
      "@ 64\n",
      "$ 36\n",
      "^ 94\n"
     ]
    }
   ],
   "source": [
    "#wap to exract spec char from given string.\n",
    "st=\"bHaGYa@5$^\"\n",
    "i=0\n",
    "while i<len(st):\n",
    "    if not(\"a\"<=st[i]<=\"z\" or \"A\"<=st[i]<=\"Z\" or \"0\"<=st[i]<=\"9\"):\n",
    "        print(st[i],ord(st[i]))\n",
    "    i+=1"
   ]
  },
  {
   "cell_type": "code",
   "execution_count": 12,
   "metadata": {},
   "outputs": [
    {
     "name": "stdout",
     "output_type": "stream",
     "text": [
      "a\n",
      "a\n"
     ]
    }
   ],
   "source": [
    "#wap to extract vowels from given string.\n",
    "st=\"bhagya\"\n",
    "i=0\n",
    "while i<len(st):\n",
    "    if st[i] in \"aeiouAEIOU\":\n",
    "        print(st[i])\n",
    "    i+=1"
   ]
  },
  {
   "cell_type": "code",
   "execution_count": 13,
   "metadata": {},
   "outputs": [
    {
     "name": "stdout",
     "output_type": "stream",
     "text": [
      "b\n",
      "h\n",
      "g\n",
      "y\n"
     ]
    }
   ],
   "source": [
    "#wap to extract consonants from given string.\n",
    "st=\"bhagya\"\n",
    "i=0\n",
    "while i<len(st):\n",
    "    if st[i]  not in \"aeiouAEIOU\":\n",
    "        print(st[i])\n",
    "    i+=1"
   ]
  },
  {
   "cell_type": "code",
   "execution_count": 14,
   "metadata": {},
   "outputs": [
    {
     "name": "stdout",
     "output_type": "stream",
     "text": [
      "9\n"
     ]
    }
   ],
   "source": [
    "#count the charcters\n",
    "st=\"pyspiders\"\n",
    "i=0\n",
    "count=0\n",
    "while i<len(st):\n",
    "    count+=1\n",
    "    i+=1\n",
    "print(count)"
   ]
  },
  {
   "cell_type": "code",
   "execution_count": 16,
   "metadata": {},
   "outputs": [
    {
     "name": "stdout",
     "output_type": "stream",
     "text": [
      "4\n"
     ]
    }
   ],
   "source": [
    "#count uppercase char\n",
    "st=\"PySPIders\"\n",
    "i=0\n",
    "count=0\n",
    "while i<len(st):\n",
    "    if \"A\"<=st[i]<=\"Z\":\n",
    "        count+=1\n",
    "    i+=1\n",
    "print(count)"
   ]
  },
  {
   "cell_type": "code",
   "execution_count": 17,
   "metadata": {},
   "outputs": [
    {
     "name": "stdout",
     "output_type": "stream",
     "text": [
      "hagy\n"
     ]
    }
   ],
   "source": [
    "#extract and store lowercase char\n",
    "st=\"Bhagy\"\n",
    "i=0\n",
    "res=\"\"\n",
    "while i<len(st):\n",
    "    if \"a\"<=st[i]<=\"z\":\n",
    "        res+=st[i]\n",
    "    i+=1\n",
    "print(res)\n"
   ]
  },
  {
   "cell_type": "code",
   "execution_count": 20,
   "metadata": {},
   "outputs": [
    {
     "name": "stdout",
     "output_type": "stream",
     "text": [
      "BHAS\n",
      "gyari\n",
      "  @###*&\n",
      "4123\n"
     ]
    }
   ],
   "source": [
    "#segregate char from given strig\n",
    "st=\"BHAgya Sri @#4123##*&\"\n",
    "i=0\n",
    "uc=\"\"\n",
    "lc=\"\"\n",
    "sc=\"\"\n",
    "an=\"\"\n",
    "while i<len(st):\n",
    "    if \"A\"<=st[i]<=\"Z\":\n",
    "        uc+=st[i]\n",
    "    elif \"a\"<=st[i]<=\"z\":\n",
    "        lc+=st[i]\n",
    "    elif \"0\"<=st[i]<=\"9\":\n",
    "        an+=st[i]\n",
    "    else:\n",
    "        sc+=st[i]\n",
    "    i+=1\n",
    "print(uc)\n",
    "print(lc)\n",
    "print(sc)\n",
    "print(an)"
   ]
  },
  {
   "cell_type": "code",
   "execution_count": 25,
   "metadata": {},
   "outputs": [
    {
     "name": "stdout",
     "output_type": "stream",
     "text": [
      "vaild pass BH@#133gya\n"
     ]
    }
   ],
   "source": [
    "st=\"BH@#133gya\"\n",
    "uc=0\n",
    "lc=0\n",
    "an=0\n",
    "sp=0\n",
    "if 8<=len(st)<=16:\n",
    "    i=0\n",
    "    while i<len(st):\n",
    "        if \"A\"<=st[i]<=\"Z\":\n",
    "            uc+=1\n",
    "        elif  \"a\"<=st[i]<=\"z\":\n",
    "            lc+=1\n",
    "        elif \"0\"<=st[i]<=\"9\":\n",
    "            an+=1\n",
    "        else:\n",
    "            sp+=1\n",
    "        i+=1\n",
    "    if uc>=2 and lc>=1 and an>=1 and sp>=1:\n",
    "        print(\"vaild pass\",st)\n",
    "    else:\n",
    "        print(\"invalid\")\n",
    "else:\n",
    "    print(\"invalid pass\")\n"
   ]
  },
  {
   "cell_type": "code",
   "execution_count": 5,
   "metadata": {},
   "outputs": [
    {
     "name": "stdout",
     "output_type": "stream",
     "text": [
      "{'h': 1, 'e': 1, 'l': 3, 'o': 2, 'w': 1, 'r': 1, 'd': 1}\n",
      "h 1\n",
      "[['e', 1], ['w', 1], ['r', 1], ['d', 1], ['h', 1]]\n"
     ]
    }
   ],
   "source": [
    "st=\"helloworld\"\n",
    "d={}\n",
    "for i in st:\n",
    "    if i not in d:\n",
    "        d[i]=1\n",
    "    else:\n",
    "        d[i]+=1\n",
    "print(d)\n",
    "l=[]\n",
    "min=len(st)\n",
    "ch=\"\"\n",
    "for i in d:\n",
    "    if min>d[i]:\n",
    "        min=d[i]\n",
    "        ch=i\n",
    "    elif min==d[i]:\n",
    "        l+=[[i,d[i]]]\n",
    "l+=[[ch,min]]\n",
    "print(ch,min)\n",
    "print(l)\n"
   ]
  },
  {
   "cell_type": "code",
   "execution_count": 14,
   "metadata": {},
   "outputs": [
    {
     "name": "stdout",
     "output_type": "stream",
     "text": [
      "{'h': 1, 'e': 1, 'l': 3, 'o': 2, 'w': 1, 'r': 1, 'd': 1}\n",
      "{1: ['h', 'e', 'w', 'r', 'd'], 3: ['l'], 2: ['o']}\n"
     ]
    }
   ],
   "source": [
    "st=\"helloworld\"\n",
    "d={}\n",
    "for i in st:\n",
    "    if i not in d:\n",
    "        d[i]=1\n",
    "    else:\n",
    "        d[i]+=1\n",
    "print(d)\n",
    "res={}\n",
    "for j in d:\n",
    "    if d[j] not in res:\n",
    "        res[d[j]]=[j]\n",
    "    else:\n",
    "        res[d[j]]+=[j]\n",
    "print(res)"
   ]
  }
 ],
 "metadata": {
  "kernelspec": {
   "display_name": "Python 3",
   "language": "python",
   "name": "python3"
  },
  "language_info": {
   "codemirror_mode": {
    "name": "ipython",
    "version": 3
   },
   "file_extension": ".py",
   "mimetype": "text/x-python",
   "name": "python",
   "nbconvert_exporter": "python",
   "pygments_lexer": "ipython3",
   "version": "3.11.4"
  },
  "orig_nbformat": 4
 },
 "nbformat": 4,
 "nbformat_minor": 2
}
