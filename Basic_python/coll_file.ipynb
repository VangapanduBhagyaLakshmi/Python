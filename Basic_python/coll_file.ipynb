{
 "cells": [
  {
   "cell_type": "code",
   "execution_count": 1,
   "metadata": {},
   "outputs": [
    {
     "name": "stdout",
     "output_type": "stream",
     "text": [
      "B\n",
      "h\n",
      "a\n",
      "g\n",
      "y\n",
      "a\n"
     ]
    }
   ],
   "source": [
    "#1 wap to print extract all charecters in given string.\n",
    "st=\"Bhagya\"\n",
    "i=0\n",
    "while i<len(st):\n",
    "    print(st[i])\n",
    "    i+=1"
   ]
  },
  {
   "cell_type": "code",
   "execution_count": 2,
   "metadata": {},
   "outputs": [
    {
     "name": "stdout",
     "output_type": "stream",
     "text": [
      "B 0\n",
      "h 1\n",
      "a 2\n",
      "g 3\n",
      "y 4\n",
      "a 5\n"
     ]
    }
   ],
   "source": [
    "#2  wap to print extract all charecters in given string with indexing position.\n",
    "st=\"Bhagya\"\n",
    "i=0\n",
    "while i<len(st):\n",
    "    print(st[i],i)\n",
    "    i+=1"
   ]
  },
  {
   "cell_type": "code",
   "execution_count": 14,
   "metadata": {},
   "outputs": [
    {
     "name": "stdout",
     "output_type": "stream",
     "text": [
      "p -8\n",
      "e -7\n",
      "n -6\n",
      "d -5\n",
      "r -4\n",
      "i -3\n",
      "v -2\n",
      "e -1\n",
      "e -1\n",
      "v -2\n",
      "i -3\n",
      "r -4\n",
      "d -5\n",
      "n -6\n",
      "e -7\n",
      "p -8\n"
     ]
    }
   ],
   "source": [
    "#3  wap to print extract all charecters in given string with negative indexing position.\n",
    "st=\"pendrive\"\n",
    "start=-(len(st))\n",
    "end=0\n",
    "while start<end:\n",
    "    print(st[start],start)\n",
    "    start+=1\n",
    "##################\n",
    "st=\"pendrive\"\n",
    "start=-1\n",
    "end=-(len(st)+1)\n",
    "while start>end:\n",
    "    print(st[start],start)\n",
    "    start-=1"
   ]
  },
  {
   "cell_type": "code",
   "execution_count": 1,
   "metadata": {},
   "outputs": [
    {
     "name": "stdout",
     "output_type": "stream",
     "text": [
      "B\n",
      "H\n"
     ]
    }
   ],
   "source": [
    "# 4wap to extarct uppercase charcters from given string.\n",
    "st=\"BHagya\"\n",
    "i=0\n",
    "while i<len(st):\n",
    "    if 'A'<=st[i]<='Z':\n",
    "        print(st[i])\n",
    "    i+=1"
   ]
  },
  {
   "cell_type": "code",
   "execution_count": 2,
   "metadata": {},
   "outputs": [
    {
     "name": "stdout",
     "output_type": "stream",
     "text": [
      "h\n",
      "a\n",
      "g\n",
      "y\n",
      "a\n"
     ]
    }
   ],
   "source": [
    "#5wap to extarct lowercase charcters from given string.\n",
    "st=\"Bhagya\"\n",
    "i=0\n",
    "while i<len(st):\n",
    "    if 'a'<=st[i]<='z':\n",
    "        print(st[i])\n",
    "    i+=1"
   ]
  },
  {
   "cell_type": "code",
   "execution_count": 3,
   "metadata": {},
   "outputs": [
    {
     "name": "stdout",
     "output_type": "stream",
     "text": [
      "B 66\n",
      "H 72\n"
     ]
    }
   ],
   "source": [
    "#6 wap to extarct uppercase charcters with ascii values from given string.\n",
    "st=\"BHagya\"\n",
    "i=0\n",
    "while i<len(st):\n",
    "    if \"A\"<=st[i]<=\"Z\":\n",
    "        print(st[i],ord(st[i]))\n",
    "    i+=1"
   ]
  },
  {
   "cell_type": "code",
   "execution_count": 4,
   "metadata": {},
   "outputs": [
    {
     "name": "stdout",
     "output_type": "stream",
     "text": [
      "h 104\n",
      "a 97\n",
      "g 103\n",
      "y 121\n",
      "a 97\n"
     ]
    }
   ],
   "source": [
    "#7 wap to extarct lowercase charcters with ascii values from given string.\n",
    "st=\"Bhagya\"\n",
    "i=0\n",
    "while i<len(st):\n",
    "    if \"a\"<=st[i]<=\"z\":\n",
    "        print(st[i],ord(st[i]))\n",
    "    i+=1"
   ]
  },
  {
   "cell_type": "code",
   "execution_count": 6,
   "metadata": {},
   "outputs": [
    {
     "name": "stdout",
     "output_type": "stream",
     "text": [
      "@ 64\n",
      "# 35\n"
     ]
    }
   ],
   "source": [
    "# 8 wap to extarct special charcters with ascii values from given string.\n",
    "st=\"@bhagya#\"\n",
    "i=0\n",
    "while i<len(st):\n",
    "    if not(\"a\"<=st[i]<=\"z\" or \"A\"<=st[i]<=\"Z\" or \"0\"<=st[i]<=\"9\"):\n",
    "        print(st[i],ord(st[i]))\n",
    "    i+=1"
   ]
  },
  {
   "cell_type": "code",
   "execution_count": 7,
   "metadata": {},
   "outputs": [
    {
     "name": "stdout",
     "output_type": "stream",
     "text": [
      "a\n",
      "a\n"
     ]
    }
   ],
   "source": [
    "#9 wap to extract vowels from given string.\n",
    "st=\"Bhagya\"\n",
    "i=0\n",
    "while i<len(st):\n",
    "    if st[i] in \"aeiouAEIOU\":\n",
    "        print(st[i])\n",
    "    i+=1"
   ]
  },
  {
   "cell_type": "code",
   "execution_count": 8,
   "metadata": {},
   "outputs": [
    {
     "name": "stdout",
     "output_type": "stream",
     "text": [
      "B\n",
      "h\n",
      "g\n",
      "y\n"
     ]
    }
   ],
   "source": [
    "#10 wap to extract constants from given string.\n",
    "st=\"Bhagya\"\n",
    "i=0\n",
    "while i<len(st):\n",
    "    if st[i] not in \"aeiouAEIOU\":\n",
    "        print(st[i])\n",
    "    i+=1"
   ]
  },
  {
   "cell_type": "code",
   "execution_count": 9,
   "metadata": {},
   "outputs": [
    {
     "name": "stdout",
     "output_type": "stream",
     "text": [
      "B 66\n",
      "h 104\n",
      "a 97\n",
      "g 103\n",
      "y 121\n",
      "a 97\n"
     ]
    }
   ],
   "source": [
    "#11 WAP to extract all charcters with ascii values.\n",
    "st=\"Bhagya\"\n",
    "i=0\n",
    "while i<len(st):\n",
    "    print(st[i],ord(st[i]))\n",
    "    i+=1"
   ]
  },
  {
   "cell_type": "code",
   "execution_count": 11,
   "metadata": {},
   "outputs": [
    {
     "name": "stdout",
     "output_type": "stream",
     "text": [
      "P 0 -8\n",
      "e 1 -7\n",
      "n 2 -6\n",
      "d 3 -5\n",
      "r 4 -4\n",
      "i 5 -3\n",
      "v 6 -2\n",
      "e 7 -1\n"
     ]
    }
   ],
   "source": [
    "#12 wap to extract all the charcters with negative and positive index values.\n",
    "st=\"Pendrive\"\n",
    "start=0\n",
    "end=len(st)\n",
    "npos=-(len(st))\n",
    "while start<end:\n",
    "    print(st[start],start,npos)\n",
    "    start+=1\n",
    "    npos+=1\n"
   ]
  },
  {
   "cell_type": "code",
   "execution_count": 1,
   "metadata": {},
   "outputs": [
    {
     "name": "stdout",
     "output_type": "stream",
     "text": [
      "Hello world\n",
      "Hello world\n",
      "Hello world\n",
      "Hello world\n",
      "Hello world\n"
     ]
    }
   ],
   "source": [
    "#1 wap to print helloworld 5 times by using while loop.\n",
    "start=0\n",
    "end=5\n",
    "while start<end:\n",
    "    print(\"Hello world\")\n",
    "    start+=1"
   ]
  },
  {
   "cell_type": "code",
   "execution_count": 2,
   "metadata": {},
   "outputs": [
    {
     "name": "stdout",
     "output_type": "stream",
     "text": [
      "1\n",
      "2\n",
      "3\n",
      "4\n",
      "5\n",
      "6\n",
      "7\n",
      "8\n",
      "9\n",
      "10\n"
     ]
    }
   ],
   "source": [
    "#2 wap to print the numbers from 1 to 1o by while loop.\n",
    "start=1\n",
    "end=10\n",
    "while start<=end:\n",
    "    print(start)\n",
    "    start+=1"
   ]
  },
  {
   "cell_type": "code",
   "execution_count": 3,
   "metadata": {},
   "outputs": [
    {
     "name": "stdout",
     "output_type": "stream",
     "text": [
      "1\n",
      "2\n",
      "3\n",
      "4\n",
      "5\n"
     ]
    }
   ],
   "source": [
    "#3 wap to print natural numbers from 1 to nth by using while loop.\n",
    "start=1\n",
    "end=int(input(\"enter the value\"))\n",
    "while start<=end:\n",
    "    print(start)\n",
    "    start+=1"
   ]
  },
  {
   "cell_type": "code",
   "execution_count": 5,
   "metadata": {},
   "outputs": [
    {
     "name": "stdout",
     "output_type": "stream",
     "text": [
      "10\n",
      "9\n",
      "8\n",
      "7\n",
      "6\n",
      "5\n",
      "4\n",
      "3\n",
      "2\n",
      "1\n"
     ]
    }
   ],
   "source": [
    "#4 Wap to print reverse of natural numbers from nth to 0 by using while loop.\n",
    "start=int(input(\"enter value\"))\n",
    "end=0\n",
    "while start>end:\n",
    "    print(start)\n",
    "    start-=1"
   ]
  },
  {
   "cell_type": "code",
   "execution_count": 6,
   "metadata": {},
   "outputs": [
    {
     "name": "stdout",
     "output_type": "stream",
     "text": [
      "0\n",
      "1\n",
      "2\n",
      "3\n",
      "4\n",
      "5\n"
     ]
    }
   ],
   "source": [
    "#5 wap to print whole numbers until nth by using while loop.\n",
    "start=0\n",
    "end=int(input(\"enter the value\"))\n",
    "while start<=end:\n",
    "    print(start)\n",
    "    start+=1"
   ]
  },
  {
   "cell_type": "code",
   "execution_count": 7,
   "metadata": {},
   "outputs": [
    {
     "name": "stdout",
     "output_type": "stream",
     "text": [
      "5\n",
      "4\n",
      "3\n",
      "2\n",
      "1\n",
      "0\n"
     ]
    }
   ],
   "source": [
    "#6 wap to print reverse of whole numbers until nth by using while loop.\n",
    "start=int(input(\"enter the value\"))\n",
    "end=0\n",
    "while start>=end:\n",
    "    print(start)\n",
    "    start-=1"
   ]
  }
 ],
 "metadata": {
  "kernelspec": {
   "display_name": "Python 3",
   "language": "python",
   "name": "python3"
  },
  "language_info": {
   "codemirror_mode": {
    "name": "ipython",
    "version": 3
   },
   "file_extension": ".py",
   "mimetype": "text/x-python",
   "name": "python",
   "nbconvert_exporter": "python",
   "pygments_lexer": "ipython3",
   "version": "3.11.4"
  },
  "orig_nbformat": 4
 },
 "nbformat": 4,
 "nbformat_minor": 2
}
