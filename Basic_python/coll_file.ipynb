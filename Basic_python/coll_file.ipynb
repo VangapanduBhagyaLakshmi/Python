{
 "cells": [
  {
   "cell_type": "code",
   "execution_count": 24,
   "metadata": {},
   "outputs": [
    {
     "name": "stdout",
     "output_type": "stream",
     "text": [
      "B\n",
      "h\n",
      "a\n",
      "g\n",
      "y\n",
      "a\n"
     ]
    }
   ],
   "source": [
    "#1 wap to print extract all charecters in given string.\n",
    "st=\"Bhagya\"\n",
    "i=0\n",
    "while i<len(st):\n",
    "    print(st[i])\n",
    "    i+=1"
   ]
  },
  {
   "cell_type": "code",
   "execution_count": 25,
   "metadata": {},
   "outputs": [
    {
     "name": "stdout",
     "output_type": "stream",
     "text": [
      "B 0\n",
      "h 1\n",
      "a 2\n",
      "g 3\n",
      "y 4\n",
      "a 5\n"
     ]
    }
   ],
   "source": [
    "#2  wap to print extract all charecters in given string with indexing position.\n",
    "st=\"Bhagya\"\n",
    "i=0\n",
    "while i<len(st):\n",
    "    print(st[i],i)\n",
    "    i+=1"
   ]
  },
  {
   "cell_type": "code",
   "execution_count": 26,
   "metadata": {},
   "outputs": [
    {
     "name": "stdout",
     "output_type": "stream",
     "text": [
      "p -8\n",
      "e -7\n",
      "n -6\n",
      "d -5\n",
      "r -4\n",
      "i -3\n",
      "v -2\n",
      "e -1\n",
      "e -1\n",
      "v -2\n",
      "i -3\n",
      "r -4\n",
      "d -5\n",
      "n -6\n",
      "e -7\n",
      "p -8\n"
     ]
    }
   ],
   "source": [
    "#3  wap to print extract all charecters in given string with negative indexing position.\n",
    "st=\"pendrive\"\n",
    "start=-(len(st))\n",
    "end=0\n",
    "while start<end:\n",
    "    print(st[start],start)\n",
    "    start+=1\n",
    "##################\n",
    "st=\"pendrive\"\n",
    "start=-1\n",
    "end=-(len(st)+1)\n",
    "while start>end:\n",
    "    print(st[start],start)\n",
    "    start-=1"
   ]
  },
  {
   "cell_type": "code",
   "execution_count": 27,
   "metadata": {},
   "outputs": [
    {
     "name": "stdout",
     "output_type": "stream",
     "text": [
      "B\n",
      "H\n"
     ]
    }
   ],
   "source": [
    "# 4wap to extarct uppercase charcters from given string.\n",
    "st=\"BHagya\"\n",
    "i=0\n",
    "while i<len(st):\n",
    "    if 'A'<=st[i]<='Z':\n",
    "        print(st[i])\n",
    "    i+=1"
   ]
  },
  {
   "cell_type": "code",
   "execution_count": 28,
   "metadata": {},
   "outputs": [
    {
     "name": "stdout",
     "output_type": "stream",
     "text": [
      "h\n",
      "a\n",
      "g\n",
      "y\n",
      "a\n"
     ]
    }
   ],
   "source": [
    "#5wap to extarct lowercase charcters from given string.\n",
    "st=\"Bhagya\"\n",
    "i=0\n",
    "while i<len(st):\n",
    "    if 'a'<=st[i]<='z':\n",
    "        print(st[i])\n",
    "    i+=1"
   ]
  },
  {
   "cell_type": "code",
   "execution_count": 29,
   "metadata": {},
   "outputs": [
    {
     "name": "stdout",
     "output_type": "stream",
     "text": [
      "B 66\n",
      "H 72\n"
     ]
    }
   ],
   "source": [
    "#6 wap to extarct uppercase charcters with ascii values from given string.\n",
    "st=\"BHagya\"\n",
    "i=0\n",
    "while i<len(st):\n",
    "    if \"A\"<=st[i]<=\"Z\":\n",
    "        print(st[i],ord(st[i]))\n",
    "    i+=1"
   ]
  },
  {
   "cell_type": "code",
   "execution_count": 30,
   "metadata": {},
   "outputs": [
    {
     "name": "stdout",
     "output_type": "stream",
     "text": [
      "h 104\n",
      "a 97\n",
      "g 103\n",
      "y 121\n",
      "a 97\n"
     ]
    }
   ],
   "source": [
    "#7 wap to extarct lowercase charcters with ascii values from given string.\n",
    "st=\"Bhagya\"\n",
    "i=0\n",
    "while i<len(st):\n",
    "    if \"a\"<=st[i]<=\"z\":\n",
    "        print(st[i],ord(st[i]))\n",
    "    i+=1"
   ]
  },
  {
   "cell_type": "code",
   "execution_count": 31,
   "metadata": {},
   "outputs": [
    {
     "name": "stdout",
     "output_type": "stream",
     "text": [
      "@ 64\n",
      "# 35\n"
     ]
    }
   ],
   "source": [
    "# 8 wap to extarct special charcters with ascii values from given string.\n",
    "st=\"@bhagya#\"\n",
    "i=0\n",
    "while i<len(st):\n",
    "    if not(\"a\"<=st[i]<=\"z\" or \"A\"<=st[i]<=\"Z\" or \"0\"<=st[i]<=\"9\"):\n",
    "        print(st[i],ord(st[i]))\n",
    "    i+=1"
   ]
  },
  {
   "cell_type": "code",
   "execution_count": 32,
   "metadata": {},
   "outputs": [
    {
     "name": "stdout",
     "output_type": "stream",
     "text": [
      "a\n",
      "a\n"
     ]
    }
   ],
   "source": [
    "#9 wap to extract vowels from given string.\n",
    "st=\"Bhagya\"\n",
    "i=0\n",
    "while i<len(st):\n",
    "    if st[i] in \"aeiouAEIOU\":\n",
    "        print(st[i])\n",
    "    i+=1"
   ]
  },
  {
   "cell_type": "code",
   "execution_count": 33,
   "metadata": {},
   "outputs": [
    {
     "name": "stdout",
     "output_type": "stream",
     "text": [
      "B\n",
      "h\n",
      "g\n",
      "y\n"
     ]
    }
   ],
   "source": [
    "#10 wap to extract constants from given string.\n",
    "st=\"Bhagya\"\n",
    "i=0\n",
    "while i<len(st):\n",
    "    if st[i] not in \"aeiouAEIOU\":\n",
    "        print(st[i])\n",
    "    i+=1"
   ]
  },
  {
   "cell_type": "code",
   "execution_count": 34,
   "metadata": {},
   "outputs": [
    {
     "name": "stdout",
     "output_type": "stream",
     "text": [
      "B 66\n",
      "h 104\n",
      "a 97\n",
      "g 103\n",
      "y 121\n",
      "a 97\n"
     ]
    }
   ],
   "source": [
    "#11 WAP to extract all charcters with ascii values.\n",
    "st=\"Bhagya\"\n",
    "i=0\n",
    "while i<len(st):\n",
    "    print(st[i],ord(st[i]))\n",
    "    i+=1"
   ]
  },
  {
   "cell_type": "code",
   "execution_count": 35,
   "metadata": {},
   "outputs": [
    {
     "name": "stdout",
     "output_type": "stream",
     "text": [
      "P 0 -8\n",
      "e 1 -7\n",
      "n 2 -6\n",
      "d 3 -5\n",
      "r 4 -4\n",
      "i 5 -3\n",
      "v 6 -2\n",
      "e 7 -1\n"
     ]
    }
   ],
   "source": [
    "#12 wap to extract all the charcters with negative and positive index values.\n",
    "st=\"Pendrive\"\n",
    "start=0\n",
    "end=len(st)\n",
    "npos=-(len(st))\n",
    "while start<end:\n",
    "    print(st[start],start,npos)\n",
    "    start+=1\n",
    "    npos+=1\n"
   ]
  },
  {
   "cell_type": "code",
   "execution_count": 2,
   "metadata": {},
   "outputs": [
    {
     "ename": "KeyboardInterrupt",
     "evalue": "",
     "output_type": "error",
     "traceback": [
      "\u001b[1;31m---------------------------------------------------------------------------\u001b[0m",
      "\u001b[1;31mKeyboardInterrupt\u001b[0m                         Traceback (most recent call last)",
      "Cell \u001b[1;32mIn[2], line 8\u001b[0m\n\u001b[0;32m      6\u001b[0m count\u001b[39m=\u001b[39m\u001b[39m0\u001b[39m\n\u001b[0;32m      7\u001b[0m m\u001b[39m=\u001b[39m\u001b[39m1\u001b[39m\n\u001b[1;32m----> 8\u001b[0m \u001b[39mwhile\u001b[39;00m temp:\n\u001b[0;32m      9\u001b[0m     \u001b[39mif\u001b[39;00m ld\u001b[39m%\u001b[39mm\u001b[39m==\u001b[39m\u001b[39m0\u001b[39m:\n\u001b[0;32m     10\u001b[0m         count\u001b[39m+\u001b[39m\u001b[39m=\u001b[39m\u001b[39m1\u001b[39m\n",
      "\u001b[1;31mKeyboardInterrupt\u001b[0m: "
     ]
    }
   ],
   "source": [
    "#13 wap to print prime digits in the given number.\n",
    "n=2152\n",
    "temp=n\n",
    "while n:\n",
    "    ld=n%10\n",
    "    count=0\n",
    "    m=1\n",
    "    while temp:\n",
    "        if ld%m==0:\n",
    "            count+=1\n",
    "        m+=1\n",
    "    temp=temp//10\n",
    "if count==2:\n",
    "    print(n)\n",
    "else:\n",
    "    print(\"not prime\")\n"
   ]
  },
  {
   "cell_type": "code",
   "execution_count": 36,
   "metadata": {},
   "outputs": [
    {
     "name": "stdout",
     "output_type": "stream",
     "text": [
      "Hello world\n",
      "Hello world\n",
      "Hello world\n",
      "Hello world\n",
      "Hello world\n"
     ]
    }
   ],
   "source": [
    "#1 wap to print helloworld 5 times by using while loop.\n",
    "start=0\n",
    "end=5\n",
    "while start<end:\n",
    "    print(\"Hello world\")\n",
    "    start+=1"
   ]
  },
  {
   "cell_type": "code",
   "execution_count": 37,
   "metadata": {},
   "outputs": [
    {
     "name": "stdout",
     "output_type": "stream",
     "text": [
      "1\n",
      "2\n",
      "3\n",
      "4\n",
      "5\n",
      "6\n",
      "7\n",
      "8\n",
      "9\n",
      "10\n"
     ]
    }
   ],
   "source": [
    "#2 wap to print the numbers from 1 to 1o by while loop.\n",
    "start=1\n",
    "end=10\n",
    "while start<=end:\n",
    "    print(start)\n",
    "    start+=1"
   ]
  },
  {
   "cell_type": "code",
   "execution_count": 38,
   "metadata": {},
   "outputs": [],
   "source": [
    "#3 wap to print natural numbers from 1 to nth by using while loop.\n",
    "start=1\n",
    "end=int(input(\"enter the value\"))\n",
    "while start<=end:\n",
    "    print(start)\n",
    "    start+=1"
   ]
  },
  {
   "cell_type": "code",
   "execution_count": null,
   "metadata": {},
   "outputs": [
    {
     "name": "stdout",
     "output_type": "stream",
     "text": [
      "10\n",
      "9\n",
      "8\n",
      "7\n",
      "6\n",
      "5\n",
      "4\n",
      "3\n",
      "2\n",
      "1\n"
     ]
    }
   ],
   "source": [
    "#4 Wap to print reverse of natural numbers from nth to 0 by using while loop.\n",
    "start=int(input(\"enter value\"))\n",
    "end=0\n",
    "while start>end:\n",
    "    print(start)\n",
    "    start-=1"
   ]
  },
  {
   "cell_type": "code",
   "execution_count": null,
   "metadata": {},
   "outputs": [
    {
     "name": "stdout",
     "output_type": "stream",
     "text": [
      "0\n",
      "1\n",
      "2\n",
      "3\n",
      "4\n",
      "5\n"
     ]
    }
   ],
   "source": [
    "#5 wap to print whole numbers until nth by using while loop.\n",
    "start=0\n",
    "end=int(input(\"enter the value\"))\n",
    "while start<=end:\n",
    "    print(start)\n",
    "    start+=1"
   ]
  },
  {
   "cell_type": "code",
   "execution_count": null,
   "metadata": {},
   "outputs": [
    {
     "name": "stdout",
     "output_type": "stream",
     "text": [
      "5\n",
      "4\n",
      "3\n",
      "2\n",
      "1\n",
      "0\n"
     ]
    }
   ],
   "source": [
    "#6 wap to print reverse of whole numbers until nth by using while loop.\n",
    "start=int(input(\"enter the value\"))\n",
    "end=0\n",
    "while start>=end:\n",
    "    print(start)\n",
    "    start-=1"
   ]
  },
  {
   "cell_type": "code",
   "execution_count": null,
   "metadata": {},
   "outputs": [
    {
     "name": "stdout",
     "output_type": "stream",
     "text": [
      "2\n",
      "4\n",
      "6\n",
      "8\n",
      "10\n"
     ]
    }
   ],
   "source": [
    "#7 wap to print  the even number until nth times by using a while loop. \n",
    "start=2\n",
    "end=int(input(\"enter the value\"))\n",
    "while start<=end:\n",
    "    print(start)\n",
    "    start+=2"
   ]
  },
  {
   "cell_type": "code",
   "execution_count": null,
   "metadata": {},
   "outputs": [
    {
     "name": "stdout",
     "output_type": "stream",
     "text": [
      "10\n",
      "8\n",
      "6\n",
      "4\n",
      "2\n"
     ]
    }
   ],
   "source": [
    "#8 wap to print  reverse even number until nth times by using a while loop.\n",
    "start=int(input(\"enter the value\"))\n",
    "end=1\n",
    "while start>=end:\n",
    "    print(start)\n",
    "    start-=2"
   ]
  },
  {
   "cell_type": "code",
   "execution_count": null,
   "metadata": {},
   "outputs": [
    {
     "name": "stdout",
     "output_type": "stream",
     "text": [
      "1\n",
      "3\n",
      "5\n",
      "7\n",
      "9\n"
     ]
    }
   ],
   "source": [
    "#9 wap to print  the odd number until nth times by using a while loop.\n",
    "start=1\n",
    "end=int(input(\"enter the value\"))\n",
    "while start<=end:\n",
    "    print(start)\n",
    "    start+=2"
   ]
  },
  {
   "cell_type": "code",
   "execution_count": null,
   "metadata": {},
   "outputs": [
    {
     "name": "stdout",
     "output_type": "stream",
     "text": [
      "9\n",
      "7\n",
      "5\n",
      "3\n",
      "1\n"
     ]
    }
   ],
   "source": [
    "#10 wap to print reverse the odd number until nth times by using a while loop.\n",
    "start=9\n",
    "end=1\n",
    "while start>=end:\n",
    "    print(start)\n",
    "    start-=2"
   ]
  },
  {
   "cell_type": "code",
   "execution_count": null,
   "metadata": {},
   "outputs": [
    {
     "name": "stdout",
     "output_type": "stream",
     "text": [
      "5\n",
      "10\n",
      "15\n",
      "20\n",
      "25\n",
      "30\n",
      "35\n",
      "40\n",
      "45\n",
      "50\n",
      "55\n",
      "60\n",
      "65\n",
      "70\n",
      "75\n",
      "80\n",
      "85\n",
      "90\n",
      "95\n",
      "100\n"
     ]
    }
   ],
   "source": [
    "#11 wap to print the nth table 1 to 20\n",
    "start=1\n",
    "end=20\n",
    "n=5\n",
    "while start<=end:\n",
    "    print(n*start)\n",
    "    start+=1"
   ]
  },
  {
   "cell_type": "code",
   "execution_count": null,
   "metadata": {},
   "outputs": [
    {
     "name": "stdout",
     "output_type": "stream",
     "text": [
      "100\n",
      "95\n",
      "90\n",
      "85\n",
      "80\n",
      "75\n",
      "70\n",
      "65\n",
      "60\n",
      "55\n",
      "50\n",
      "45\n",
      "40\n",
      "35\n",
      "30\n",
      "25\n",
      "20\n",
      "15\n",
      "10\n",
      "5\n"
     ]
    }
   ],
   "source": [
    "#12 wap to print the nth table 20 to 1.\n",
    "start=20\n",
    "end=1\n",
    "n=5\n",
    "while start>=end:\n",
    "    print(n*start)\n",
    "    start-=1"
   ]
  },
  {
   "cell_type": "code",
   "execution_count": null,
   "metadata": {},
   "outputs": [
    {
     "name": "stdout",
     "output_type": "stream",
     "text": [
      "27\n",
      "30\n",
      "33\n",
      "36\n",
      "39\n",
      "42\n",
      "45\n",
      "48\n",
      "51\n",
      "54\n",
      "57\n",
      "60\n",
      "63\n",
      "66\n"
     ]
    }
   ],
   "source": [
    "#13 wap to print the numbers which are divisible by 3 from 25 to 66.\n",
    "n=25\n",
    "while n<=66:\n",
    "    if n%3==0:\n",
    "        print(n)\n",
    "    n+=1"
   ]
  },
  {
   "cell_type": "code",
   "execution_count": null,
   "metadata": {},
   "outputs": [
    {
     "name": "stdout",
     "output_type": "stream",
     "text": [
      "15\n",
      "30\n",
      "45\n",
      "60\n",
      "75\n"
     ]
    }
   ],
   "source": [
    "#14 wap to print the numbers which are divisible by 3 and 5 from 15 to 76.\n",
    "n=15\n",
    "while n<=76:\n",
    "    if n%3==0 and n%5==0:\n",
    "        print(n)\n",
    "    n+=1"
   ]
  },
  {
   "cell_type": "code",
   "execution_count": null,
   "metadata": {},
   "outputs": [
    {
     "name": "stdout",
     "output_type": "stream",
     "text": [
      "70\n",
      "35\n"
     ]
    }
   ],
   "source": [
    "#15 wap to print the numbers which are divisible by 3 and 7 from 77 to 22.\n",
    "n=77\n",
    "while n>=22:\n",
    "    if n%7==0 and n%5==0:\n",
    "        print(n)\n",
    "    n-=1"
   ]
  },
  {
   "cell_type": "code",
   "execution_count": 1,
   "metadata": {},
   "outputs": [
    {
     "name": "stdout",
     "output_type": "stream",
     "text": [
      "1\n",
      "2\n",
      "i love u\n",
      "4\n",
      "i hate you\n",
      "i love u\n",
      "7\n",
      "8\n",
      "i love u\n",
      "i hate you\n",
      "11\n",
      "i love u\n",
      "13\n",
      "14\n",
      "i love ui hate you\n",
      "16\n",
      "17\n",
      "i love u\n",
      "19\n",
      "i hate you\n",
      "i love u\n",
      "22\n",
      "23\n",
      "i love u\n",
      "i hate you\n",
      "26\n",
      "i love u\n",
      "28\n",
      "29\n",
      "i love ui hate you\n"
     ]
    }
   ],
   "source": [
    "n=1\n",
    "while n <=30:\n",
    "    res=\"\"\n",
    "    if n%3==0:\n",
    "        res+=\"i love u\"\n",
    "    if n%5==0:\n",
    "        res+=\"i hate you\"\n",
    "    if res==\"\":\n",
    "        res=str(n)\n",
    "    print(res)\n",
    "    n+=1"
   ]
  },
  {
   "cell_type": "code",
   "execution_count": 6,
   "metadata": {},
   "outputs": [
    {
     "name": "stdout",
     "output_type": "stream",
     "text": [
      "55\n"
     ]
    }
   ],
   "source": [
    "#17 wap to print sum of the natural numbers from 1 to nth.\n",
    "start=1\n",
    "end=10\n",
    "sum=0\n",
    "while start<=end:\n",
    "    sum+=start\n",
    "    start+=1\n",
    "print(sum)"
   ]
  },
  {
   "cell_type": "code",
   "execution_count": 1,
   "metadata": {},
   "outputs": [
    {
     "name": "stdout",
     "output_type": "stream",
     "text": [
      "30\n"
     ]
    }
   ],
   "source": [
    "#18 wap to print sum of the even numbers from 1 to nth.\n",
    "start=2\n",
    "end=10\n",
    "sum=0\n",
    "while start<=end:\n",
    "    sum+=start\n",
    "    start+=2\n",
    "print(sum)\n"
   ]
  },
  {
   "cell_type": "code",
   "execution_count": 8,
   "metadata": {},
   "outputs": [
    {
     "name": "stdout",
     "output_type": "stream",
     "text": [
      "720\n"
     ]
    }
   ],
   "source": [
    "#19 wap to print product of the numbers from 1 to 6.\n",
    "start=1\n",
    "end=6\n",
    "prod=1\n",
    "while start<=end:\n",
    "    prod*=start\n",
    "    start+=1\n",
    "print(prod)"
   ]
  },
  {
   "cell_type": "code",
   "execution_count": 26,
   "metadata": {},
   "outputs": [
    {
     "name": "stdout",
     "output_type": "stream",
     "text": [
      "15\n"
     ]
    }
   ],
   "source": [
    "#20 wap to count the no of odd values from 1 to 30 numbers.\n",
    "start=1\n",
    "end=30\n",
    "count=0\n",
    "while start<=end:\n",
    "    if start%2!=0:\n",
    "        count+=1\n",
    "    start+=1\n",
    "print(count)"
   ]
  },
  {
   "cell_type": "code",
   "execution_count": 27,
   "metadata": {},
   "outputs": [
    {
     "name": "stdout",
     "output_type": "stream",
     "text": [
      "1\n",
      "2\n",
      "3\n",
      "6\n"
     ]
    }
   ],
   "source": [
    "#21 wap to print the factors  of given number.\n",
    "m=1\n",
    "n=6\n",
    "while m<=n:\n",
    "    if n%m==0:\n",
    "        print(m)\n",
    "    m+=1"
   ]
  },
  {
   "cell_type": "code",
   "execution_count": 28,
   "metadata": {},
   "outputs": [
    {
     "name": "stdout",
     "output_type": "stream",
     "text": [
      "12\n"
     ]
    }
   ],
   "source": [
    "#22 wap to sum of the factors  of given number.\n",
    "m=1\n",
    "n=6\n",
    "sum=0\n",
    "while m<=n:\n",
    "    if n%m==0:\n",
    "        sum+=m\n",
    "    m+=1\n",
    "print(sum)\n"
   ]
  },
  {
   "cell_type": "code",
   "execution_count": 29,
   "metadata": {},
   "outputs": [
    {
     "name": "stdout",
     "output_type": "stream",
     "text": [
      "3\n"
     ]
    }
   ],
   "source": [
    "#23 wap to prod of the factors  of given number.\n",
    "m=1\n",
    "n=3\n",
    "prod=1\n",
    "while m<=n:\n",
    "    if n%m==0:\n",
    "        prod*=m\n",
    "    m+=1\n",
    "print(prod)"
   ]
  },
  {
   "cell_type": "code",
   "execution_count": 30,
   "metadata": {},
   "outputs": [
    {
     "name": "stdout",
     "output_type": "stream",
     "text": [
      "1\n",
      "2\n",
      "3\n",
      "5\n",
      "8\n"
     ]
    }
   ],
   "source": [
    "#24 wap to print fibonacci series 0 to nth.\n",
    "a=0\n",
    "b=1\n",
    "n=5\n",
    "while n:\n",
    "    c=a+b\n",
    "    print(c)\n",
    "    a,b=b,c\n",
    "    n-=1"
   ]
  },
  {
   "cell_type": "code",
   "execution_count": 2,
   "metadata": {},
   "outputs": [
    {
     "name": "stdout",
     "output_type": "stream",
     "text": [
      "720\n"
     ]
    }
   ],
   "source": [
    "#25 wap to find out the factorial number of given number.\n",
    "m=1\n",
    "n=6\n",
    "prod=1\n",
    "while m<=n:\n",
    "    prod*=m\n",
    "    m+=1\n",
    "print(prod)"
   ]
  },
  {
   "cell_type": "code",
   "execution_count": 1,
   "metadata": {},
   "outputs": [],
   "source": [
    "#26 wap to print the factorial numbers in the given range m to n.\n",
    "m=1\n",
    "n=6\n",
    "prod=1\n",
    "while m<=n:\n",
    "    prod*=m\n",
    "    m+=1"
   ]
  }
 ],
 "metadata": {
  "kernelspec": {
   "display_name": "Python 3",
   "language": "python",
   "name": "python3"
  },
  "language_info": {
   "codemirror_mode": {
    "name": "ipython",
    "version": 3
   },
   "file_extension": ".py",
   "mimetype": "text/x-python",
   "name": "python",
   "nbconvert_exporter": "python",
   "pygments_lexer": "ipython3",
   "version": "3.11.4"
  },
  "orig_nbformat": 4
 },
 "nbformat": 4,
 "nbformat_minor": 2
}
