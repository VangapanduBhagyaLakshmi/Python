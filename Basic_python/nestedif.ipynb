{
 "cells": [
  {
   "cell_type": "code",
   "execution_count": 2,
   "metadata": {},
   "outputs": [
    {
     "name": "stdout",
     "output_type": "stream",
     "text": [
      "[49, 48, 49, 48, 49] [50, 48, 49]\n"
     ]
    }
   ],
   "source": [
    "l1=b\"10101\"\n",
    "l2=b\"201\"\n",
    "if type(l1)==type(l2) and type(l1)in[list,tuple,str,dict,set] and type(l2)in[list,tuple,str,dict,set]:\n",
    "    if type(l1)==list and type(l2)==list:\n",
    "        l1+=l2\n",
    "        print(l1)\n",
    "    elif type(l1)==dict and type(l2)==dict:\n",
    "        l1[\"40\"]=[l2]\n",
    "        print(l1)\n",
    "    elif type(l1)==str and type(l2)==str:\n",
    "        print(l1+l2)\n",
    "    else:\n",
    "        print(tuple(l1)+tuple(l2))\n",
    "elif type(l1)in[int,float] and type(l2)in[int,float,complex]:\n",
    "    print(l1*l2)\n",
    "elif type(l1)in[int,float,bool,type(None)] or type(l2)in[int,float,bool,type(None)]:\n",
    "    print(str(l1),str(l2))\n",
    "elif type(l1)==complex and type(l2)==complex:\n",
    "    print(l1.imag,l2.imag)\n",
    "elif type(l1)==bytes and type(l2)==bytes:\n",
    "    print(list(l1),list(l2))\n",
    "else:\n",
    "    print(\"invalid\")\n"
   ]
  }
 ],
 "metadata": {
  "kernelspec": {
   "display_name": "Python 3",
   "language": "python",
   "name": "python3"
  },
  "language_info": {
   "codemirror_mode": {
    "name": "ipython",
    "version": 3
   },
   "file_extension": ".py",
   "mimetype": "text/x-python",
   "name": "python",
   "nbconvert_exporter": "python",
   "pygments_lexer": "ipython3",
   "version": "3.11.4"
  },
  "orig_nbformat": 4
 },
 "nbformat": 4,
 "nbformat_minor": 2
}
