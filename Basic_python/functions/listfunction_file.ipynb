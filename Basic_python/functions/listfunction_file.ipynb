{
 "cells": [
  {
   "cell_type": "code",
   "execution_count": 7,
   "metadata": {},
   "outputs": [
    {
     "name": "stdout",
     "output_type": "stream",
     "text": [
      "2178814693824 [10, 20, 30, 3, 4, 5]\n",
      "2178814693824 [10, 20, 30, 3, 4, 5, (10, 20)]\n"
     ]
    }
   ],
   "source": [
    "# 1.append\n",
    "l=[10,20,30,3,4,5]\n",
    "print(id(l),l)\n",
    "def u_append(coll,ele):\n",
    "    if type(coll)!=list:\n",
    "        return -1\n",
    "    coll+=[ele]\n",
    "u_append(l,(10,20))\n",
    "print(id(l),l)"
   ]
  },
  {
   "cell_type": "code",
   "execution_count": 5,
   "metadata": {},
   "outputs": [
    {
     "name": "stdout",
     "output_type": "stream",
     "text": [
      "2178810436480 [10, 20, 3, 4]\n",
      "2178810436480 [10, 20, 3, 4, [10, 'haii']]\n"
     ]
    }
   ],
   "source": [
    "l=[10,20,3,4]\n",
    "print(id(l),l)\n",
    "l.append([10,\"haii\"])\n",
    "print(id(l),l)"
   ]
  },
  {
   "cell_type": "code",
   "execution_count": 17,
   "metadata": {},
   "outputs": [
    {
     "name": "stdout",
     "output_type": "stream",
     "text": [
      "2178814805248 [10, 20, 30]\n",
      "2178814805248 [10, 20, 30, 'a']\n"
     ]
    }
   ],
   "source": [
    "# 2.extend\n",
    "l=[10,20,30]\n",
    "print(id(l),l)\n",
    "def u_extend(coll,ele):\n",
    "    if type(coll)!=list:\n",
    "        return -1\n",
    "    if type(ele) not in [str,list,tuple,set,dict]:\n",
    "        return-1\n",
    "    for i in ele:\n",
    "        coll+=[i]\n",
    "u_extend(l,{\"a\":10})\n",
    "print(id(l),l)"
   ]
  },
  {
   "cell_type": "code",
   "execution_count": 18,
   "metadata": {},
   "outputs": [
    {
     "name": "stdout",
     "output_type": "stream",
     "text": [
      "[10, 20, 30, 8, 90]\n"
     ]
    }
   ],
   "source": [
    "l=[10,20,30]\n",
    "l.extend({8,90})\n",
    "print(l)"
   ]
  },
  {
   "cell_type": "code",
   "execution_count": 22,
   "metadata": {},
   "outputs": [
    {
     "name": "stdout",
     "output_type": "stream",
     "text": [
      "['a', 'b', 'hello', 'c', 'd', 'e']\n"
     ]
    }
   ],
   "source": [
    "#3 insert\n",
    "l=[\"a\",\"b\",\"c\",\"d\",\"e\"]\n",
    "def u_insert(coll,index,ele):\n",
    "    if type(coll)!=list:\n",
    "        return -1\n",
    "    coll[index:index]=[ele]\n",
    "u_insert(l,2,\"hello\")\n",
    "print(l)"
   ]
  },
  {
   "cell_type": "code",
   "execution_count": 33,
   "metadata": {},
   "outputs": [
    {
     "name": "stdout",
     "output_type": "stream",
     "text": [
      "['a', 'b', 'hello', 'c', 'd', 'e']\n"
     ]
    }
   ],
   "source": [
    "l=[\"a\",\"b\",\"c\",\"d\",\"e\"]\n",
    "l.insert(2,\"hello\")\n",
    "print(l)"
   ]
  },
  {
   "cell_type": "code",
   "execution_count": 30,
   "metadata": {},
   "outputs": [
    {
     "data": {
      "text/plain": [
       "2"
      ]
     },
     "execution_count": 30,
     "metadata": {},
     "output_type": "execute_result"
    }
   ],
   "source": [
    "#4 count\n",
    "l=[3,5,8,\"hello\",\"apple\",\"hello\",8,8]\n",
    "def u_count(coll,ele):\n",
    "    if type(coll)!=list:\n",
    "        return -1\n",
    "    count=0\n",
    "    for i in coll:\n",
    "        if i==ele:\n",
    "            count+=1\n",
    "    return count\n",
    "u_count(l,\"hello\")"
   ]
  },
  {
   "cell_type": "code",
   "execution_count": 31,
   "metadata": {},
   "outputs": [
    {
     "data": {
      "text/plain": [
       "3"
      ]
     },
     "execution_count": 31,
     "metadata": {},
     "output_type": "execute_result"
    }
   ],
   "source": [
    "l=[3,5,8,\"hello\",\"apple\",\"hello\",8,8]\n",
    "l.count(8)"
   ]
  },
  {
   "cell_type": "code",
   "execution_count": 34,
   "metadata": {},
   "outputs": [
    {
     "data": {
      "text/plain": [
       "3"
      ]
     },
     "execution_count": 34,
     "metadata": {},
     "output_type": "execute_result"
    }
   ],
   "source": [
    "# 5.index\n",
    "l=[3,5,8,\"hello\",\"apple\",\"hello\",8,8]\n",
    "def u_index(coll,ele):\n",
    "    if type(coll)!=list:\n",
    "        return -1\n",
    "    for i in range(0,len(coll)):\n",
    "        if coll[i]==ele:\n",
    "            return i\n",
    "    return -1\n",
    "u_index(l,\"hello\")"
   ]
  },
  {
   "cell_type": "code",
   "execution_count": 38,
   "metadata": {},
   "outputs": [
    {
     "data": {
      "text/plain": [
       "5"
      ]
     },
     "execution_count": 38,
     "metadata": {},
     "output_type": "execute_result"
    }
   ],
   "source": [
    "l=[3,5,8,\"hello\",\"apple\",\"hello\",8,8]\n",
    "def u_index(coll,ele,start=0,end=None):\n",
    "    if type(coll)!=list:\n",
    "        return -1\n",
    "    if end==None:\n",
    "        end=len(coll)\n",
    "    for i in range(start,end):\n",
    "        if coll[i]==ele:\n",
    "            return i\n",
    "    return -1\n",
    "u_index(l,\"hello\",4)"
   ]
  },
  {
   "cell_type": "code",
   "execution_count": 39,
   "metadata": {},
   "outputs": [
    {
     "name": "stdout",
     "output_type": "stream",
     "text": [
      "[8, 8, 'hello', 'apple', 'hello', 8, 5, 3]\n"
     ]
    }
   ],
   "source": [
    "# 6.reverse\n",
    "l=[3,5,8,\"hello\",\"apple\",\"hello\",8,8]\n",
    "def u_reverse(coll):\n",
    "    j=-1\n",
    "    for i in range(0,(len(coll))//2):\n",
    "        coll[i],coll[j]=coll[j],coll[i]\n",
    "        j-=1\n",
    "u_reverse(l)\n",
    "print(l)"
   ]
  },
  {
   "cell_type": "code",
   "execution_count": 4,
   "metadata": {},
   "outputs": [
    {
     "data": {
      "text/plain": [
       "[3, 5, 8, 'hello', 'apple', 'hello', 8, 8]"
      ]
     },
     "execution_count": 4,
     "metadata": {},
     "output_type": "execute_result"
    }
   ],
   "source": [
    "# 7.copy\n",
    "l=[3,5,8,\"hello\",\"apple\",\"hello\",8,8]\n",
    "def u_copy(coll):\n",
    "    if type(coll)!=list:\n",
    "        return -1\n",
    "    res=[]\n",
    "    for i in coll:\n",
    "        res+=[i]\n",
    "    return res\n",
    "u_copy(l)"
   ]
  },
  {
   "cell_type": "code",
   "execution_count": 10,
   "metadata": {},
   "outputs": [
    {
     "name": "stdout",
     "output_type": "stream",
     "text": [
      "1682611460480 [3, 5, 8, 'hello', 'apple', 'hello', 8, 8]\n",
      "1682611460480 [3, 5, 8, 'apple', 'hello', 8, 8]\n"
     ]
    }
   ],
   "source": [
    "#8 pop\n",
    "l=[3,5,8,\"hello\",\"apple\",\"hello\",8,8]\n",
    "print(id(l),l)\n",
    "def u_pop(coll,index=-1):\n",
    "    if type(coll)!=list:\n",
    "        return -1\n",
    "    del coll[index]\n",
    "# u_pop(l)\n",
    "# u_pop(l,4)\n",
    "u_pop(l,-5)\n",
    "print(id(l),l)"
   ]
  },
  {
   "cell_type": "code",
   "execution_count": 14,
   "metadata": {},
   "outputs": [
    {
     "name": "stdout",
     "output_type": "stream",
     "text": [
      "1682615689216 [3, 5, 8, 'hello', 'apple', 'hello', 8, 8]\n",
      "None\n",
      "1682615689216 [3, 5, 'hello', 'apple', 'hello', 8, 8]\n"
     ]
    }
   ],
   "source": [
    "#9 remove\n",
    "l=[3,5,8,\"hello\",\"apple\",\"hello\",8,8]\n",
    "print(id(l),l)\n",
    "def u_remove(coll,ele):\n",
    "    if type(coll)!=list or ele not in coll:\n",
    "        return -1\n",
    "    for i in range(0,len(coll)):\n",
    "        if ele==coll[i]:\n",
    "            del coll[i]\n",
    "            break\n",
    "print(u_remove(l,8))\n",
    "print(id(l),l)"
   ]
  },
  {
   "cell_type": "code",
   "execution_count": 18,
   "metadata": {},
   "outputs": [
    {
     "name": "stdout",
     "output_type": "stream",
     "text": [
      "1682615702528 [3, 5, 8, 'hello', 'apple', 'hello', 8, 8]\n",
      "1682615702528 []\n"
     ]
    }
   ],
   "source": [
    "#10 clear\n",
    "l=[3,5,8,\"hello\",\"apple\",\"hello\",8,8]\n",
    "print(id(l),l)\n",
    "def u_clear(coll):\n",
    "    if type(coll)!=list:\n",
    "        return -1\n",
    "    coll[::]=[]\n",
    "u_clear(l)\n",
    "print(id(l),l)"
   ]
  },
  {
   "cell_type": "code",
   "execution_count": 22,
   "metadata": {},
   "outputs": [
    {
     "name": "stdout",
     "output_type": "stream",
     "text": [
      "[10, 20, 30, 40, 50, 60]\n"
     ]
    }
   ],
   "source": [
    "#11 sort\n",
    "l=[10,40,50,20,30,60]\n",
    "def u_sort(coll):\n",
    "    for i in range(0,len(coll)):\n",
    "        for j in range(0,len(coll)-1):\n",
    "            if coll[j] > coll[j+1]:\n",
    "                coll[j],coll[j+1]=coll[j+1],coll[j]\n",
    "u_sort(l)\n",
    "print(l)"
   ]
  }
 ],
 "metadata": {
  "kernelspec": {
   "display_name": "Python 3",
   "language": "python",
   "name": "python3"
  },
  "language_info": {
   "codemirror_mode": {
    "name": "ipython",
    "version": 3
   },
   "file_extension": ".py",
   "mimetype": "text/x-python",
   "name": "python",
   "nbconvert_exporter": "python",
   "pygments_lexer": "ipython3",
   "version": "3.11.4"
  },
  "orig_nbformat": 4
 },
 "nbformat": 4,
 "nbformat_minor": 2
}
