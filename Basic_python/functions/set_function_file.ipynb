{
 "cells": [
  {
   "cell_type": "code",
   "execution_count": 1,
   "metadata": {},
   "outputs": [
    {
     "name": "stdout",
     "output_type": "stream",
     "text": [
      "2026349604736 {'c', 'a', 'b'}\n",
      "2026349604736 {'c', 'a', 'abc', 'b'}\n"
     ]
    }
   ],
   "source": [
    "# 1.add\n",
    "s={\"a\",\"b\",\"c\"}\n",
    "print(id(s),s)\n",
    "def u_add(coll,ele):\n",
    "    if type(coll)!=set:\n",
    "        return -1\n",
    "    if type(ele) in [list,set,dict]:\n",
    "        return -1\n",
    "    coll|={ele}\n",
    "u_add(s,\"abc\")\n",
    "print(id(s),s)"
   ]
  },
  {
   "cell_type": "code",
   "execution_count": 2,
   "metadata": {},
   "outputs": [
    {
     "name": "stdout",
     "output_type": "stream",
     "text": [
      "2026349604512 {'c', 'a', 'b'}\n",
      "2026349604512 set()\n"
     ]
    }
   ],
   "source": [
    "#2 clear\n",
    "s={\"a\",\"b\",\"c\"}\n",
    "print(id(s),s)\n",
    "def u_clear(coll):\n",
    "    if type(coll)!=set:\n",
    "        return -1\n",
    "    coll-=coll\n",
    "u_clear(s)\n",
    "print(id(s),s)"
   ]
  }
 ],
 "metadata": {
  "kernelspec": {
   "display_name": "Python 3",
   "language": "python",
   "name": "python3"
  },
  "language_info": {
   "codemirror_mode": {
    "name": "ipython",
    "version": 3
   },
   "file_extension": ".py",
   "mimetype": "text/x-python",
   "name": "python",
   "nbconvert_exporter": "python",
   "pygments_lexer": "ipython3",
   "version": "3.11.4"
  },
  "orig_nbformat": 4
 },
 "nbformat": 4,
 "nbformat_minor": 2
}
